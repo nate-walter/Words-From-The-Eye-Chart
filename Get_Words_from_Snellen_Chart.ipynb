{
 "cells": [
  {
   "cell_type": "code",
   "execution_count": 1,
   "id": "c83946e8",
   "metadata": {},
   "outputs": [],
   "source": [
    "from english_words import english_words_set"
   ]
  },
  {
   "cell_type": "code",
   "execution_count": 2,
   "id": "b6992a30",
   "metadata": {},
   "outputs": [],
   "source": [
    "#words = english_words_set"
   ]
  },
  {
   "cell_type": "code",
   "execution_count": 3,
   "id": "777411c1",
   "metadata": {},
   "outputs": [],
   "source": [
    "#len(words)"
   ]
  },
  {
   "cell_type": "markdown",
   "id": "740389d4",
   "metadata": {},
   "source": [
    "#### Making a class to get rid of curly brackets when printing out our set of Snellen Test Card letters"
   ]
  },
  {
   "cell_type": "code",
   "execution_count": 4,
   "id": "c53362dd",
   "metadata": {},
   "outputs": [],
   "source": [
    "class sset(set):\n",
    "    def __str__(self):\n",
    "        return ', '.join([str(i) for i in self])"
   ]
  },
  {
   "cell_type": "markdown",
   "id": "7614f7ae",
   "metadata": {},
   "source": [
    "### As a set"
   ]
  },
  {
   "cell_type": "code",
   "execution_count": 5,
   "id": "7b5ed932",
   "metadata": {},
   "outputs": [],
   "source": [
    "snellen_set = set(['e', 'f', 'p', 't', 'o', 'z', 'l', 'p',\n",
    "                     'e', 'd', 'p', 'e', 'c', 'f', 'd', 'e',\n",
    "                     'd', 'f', 'c', 'z', 'p', 'f', 'e', 'l',\n",
    "                     'o', 'p', 'z', 'd', 'd', 'e', 'f', 'p', \n",
    "                     'o', 't', 'e', 'c', 'l', 'e', 'f', 'o', \n",
    "                     'd', 'p', 'c', 't', 'f', 'd', 'p', 'l', \n",
    "                     't', 'c', 'e', 'o', 'p', 'e', 'z', 'o',\n",
    "                     'l', 'c', 'f', 't', 'd'])"
   ]
  },
  {
   "cell_type": "markdown",
   "id": "bd1f49d1",
   "metadata": {},
   "source": [
    "### As a list"
   ]
  },
  {
   "cell_type": "code",
   "execution_count": 6,
   "id": "3f5a1945",
   "metadata": {},
   "outputs": [],
   "source": [
    "snellen_list = ['e', 'f', 'p', 't', 'o', 'z', 'l', 'p',\n",
    "                     'e', 'd', 'p', 'e', 'c', 'f', 'd', 'e',\n",
    "                     'd', 'f', 'c', 'z', 'p', 'f', 'e', 'l',\n",
    "                     'o', 'p', 'z', 'd', 'd', 'e', 'f', 'p', \n",
    "                     'o', 't', 'e', 'c', 'l', 'e', 'f', 'o', \n",
    "                     'd', 'p', 'c', 't', 'f', 'd', 'p', 'l', \n",
    "                     't', 'c', 'e', 'o', 'p', 'e', 'z', 'o',\n",
    "                     'l', 'c', 'f', 't', 'd']"
   ]
  },
  {
   "cell_type": "code",
   "execution_count": 7,
   "id": "e964a5d8",
   "metadata": {},
   "outputs": [
    {
     "name": "stdout",
     "output_type": "stream",
     "text": [
      "The letters that appear on the Snellen Test Card are: e, f, o, p, d, l, t, z, c\n"
     ]
    }
   ],
   "source": [
    "print(f'The letters that appear on the Snellen Test Card are: {sset(snellen_set)}')"
   ]
  },
  {
   "cell_type": "code",
   "execution_count": 8,
   "id": "8bfc0825",
   "metadata": {},
   "outputs": [
    {
     "name": "stdout",
     "output_type": "stream",
     "text": [
      "There are only 9 unique letters on the Eye Chart\n"
     ]
    }
   ],
   "source": [
    "amount = len(sset(snellen_set))\n",
    "print(f'There are only {amount} unique letters on the Eye Chart')"
   ]
  },
  {
   "cell_type": "markdown",
   "id": "6230d8b0",
   "metadata": {},
   "source": [
    "#### Let's see how many times each letter shows up on the card"
   ]
  },
  {
   "cell_type": "code",
   "execution_count": 9,
   "id": "831d5688",
   "metadata": {},
   "outputs": [
    {
     "data": {
      "text/plain": [
       "[('e', 10),\n",
       " ('p', 9),\n",
       " ('f', 8),\n",
       " ('d', 8),\n",
       " ('o', 6),\n",
       " ('c', 6),\n",
       " ('t', 5),\n",
       " ('l', 5),\n",
       " ('z', 4)]"
      ]
     },
     "execution_count": 9,
     "metadata": {},
     "output_type": "execute_result"
    }
   ],
   "source": [
    "from collections import Counter\n",
    "\n",
    "amount = Counter(snellen_list)\n",
    "amount.most_common()"
   ]
  },
  {
   "cell_type": "code",
   "execution_count": 10,
   "id": "0e6826b6",
   "metadata": {},
   "outputs": [],
   "source": [
    "# trie = {}\n",
    "\n",
    "# for word in words:\n",
    "#         cur = trie\n",
    "#         for l in word:\n",
    "#             cur  = cur.setdefault(l, {})\n",
    "#         cur['word'] = True # defined if this node indicates a complete word"
   ]
  },
  {
   "cell_type": "code",
   "execution_count": 11,
   "id": "6f8d2b14",
   "metadata": {},
   "outputs": [],
   "source": [
    "# def findWords(word, trie = trie, cur = '', words = []):\n",
    "#     for i, letter in enumerate(word):\n",
    "#         if letter in trie:\n",
    "#             if 'word' in trie[letter]:\n",
    "#                 words.append(cur + letter)\n",
    "#             findWords(word[:i] + word[i+1:], trie[letter], cur+letter, words )\n",
    "\n",
    "#     return words\n",
    "# words = findWords(\"epfdoctlz\")"
   ]
  },
  {
   "cell_type": "code",
   "execution_count": 12,
   "id": "ef5d8cec",
   "metadata": {},
   "outputs": [],
   "source": [
    "#words"
   ]
  },
  {
   "cell_type": "code",
   "execution_count": 35,
   "id": "53fc6a21",
   "metadata": {},
   "outputs": [],
   "source": [
    "trie = {}\n",
    "\n",
    "with open('english_words.txt') as words:\n",
    "    for word in map(lambda w: w.strip(), words):\n",
    "        cur = trie\n",
    "        for l in word:\n",
    "            cur  = cur.setdefault(l, {})\n",
    "        cur['word'] = True # defined if this node indicates a complete word"
   ]
  },
  {
   "cell_type": "code",
   "execution_count": 36,
   "id": "e8e51fb8",
   "metadata": {},
   "outputs": [],
   "source": [
    "def findWords(word, trie = trie, cur = '', words = []):\n",
    "    for i, letter in enumerate(word):\n",
    "        if letter in trie:\n",
    "            if 'word' in trie[letter]:\n",
    "                words.append(cur + letter)\n",
    "            findWords(word[:i] + word[i+1:], trie[letter], cur+letter, words )\n",
    "\n",
    "    return words\n",
    "words = findWords(\"epfdoctlz\")"
   ]
  },
  {
   "cell_type": "code",
   "execution_count": 43,
   "id": "3836fc24",
   "metadata": {},
   "outputs": [
    {
     "name": "stdout",
     "output_type": "stream",
     "text": [
      "eplot\n",
      "eft\n",
      "efl\n",
      "ed\n",
      "edplot\n",
      "ecod\n",
      "ecol\n",
      "et\n",
      "el\n",
      "eld\n",
      "elod\n",
      "ezod\n",
      "ped\n",
      "peto\n",
      "pelf\n",
      "pelt\n",
      "pfd\n",
      "pfc\n",
      "poet\n",
      "pod\n",
      "pot\n",
      "pote\n",
      "pole\n",
      "poled\n",
      "polt\n",
      "poz\n",
      "pct\n",
      "pled\n",
      "plf\n",
      "plod\n",
      "ploce\n",
      "plot\n",
      "plote\n",
      "plotz\n",
      "plotzed\n",
      "feod\n",
      "fplot\n",
      "fop\n",
      "fod\n",
      "fol\n",
      "fole\n",
      "fold\n",
      "fcp\n",
      "fled\n",
      "flect\n",
      "flet\n",
      "fld\n",
      "floe\n",
      "floc\n",
      "flot\n",
      "flote\n",
      "fz\n",
      "dep\n",
      "depot\n",
      "dept\n",
      "def\n",
      "deft\n",
      "deco\n",
      "decl\n",
      "delf\n",
      "dpt\n",
      "dope\n",
      "dolce\n",
      "dolt\n",
      "doz\n",
      "doze\n",
      "dl\n",
      "dzo\n",
      "ope\n",
      "oped\n",
      "opt\n",
      "opted\n",
      "oft\n",
      "ode\n",
      "ot\n",
      "ote\n",
      "ol\n",
      "ole\n",
      "olp\n",
      "cep\n",
      "coef\n",
      "coed\n",
      "coped\n",
      "coft\n",
      "code\n",
      "coted\n",
      "coled\n",
      "coz\n",
      "coze\n",
      "cozed\n",
      "cte\n",
      "ctf\n",
      "cle\n",
      "clep\n",
      "clept\n",
      "cleft\n",
      "cled\n",
      "clop\n",
      "clof\n",
      "clod\n",
      "clot\n",
      "clote\n",
      "cloze\n",
      "tef\n",
      "tez\n",
      "tpd\n",
      "to\n",
      "toe\n",
      "toed\n",
      "tope\n",
      "toped\n",
      "tode\n",
      "tole\n",
      "toled\n",
      "told\n",
      "toze\n",
      "tlo\n",
      "le\n",
      "lep\n",
      "lept\n",
      "left\n",
      "lect\n",
      "let\n",
      "lez\n",
      "loed\n",
      "loped\n",
      "lofted\n",
      "lode\n",
      "lote\n",
      "zo\n",
      "zod\n",
      "zlote\n"
     ]
    }
   ],
   "source": [
    "for word in words:\n",
    "    if len(word) >= 2:\n",
    "        print(word)"
   ]
  },
  {
   "cell_type": "code",
   "execution_count": 44,
   "id": "6debc74e",
   "metadata": {},
   "outputs": [
    {
     "data": {
      "text/plain": [
       "133"
      ]
     },
     "execution_count": 44,
     "metadata": {},
     "output_type": "execute_result"
    }
   ],
   "source": [
    "len(words)"
   ]
  },
  {
   "cell_type": "code",
   "execution_count": null,
   "id": "5686962a",
   "metadata": {},
   "outputs": [],
   "source": []
  }
 ],
 "metadata": {
  "kernelspec": {
   "display_name": "firstEnv",
   "language": "python",
   "name": "firstenv"
  },
  "language_info": {
   "codemirror_mode": {
    "name": "ipython",
    "version": 3
   },
   "file_extension": ".py",
   "mimetype": "text/x-python",
   "name": "python",
   "nbconvert_exporter": "python",
   "pygments_lexer": "ipython3",
   "version": "3.9.6"
  },
  "toc": {
   "base_numbering": 1,
   "nav_menu": {},
   "number_sections": true,
   "sideBar": true,
   "skip_h1_title": false,
   "title_cell": "Table of Contents",
   "title_sidebar": "Contents",
   "toc_cell": false,
   "toc_position": {},
   "toc_section_display": true,
   "toc_window_display": false
  }
 },
 "nbformat": 4,
 "nbformat_minor": 5
}

{
 "cells": [
  {
   "cell_type": "markdown",
   "id": "45b3fd93",
   "metadata": {},
   "source": [
    "## You shall know a word by the company it keeps! — J.R.Firth(1957)\n"
   ]
  },
  {
   "cell_type": "markdown",
   "id": "a80adb18",
   "metadata": {},
   "source": [
    "# I've often wondered how many words you could make using just the letters of the Eye Chart. It sounds like a perfect task for Data Science and Python. So here we go"
   ]
  },
  {
   "cell_type": "markdown",
   "id": "76d02414",
   "metadata": {},
   "source": [
    "## A look at the Eye Chart we'll be using –<br>Invented by Dutch ophthalmologist Herman Snellen in 1862"
   ]
  },
  {
   "cell_type": "markdown",
   "id": "77269246",
   "metadata": {},
   "source": [
    "<div>\n",
    "<img src=\"https://m.media-amazon.com/images/I/61E6y6tsEYL._AC_SY879_.jpg\" align=\"center\" width=\"190\" height=\"250\">\n",
    "</div>\n",
    "<!-- <div>\n",
    "<img src=\"attachment:snellen_word_chard2.jpg\" align=\"center\" width=\"190\" height=\"250\">\n",
    "</div> -->\n",
    "\n",
    "<!-- <div>\n",
    "<img src=\"attachment:snellen_words_chart.jpeg\" width=\"200\" height=\"300\" align=\"center\">\n",
    "</div> -->"
   ]
  },
  {
   "cell_type": "markdown",
   "id": "98fbf727",
   "metadata": {},
   "source": [
    "### The Eye Chart letters as a set"
   ]
  },
  {
   "cell_type": "code",
   "execution_count": 1,
   "id": "3de09271",
   "metadata": {},
   "outputs": [
    {
     "data": {
      "text/plain": [
       "9"
      ]
     },
     "execution_count": 1,
     "metadata": {},
     "output_type": "execute_result"
    }
   ],
   "source": [
    "snellen_set = set(['e', 'f', 'p', 't', 'o', 'z', 'l', 'p',\n",
    "                     'e', 'd', 'p', 'e', 'c', 'f', 'd', 'e',\n",
    "                     'd', 'f', 'c', 'z', 'p', 'f', 'e', 'l',\n",
    "                     'o', 'p', 'z', 'd', 'd', 'e', 'f', 'p', \n",
    "                     'o', 't', 'e', 'c', 'l', 'e', 'f', 'o', \n",
    "                     'd', 'p', 'c', 't', 'f', 'd', 'p', 'l', \n",
    "                     't', 'c', 'e', 'o', 'p', 'e', 'z', 'o',\n",
    "                     'l', 'c', 'f', 't', 'd'])\n",
    "snellen_set = list(snellen_set)\n",
    "len(snellen_set)"
   ]
  },
  {
   "cell_type": "markdown",
   "id": "3e7e6489",
   "metadata": {},
   "source": [
    "### As a list"
   ]
  },
  {
   "cell_type": "code",
   "execution_count": 2,
   "id": "609c5094",
   "metadata": {},
   "outputs": [
    {
     "data": {
      "text/plain": [
       "61"
      ]
     },
     "execution_count": 2,
     "metadata": {},
     "output_type": "execute_result"
    }
   ],
   "source": [
    "snellen_list = ['e', 'f', 'p', 't', 'o', 'z', 'l', 'p',\n",
    "                     'e', 'd', 'p', 'e', 'c', 'f', 'd', 'e',\n",
    "                     'd', 'f', 'c', 'z', 'p', 'f', 'e', 'l',\n",
    "                     'o', 'p', 'z', 'd', 'd', 'e', 'f', 'p', \n",
    "                     'o', 't', 'e', 'c', 'l', 'e', 'f', 'o', \n",
    "                     'd', 'p', 'c', 't', 'f', 'd', 'p', 'l', \n",
    "                     't', 'c', 'e', 'o', 'p', 'e', 'z', 'o',\n",
    "                     'l', 'c', 'f', 't', 'd']\n",
    "len(snellen_list)"
   ]
  },
  {
   "cell_type": "markdown",
   "id": "ae00c1e2",
   "metadata": {},
   "source": [
    "Making a class that get's rid of curly brackets when printing out our set of Letters"
   ]
  },
  {
   "cell_type": "code",
   "execution_count": 3,
   "id": "82a142e7",
   "metadata": {},
   "outputs": [],
   "source": [
    "class sset(set):\n",
    "    def __str__(self):\n",
    "        return ', '.join([str(i) for i in self])"
   ]
  },
  {
   "cell_type": "code",
   "execution_count": 4,
   "id": "6c508d33",
   "metadata": {},
   "outputs": [
    {
     "name": "stdout",
     "output_type": "stream",
     "text": [
      "There are only 9 unique letters on the Eye Chart\n",
      "And there are 61 total letters  on the Chart\n"
     ]
    }
   ],
   "source": [
    "amount = len(sset(snellen_set))\n",
    "chart_lenght = len(snellen_list)\n",
    "print(f'There are only {amount} unique letters on the Eye Chart')\n",
    "print(f'And there are {chart_lenght} total letters  on the Chart')"
   ]
  },
  {
   "cell_type": "markdown",
   "id": "b42eaaa4",
   "metadata": {},
   "source": [
    "#### Since the letters appear on the Eye Chart as block letters<br> let's convert them to upper case in our output"
   ]
  },
  {
   "cell_type": "code",
   "execution_count": 5,
   "id": "05b1b886",
   "metadata": {},
   "outputs": [],
   "source": [
    "for i in range(len(snellen_set)):\n",
    "    snellen_set[i] = snellen_set[i].upper()"
   ]
  },
  {
   "cell_type": "code",
   "execution_count": 6,
   "id": "1dc00ca9",
   "metadata": {},
   "outputs": [
    {
     "name": "stdout",
     "output_type": "stream",
     "text": [
      "The letters that appear on the Snellen Test Card are: C, D, E, P, F, L, Z, O, T\n"
     ]
    }
   ],
   "source": [
    "print(f'The letters that appear on the Snellen Test Card are: {sset(snellen_set)}')"
   ]
  },
  {
   "cell_type": "markdown",
   "id": "a4cc3084",
   "metadata": {},
   "source": [
    "## Let's count how many times each letter shows up on the card"
   ]
  },
  {
   "cell_type": "markdown",
   "id": "f3e181a4",
   "metadata": {},
   "source": [
    "#### Making the letters upper case for our count output"
   ]
  },
  {
   "cell_type": "code",
   "execution_count": 7,
   "id": "78b29b0b",
   "metadata": {},
   "outputs": [],
   "source": [
    "for i in range(len(snellen_list)):\n",
    "    snellen_list[i] = snellen_list[i].upper()"
   ]
  },
  {
   "cell_type": "code",
   "execution_count": 8,
   "id": "dc43e25a",
   "metadata": {},
   "outputs": [
    {
     "name": "stdout",
     "output_type": "stream",
     "text": [
      "Here's how frequently each letter appears on the test card\n"
     ]
    },
    {
     "data": {
      "text/plain": [
       "[('E', 10),\n",
       " ('P', 9),\n",
       " ('F', 8),\n",
       " ('D', 8),\n",
       " ('O', 6),\n",
       " ('C', 6),\n",
       " ('T', 5),\n",
       " ('L', 5),\n",
       " ('Z', 4)]"
      ]
     },
     "execution_count": 8,
     "metadata": {},
     "output_type": "execute_result"
    }
   ],
   "source": [
    "from collections import Counter\n",
    "\n",
    "amount = Counter(snellen_list)\n",
    "\n",
    "print(\"Here's how frequently each letter appears on the test card\")\n",
    "amount.most_common()"
   ]
  },
  {
   "cell_type": "code",
   "execution_count": 9,
   "id": "f0c96d28",
   "metadata": {},
   "outputs": [],
   "source": [
    "import seaborn as sns\n",
    "import matplotlib.pyplot as plt"
   ]
  },
  {
   "cell_type": "markdown",
   "id": "8895a7de",
   "metadata": {},
   "source": [
    "## Bringing in the NLTK Corpus"
   ]
  },
  {
   "cell_type": "code",
   "execution_count": 10,
   "id": "2cf4d4f2",
   "metadata": {},
   "outputs": [
    {
     "name": "stderr",
     "output_type": "stream",
     "text": [
      "[nltk_data] Downloading package words to\n",
      "[nltk_data]     /Users/nathanwalter/nltk_data...\n",
      "[nltk_data]   Package words is already up-to-date!\n"
     ]
    },
    {
     "data": {
      "text/plain": [
       "True"
      ]
     },
     "execution_count": 10,
     "metadata": {},
     "output_type": "execute_result"
    }
   ],
   "source": [
    "import nltk\n",
    "nltk.download('words')"
   ]
  },
  {
   "cell_type": "code",
   "execution_count": 11,
   "id": "74e33b2b",
   "metadata": {},
   "outputs": [
    {
     "name": "stdout",
     "output_type": "stream",
     "text": [
      "There are 236,736 words for us to reference in nltk\n"
     ]
    }
   ],
   "source": [
    "from nltk.corpus import words\n",
    "word_list = words.words()\n",
    "length_nltk = (len(word_list))\n",
    "\n",
    "print(f\"There are {length_nltk:,} words for us to reference in nltk\")"
   ]
  },
  {
   "cell_type": "markdown",
   "id": "48ea24d9",
   "metadata": {},
   "source": [
    "# Using Trie to create a list of eye chart words from NLTK "
   ]
  },
  {
   "cell_type": "code",
   "execution_count": 12,
   "id": "355ecff1",
   "metadata": {},
   "outputs": [],
   "source": [
    "trie = {}\n",
    "\n",
    "for word in word_list:\n",
    "    cur = trie\n",
    "    for l in word:\n",
    "        cur  = cur.setdefault(l, {})\n",
    "        cur['word'] = True # defined if this node indicates a complete word\n",
    "        \n",
    "def findWords(word, trie = trie, cur = '', word_list = []):\n",
    "    for i, letter in enumerate(word):\n",
    "        if letter in trie:\n",
    "            if 'word' in trie[letter]:\n",
    "                word_list.append(cur + letter)\n",
    "            findWords(word, trie[letter], cur+letter, word_list )    \n",
    "            # first example: findWords(word[:i] + word[i+1:], trie[letter], cur+letter, word_list )\n",
    "\n",
    "    return word_list\n",
    "\n",
    "words_longer = findWords(\"epfdoctlz\")"
   ]
  },
  {
   "cell_type": "code",
   "execution_count": 13,
   "id": "8ab64d8f",
   "metadata": {},
   "outputs": [
    {
     "name": "stdout",
     "output_type": "stream",
     "text": [
      "['ee', 'eel', 'eele', 'eelp', 'eelpo', 'eelpot', 'eelf', 'eelc', 'eell', 'ep', 'epe', 'epee', 'epep', 'epepo', 'epepop', 'eped', 'epo', 'epop', 'epope', 'epopee', 'epopo', 'epopoe', 'epopt', 'epopte', 'epod', 'epode', 'epoo', 'epoop', 'epoc', 'epol', 'epoll', 'ef', 'eff', 'effe', 'effec', 'effect', 'effecte', 'effectf', 'effecto', 'effectl', 'effectle', 'effet', 'effete', 'effo', 'effod', 'effl', 'efflo', 'efo', 'efol', 'eft', 'efte', 'efl', 'ed', 'ede', 'edeo', 'edeod', 'edeot', 'edeoto', 'edeol', 'edeolo', 'edel', 'edd', 'edde', 'eddo', 'eo', 'eop', 'eol', 'eoz', 'eozo', 'eozoo', 'ec', 'ece', 'ecp', 'ecd', 'ecde', 'eco', 'ecop', 'ecot', 'ecoto', 'ecol', 'ecole', 'ecolo', 'ecc', 'ecce', 'ecco', 'eccop', 'eccl', 'eccle', 'ect', 'ecte', 'ectep', 'ectet', 'ecto', 'ectoe', 'ectoet', 'ectop', 'ectopt', 'ectopte', 'ectopl', 'ectod', 'ectode', 'ectoc', 'ectoco', 'ectocoe', 'ectocoel', 'ectot', 'ectoto', 'ectol', 'ectole', 'ectolec', 'ectolo', 'ectolop', 'ectoz', 'ectozo', 'ectozoo', 'ecl', 'ecle', 'eclec', 'eclect', 'eclo', 'ecz', 'ecze', 'et', 'ete', 'etc', 'ett', 'ettl', 'ettle', 'el', 'ele', 'elee', 'elep', 'eleo', 'eleop', 'eleopt', 'eleopte', 'eleol', 'elec', 'elect', 'electe', 'electee', 'electo', 'electl', 'elp', 'elf', 'elfe', 'elfl', 'elflo', 'elfloc', 'eld', 'elde', 'elo', 'elop', 'elope', 'elod', 'eloc', 'elot', 'elc', 'elt', 'ell', 'elle', 'ellec', 'ellf', 'ello', 'ellop', 'ez', 'pe', 'pee', 'peep', 'peepe', 'peed', 'peeo', 'peet', 'peel', 'peele', 'peeled', 'pep', 'pepe', 'pepp', 'peppe', 'pepf', 'pepo', 'pept', 'pepto', 'peptot', 'peptoto', 'peptol', 'pepl', 'peplo', 'ped', 'pede', 'pedee', 'pedet', 'pedete', 'pedel', 'pedd', 'pedde', 'peddl', 'peddle', 'pedo', 'pedop', 'pedod', 'pedodo', 'pedoc', 'pedot', 'pedol', 'pedolo', 'pedl', 'peo', 'peop', 'peopl', 'people', 'peopled', 'peopledo', 'peoplet', 'peoplel', 'peoplele', 'peot', 'peoto', 'pec', 'peco', 'pecop', 'pecopt', 'pecopte', 'pecc', 'pect', 'pecte', 'pecto', 'pectoc', 'pectoce', 'pectocel', 'pectocell', 'pectol', 'pet', 'pete', 'petec', 'petf', 'peto', 'petc', 'petco', 'petcoc', 'pett', 'pette', 'petted', 'pettedl', 'pettl', 'pettle', 'petl', 'petz', 'pel', 'pele', 'pelec', 'pelel', 'pelf', 'pelo', 'pelod', 'pelot', 'peloto', 'pelt', 'pelte', 'peltl', 'peltle', 'pell', 'pelle', 'pellet', 'pellete', 'pelleted', 'pelletl', 'pello', 'pelloc', 'pellot', 'pez', 'pezo', 'pf', 'pfe', 'pfef', 'pfeff', 'pfeffe', 'po', 'poe', 'poep', 'poec', 'poet', 'poete', 'poetd', 'poetdo', 'poeto', 'poetc', 'poetl', 'poetle', 'pop', 'pope', 'poped', 'popedo', 'popel', 'popele', 'popp', 'poppe', 'poppet', 'poppel', 'poppl', 'popple', 'popd', 'popdo', 'popdoc', 'popo', 'popc', 'popco', 'popl', 'poplo', 'poplol', 'poploll', 'pod', 'pode', 'podeo', 'podet', 'podel', 'podelc', 'podelco', 'podd', 'podde', 'podded', 'poddl', 'poddle', 'podo', 'podop', 'podod', 'podode', 'podoc', 'podoce', 'podocep', 'podot', 'podol', 'podolo', 'podl', 'podle', 'podz', 'podzo', 'podzol', 'poo', 'poop', 'poope', 'pooped', 'poof', 'pood', 'poode', 'poodl', 'poodle', 'poodled', 'poodledo', 'pooc', 'poot', 'pool', 'poole', 'poc', 'poco', 'pococ', 'pot', 'pote', 'potee', 'potec', 'potp', 'potpo', 'potf', 'potd', 'poto', 'potoo', 'potc', 'pott', 'potte', 'potted', 'potto', 'pottl', 'pottle', 'pottled', 'potl', 'potle', 'pol', 'pole', 'polec', 'polel', 'polele', 'pold', 'polde', 'polo', 'poloc', 'poloco', 'polt', 'polte', 'poltf', 'poltfo', 'poltfoo', 'poltfoot', 'poltfoote', 'poltfooted', 'polto', 'poltop', 'poll', 'polle', 'polled']\n"
     ]
    }
   ],
   "source": [
    "longer_list = []\n",
    "\n",
    "for word in words_longer:\n",
    "    if len(word) > 1:\n",
    "        longer_list.append(word)\n",
    "print(longer_list[:400]) "
   ]
  },
  {
   "cell_type": "code",
   "execution_count": 14,
   "id": "1547b50b",
   "metadata": {},
   "outputs": [
    {
     "name": "stdout",
     "output_type": "stream",
     "text": [
      " The trie approach to finding words formed from letters of the eye chart \n",
      "using nltk, returns 1,722 words. But, if you look closely, you'll see that it\n",
      "is comprised of mostly fragments of full English words. Let's try to improve upon this.\n"
     ]
    }
   ],
   "source": [
    "word_list_length = len(longer_list)\n",
    "print(f\"\"\" The trie approach to finding words formed from letters of the eye chart \n",
    "using nltk, returns{word_list_length: ,} words. But, if you look closely, you'll see that it\n",
    "is comprised of mostly fragments of full English words. Let's try to improve upon this.\"\"\")"
   ]
  },
  {
   "cell_type": "markdown",
   "id": "e62881ce",
   "metadata": {},
   "source": [
    "# Let's use the trie with another word list and call it words3"
   ]
  },
  {
   "cell_type": "code",
   "execution_count": 15,
   "id": "429bd0b1",
   "metadata": {},
   "outputs": [],
   "source": [
    "# Find the words3 word list here:  svnweb.freebsd.org/base/head/share/dict/web2?view=co\n",
    "\n",
    "trie = {}\n",
    "\n",
    "with open('/Users/nathanwalter/jobsearch/Eye-Chart-Words/Data/web2.txt') as words3:\n",
    "\n",
    "\n",
    "    for word in words3:\n",
    "        cur = trie\n",
    "        for l in word:\n",
    "            cur  = cur.setdefault(l, {})\n",
    "            cur['word'] = True # defined if this node indicates a complete word\n",
    "        \n",
    "def findWords(word, trie = trie, cur = '', words3 = []):\n",
    "    for i, letter in enumerate(word):\n",
    "        if letter in trie:\n",
    "            if 'word' in trie[letter]:\n",
    "                words3.append(cur)\n",
    "            findWords(word, trie[letter], cur+letter, words3 )    \n",
    "            # first example: findWords(word[:i] + word[i+1:], trie[letter], cur+letter, word_list )\n",
    "\n",
    "    return [word for word in words3 if word in words3]\n",
    "\n",
    "words3 = findWords(\"epfdoctlz\")"
   ]
  },
  {
   "cell_type": "code",
   "execution_count": 16,
   "id": "133bd923",
   "metadata": {},
   "outputs": [
    {
     "name": "stdout",
     "output_type": "stream",
     "text": [
      "['ce', 'cel', 'cellep', 'celot', 'cept', 'cet', 'cetoto', 'cle', 'clefte', 'clep', 'clet', 'clo', 'clodle', 'clodp', 'clodpo', 'clodpol', 'clot', 'clotte', 'cocot', 'cocott', 'cocozell', 'coct', 'cocto', 'cod', 'code', 'codo', 'coeff', 'coeffec', 'coel', 'coelo', 'coelop', 'coeloz', 'cof', 'cofeo', 'cofeoffe', 'coffeel', 'coffl', 'col', 'cold', 'cole', 'colect', 'coleo', 'coleopt', 'collect', 'collope', 'colo', 'coloc', 'coloce', 'coloco', 'colot', 'colpoce', 'colpop', 'colpopt', 'colpot', 'coo', 'cood', 'cooe', 'cootf', 'cope', 'copel', 'copep', 'copepo', 'copepod', 'coplo', 'coplot', 'copple', 'cote', 'cotell', 'cotte', 'cteto', 'ctetol', 'deced', 'decod', 'decol', 'decoll', 'decollet', 'decop', 'decopp', 'ded', 'dedec', 'dedo', 'dee', 'deede', 'deedee', 'deep', 'def', 'defec', 'defecto', 'defectol', 'defl', 'deflec', 'deflect', 'deflecte', 'deflo', 'defloc', 'defo', 'defoe', 'del', 'delf', 'dell', 'delt', 'deoc', 'deoz', 'depet', 'deple', 'det', 'dete', 'detec', 'doc', 'dodd', 'dode', 'dodl', 'dol', 'dole', 'dolld', 'dooc', 'dooco', 'dood', 'dool', 'doole', 'dopp', 'doppe', 'doppl', 'dot', 'dotl', 'dott', 'dotte', 'dottl', 'doz', 'doze', 'dozz', 'dozzl', 'dozzle', 'dz', 'ecd', 'ecl', 'eclec', 'ecte', 'ectoc', 'ectod', 'ectole', 'ectolo', 'ectozo', 'ed', 'ede', 'ee', 'eel', 'eelpo', 'eff', 'effe', 'effec', 'effectl', 'effo', 'efo', 'eft', 'eld', 'elec', 'electe', 'eleo', 'eleop', 'elfl', 'eo', 'ep', 'epe', 'epo', 'epod', 'epol', 'epoo', 'epopt', 'ett', 'ettl', 'fec', 'fed', 'feet', 'feez', 'fel', 'felt', 'feoffe', 'fet', 'fetlo', 'feto', 'fetop', 'fett', 'fez', 'fezze', 'fl', 'fle', 'flec', 'fleecef', 'fleecefl', 'fleecel', 'flet', 'flo', 'floc', 'flocc', 'floco', 'flood', 'floodc', 'floode', 'floodle', 'flopp', 'fo', 'fodd', 'foldc', 'folded', 'folle', 'foo', 'foodl', 'fool', 'footcl', 'footlo', 'fooz', 'fot', 'lec', 'leco', 'lee', 'leop', 'leopol', 'lepo', 'leptod', 'leptope', 'loco', 'locod', 'locof', 'locofo', 'locofoc', 'lol', 'loll', 'loop', 'lop', 'lopp', 'loppe', 'loto', 'lott', 'loz', 'oc', 'ocl', 'oclo', 'oco', 'octe', 'octo', 'octoc', 'octod', 'octope', 'octopl', 'octopod', 'odd', 'odel', 'odol', 'oeco', 'oecod', 'ofle', 'oflet', 'ol', 'old', 'ole', 'oleo', 'oleoc', 'oodl', 'ooe', 'ooz', 'oozo', 'ope', 'opo', 'opod', 'opodel', 'opodeldo', 'opto', 'optol', 'ot', 'otel', 'oto', 'otoc', 'otoce', 'otop', 'ott', 'pec', 'pecop', 'pecto', 'pectoc', 'pectocel', 'peep', 'pel', 'pellet', 'pello', 'pelo', 'peop', 'peopl', 'people', 'peoplel', 'pep', 'pepl', 'pepp', 'pepto', 'pet', 'petc', 'petted', 'pfe', 'pl', 'ple', 'plec', 'plecopt', 'plectop', 'plectopt', 'pleod', 'pleopo', 'ploc', 'plod', 'pod', 'pode', 'podelc', 'podoc', 'podol', 'podzo', 'poe', 'poet', 'poetd', 'poetl', 'pol', 'pole', 'polel', 'pollet', 'polo', 'poloc', 'poltf', 'poltfoo', 'pood', 'poodl', 'poope', 'pop', 'pope', 'popp', 'poppe', 'poppl', 'pot', 'potl', 'potp', 'pott', 'pozz', 'pozzo', 'pto', 'te', 'tecto', 'tectoce', 'tectol', 'tee', 'tel', 'teleco', 'telele', 'telelec', 'teleoc', 'teleop', 'telep', 'telf', 'telo', 'telod', 'telol', 'tepe', 'toc', 'tod', 'todd', 'toet', 'toffe', 'tol', 'toll', 'tollp', 'toodl', 'toodle', 'toodleloo', 'toodleloodl', 'toot', 'tooz', 'toozo', 'top', 'topec', 'topect', 'topep', 'topl', 'toplo', 'toplof', 'tottl', 'tz', 'zec', 'zed', 'zee', 'zep', 'zl', 'zo', 'zoccol', 'zoe', 'zoef', 'zol', 'zoll', 'zollp', 'zoo', 'zooco', 'zool', 'zoot', 'zootot', 'zooz']\n"
     ]
    }
   ],
   "source": [
    "third_list = []\n",
    "\n",
    "for word in words3:\n",
    "    if len(word) > 1:\n",
    "        third_list.append(word)\n",
    "third_list = set(third_list)   \n",
    "third_list = list(third_list)\n",
    "print(sorted(third_list[:400]))"
   ]
  },
  {
   "cell_type": "code",
   "execution_count": 17,
   "id": "76db9476",
   "metadata": {},
   "outputs": [
    {
     "name": "stdout",
     "output_type": "stream",
     "text": [
      " Words3 which uses a different list of words than NLTK,\n",
      "returns 931 words from the eye chart. \n",
      "However, upon closer inspection, most of these are the repeating beginnings of words. \n",
      "This is not the result we are looking for.\n"
     ]
    }
   ],
   "source": [
    "words3_length = len(third_list)\n",
    "print(f\"\"\" Words3 which uses a different list of words than NLTK,\n",
    "returns {words3_length} words from the eye chart. \n",
    "However, upon closer inspection, most of these are the repeating beginnings of words. \n",
    "This is not the result we are looking for.\"\"\")"
   ]
  },
  {
   "cell_type": "markdown",
   "id": "a64f0324",
   "metadata": {},
   "source": [
    "# Shifting away from trie for now"
   ]
  },
  {
   "cell_type": "markdown",
   "id": "9e85e124",
   "metadata": {},
   "source": [
    "## Switching to Enchant"
   ]
  },
  {
   "cell_type": "code",
   "execution_count": 18,
   "id": "c617c56b",
   "metadata": {},
   "outputs": [],
   "source": [
    "# uncomment below if you don't have enchant installed already\n",
    "#!pip install pyenchant"
   ]
  },
  {
   "cell_type": "code",
   "execution_count": 19,
   "id": "76eec7a3",
   "metadata": {},
   "outputs": [],
   "source": [
    "from itertools import permutations\n",
    "import enchant"
   ]
  },
  {
   "cell_type": "code",
   "execution_count": 20,
   "id": "2fd5defa",
   "metadata": {},
   "outputs": [],
   "source": [
    "# https://www.youtube.com/watch?v=nLWi-2b_OjE\n",
    "\n",
    "d = enchant.Dict(\"en_US\")\n",
    "op = set()\n",
    "\n",
    "inp = \"epfdoctlz\"\n",
    "letter = [x.lower() for x in inp]\n",
    "\n",
    "def enchanted_snellen(inp):\n",
    "    for n in range(len(inp)):\n",
    "        for y in list(permutations(letter, n)):\n",
    "            z = ''.join(y)\n",
    "            if len(z) > 1:\n",
    "                if d.check(z):\n",
    "                    op.add(z)\n",
    "    return list(op)\n",
    "enchant_snellen = enchanted_snellen(inp)"
   ]
  },
  {
   "cell_type": "code",
   "execution_count": 21,
   "id": "68282a77",
   "metadata": {},
   "outputs": [
    {
     "name": "stdout",
     "output_type": "stream",
     "text": [
      "['cf', 'cl', 'clef', 'cleft', 'clod', 'clop', 'clot', 'co', 'cod', 'code', 'coed', 'col', 'cold', 'colt', 'cop', 'cope', 'coped', 'cot', 'cote', 'cpd', 'cpl', 'ct', 'dc', 'def', 'deft', 'delft', 'depot', 'dept', 'do', 'doc', 'doe', 'dole', 'dolt', 'dope', 'dot', 'dote', 'doz', 'doze', 'dpt', 'dz', 'ecol', 'ed', 'elf', 'etc', 'fed', 'felt', 'fez', 'fl', 'fled', 'floe', 'flop', 'flt', 'foe', 'fol', 'fold', 'fop', 'ft', 'ftp', 'led', 'left', 'let', 'lo', 'lode', 'loft', 'lofted', 'lop', 'lope', 'loped', 'lot', 'ltd', 'ode', 'of', 'oft', 'old', 'ole', 'op', 'ope', 'oped', 'opt', 'opted', 'oz', 'pct', 'pd', 'pelf', 'pelt', 'pet', 'pf', 'pl', 'plod', 'plot', 'pod', 'poet', 'pol', 'pole', 'poled', 'pot', 'pt', 'ted', 'tel', 'to', 'toe', 'toed', 'told', 'tole', 'top', 'zed']\n"
     ]
    }
   ],
   "source": [
    "print(sorted(enchant_snellen))"
   ]
  },
  {
   "cell_type": "code",
   "execution_count": 22,
   "id": "aad6f273",
   "metadata": {},
   "outputs": [
    {
     "name": "stdout",
     "output_type": "stream",
     "text": [
      " Enchant prints out a beautiful list of full English words. \n",
      "It is only 106 words long, though. I think it can be\n",
      "improve upon.\n"
     ]
    }
   ],
   "source": [
    "enchant_length = len(enchant_snellen)\n",
    "print(f\"\"\" Enchant prints out a beautiful list of full English words. \n",
    "It is only {enchant_length} words long, though. I think it can be\n",
    "improve upon.\"\"\")"
   ]
  },
  {
   "cell_type": "markdown",
   "id": "f0c03767",
   "metadata": {},
   "source": [
    "# For loop with Break using NLTK word list"
   ]
  },
  {
   "cell_type": "code",
   "execution_count": 23,
   "id": "c34bd02d",
   "metadata": {},
   "outputs": [
    {
     "name": "stdout",
     "output_type": "stream",
     "text": [
      "['ce', 'cede', 'cee', 'cell', 'celled', 'cello', 'celt', 'cep', 'cepe', 'cled', 'clee', 'clef', 'cleft', 'clefted', 'clep', 'clod', 'clodlet', 'clodpoll', 'cloff', 'cloof', 'cloop', 'cloot', 'clop', 'clot', 'clote', 'cocco', 'coco', 'cocotte', 'cocozelle', 'cod', 'coddle', 'code', 'codo', 'codol', 'coe', 'coed', 'coeffect', 'coelect', 'cofeoffee', 'coff', 'coffee', 'coffeepot', 'coffle', 'coft', 'col', 'cold', 'cole', 'coll', 'collect', 'collected', 'collet', 'collop', 'colloped', 'colp', 'colpeo', 'colpocele', 'colt', 'coo', 'coodle', 'cooee', 'coof', 'cool', 'coop', 'coot', 'cootfoot', 'cop', 'cope', 'copepod', 'copped', 'coppet', 'copple', 'coppled', 'cot', 'cote', 'coto', 'cotte', 'cotted', 'coz', 'coze', 'de', 'decoct', 'decode', 'decollete', 'dedo', 'dee', 'deed', 'deedeed', 'deep', 'defect', 'deflect', 'deflected', 'deft', 'dele', 'delete', 'delf', 'delft', 'dell', 'depeople', 'deplete', 'depot', 'detect', 'do', 'doc', 'dod', 'dodd', 'dodded', 'doddle', 'dodlet', 'dodo', 'doe', 'doff', 'dole', 'doll', 'dollop', 'dolt', 'doocot', 'doodle', 'dool', 'doolee', 'dop', 'dope', 'dot', 'dote', 'doted', 'dotted', 'dottle', 'doze', 'dozed', 'dozzled', 'ecole', 'eddo', 'eel', 'eelpot', 'effect', 'effete', 'eft', 'el', 'eld', 'elect', 'electee', 'elf', 'ell', 'elle', 'elod', 'elope', 'elt', 'epee', 'epode', 'epopee', 'epopt', 'ettle', 'fe', 'fed', 'fee', 'feed', 'feel', 'feeze', 'fell', 'felloe', 'felt', 'felted', 'feod', 'feoff', 'feoffee', 'fet', 'fettle', 'fez', 'fezzed', 'fled', 'flee', 'fleece', 'fleeced', 'fleet', 'flet', 'floc', 'floe', 'flood', 'flooded', 'floodlet', 'flop', 'flot', 'fod', 'foe', 'fold', 'folded', 'fole', 'foo', 'food', 'fool', 'foot', 'footed', 'footle', 'foozle', 'fop', 'fot', 'led', 'lede', 'ledol', 'lee', 'leed', 'leep', 'leet', 'left', 'let', 'lete', 'letoff', 'lo', 'loco', 'locofoco', 'lod', 'lode', 'lof', 'loft', 'loll', 'lollop', 'loo', 'lood', 'loof', 'loop', 'looplet', 'loot', 'lop', 'lope', 'loppet', 'lot', 'lote', 'lotto', 'ocelot', 'ocote', 'octet', 'octoped', 'octopede', 'octopod', 'od', 'odd', 'ode', 'odel', 'odelet', 'oe', 'of', 'off', 'offlet', 'oflete', 'oft', 'old', 'oleo', 'olpe', 'oopod', 'ooze', 'ope', 'opelet', 'opodeldoc', 'opt', 'otto', 'ped', 'peddle', 'pedee', 'pee', 'peed', 'peel', 'peele', 'peeled', 'peep', 'pelf', 'pell', 'pellet', 'pelleted', 'pelt', 'people', 'peoplet', 'pep', 'pepo', 'pet', 'pete', 'peto', 'petted', 'pettle', 'pled', 'pleopod', 'ploce', 'plod', 'plop', 'plot', 'plote', 'plotted', 'po', 'poco', 'pod', 'podded', 'poddle', 'podzol', 'poe', 'poet', 'pol', 'pole', 'poll', 'polled', 'polo', 'polt', 'poltfoot', 'poltfooted', 'poodle', 'poof', 'pool', 'poop', 'pooped', 'poot', 'pop', 'pope', 'poppel', 'poppet', 'popple', 'pot', 'pote', 'potoo', 'pott', 'potted', 'pottle', 'pottled', 'potto', 'te', 'tec', 'ted', 'tee', 'teedle', 'teel', 'teet', 'teff', 'tele', 'telecode', 'tell', 'tellee', 'tellt', 'telt', 'tepee', 'tete', 'tetel', 'tez', 'to', 'toco', 'tod', 'toddle', 'tode', 'toe', 'toed', 'toetoe', 'toff', 'toffee', 'toft', 'tol', 'told', 'toldo', 'tole', 'toll', 'tolt', 'too', 'toodle', 'toodleloodle', 'tool', 'toop', 'toot', 'tootle', 'toozle', 'toozoo', 'top', 'tope', 'topee', 'topepo', 'topo', 'topped', 'topple', 'tot', 'tote', 'toto', 'tottle', 'toze', 'tozee', 'zed', 'zee', 'zeed', 'zel', 'zo', 'zocco', 'zoccolo', 'zoll', 'zolle', 'zoo', 'zoozoo', 'cold', 'deep', 'do', 'effect', 'fold', 'food', 'foot', 'left', 'let', 'of', 'off', 'old', 'pot', 'to', 'toe', 'top']\n"
     ]
    }
   ],
   "source": [
    "word_list = word_list\n",
    "pattern = 'epfdoctlz'\n",
    "\n",
    "def snellen_words(pattern, word_list):\n",
    "    ans = []\n",
    "    for word in word_list:\n",
    "        find = True\n",
    "        for letter in word:\n",
    "            if letter not in pattern:\n",
    "                find = False\n",
    "                break\n",
    "        if find == True and len(word) > 1:\n",
    "            ans.append(word)\n",
    "    return ans\n",
    "\n",
    "\n",
    "chart_words = list(snellen_words(pattern, word_list))\n",
    "print(chart_words)"
   ]
  },
  {
   "cell_type": "code",
   "execution_count": 24,
   "id": "93f9a7f6",
   "metadata": {},
   "outputs": [
    {
     "name": "stdout",
     "output_type": "stream",
     "text": [
      " When filtering for words containing 2 or more letters,\n",
      "we are presented with 404 English words formed \n",
      "by the Eye Chart letters. \n",
      " Although, not as large a number as some of the above examples,\n",
      "the break statement ensures that we don't return anything unless it is\n",
      "a complete word in the nltk word list.\n"
     ]
    }
   ],
   "source": [
    "total = len(chart_words)\n",
    "print(f\"\"\" When filtering for words containing 2 or more letters,\n",
    "we are presented with {total} English words formed \n",
    "by the Eye Chart letters. \n",
    " Although, not as large a number as some of the above examples,\n",
    "the break statement ensures that we don't return anything unless it is\n",
    "a complete word in the nltk word list.\"\"\")"
   ]
  },
  {
   "cell_type": "code",
   "execution_count": 25,
   "id": "cc05b7da",
   "metadata": {},
   "outputs": [
    {
     "name": "stdout",
     "output_type": "stream",
     "text": [
      "The longest word in the current list is toodleloodle and is 12 letters long!\n"
     ]
    }
   ],
   "source": [
    "longest_word = max(chart_words, key=len)\n",
    "print(f\"\"\"The longest word in the current list is {longest_word} and is {len(longest_word)} letters long!\"\"\")"
   ]
  },
  {
   "cell_type": "markdown",
   "id": "b7bb84c6",
   "metadata": {},
   "source": [
    "I looked up the definition of toodleloodle, but couldn't find anything<br>\n",
    "that resembled a definition. So We'll locate the second longest word"
   ]
  },
  {
   "cell_type": "code",
   "execution_count": 26,
   "id": "fe0f3e29",
   "metadata": {},
   "outputs": [
    {
     "name": "stdout",
     "output_type": "stream",
     "text": [
      "The second longest word is in fact a real word and the word is poltfooted\n",
      "It is 10 letters long\n",
      "According to Merriam-Webster: It's an adjective, meaning – clubfoot or having a clubfoot\n"
     ]
    }
   ],
   "source": [
    "second_longest = sorted(chart_words, key=len)[-2]\n",
    "second_length = len(second_longest)\n",
    "print(f\"\"\"The second longest word is in fact a real word and the word is {second_longest}\n",
    "It is {second_length} letters long\n",
    "According to Merriam-Webster: It's an adjective, meaning – clubfoot or having a clubfoot\"\"\")"
   ]
  },
  {
   "cell_type": "markdown",
   "id": "1206efd7",
   "metadata": {},
   "source": [
    "##### It may be helpful to have a function that prints out the longer words of the chart_words list"
   ]
  },
  {
   "cell_type": "code",
   "execution_count": 27,
   "id": "5cf92ed0",
   "metadata": {},
   "outputs": [],
   "source": [
    "def get_lengthy_words(n):\n",
    "    words_length = sorted(chart_words, key=len)[-n]\n",
    "    length_of_words = len(words_length)\n",
    "    print(f\"\"\"{words_length} is a real-life word.\n",
    "    It is {length_of_words} letters long\"\"\")"
   ]
  },
  {
   "cell_type": "code",
   "execution_count": 28,
   "id": "465a2621",
   "metadata": {},
   "outputs": [
    {
     "name": "stdout",
     "output_type": "stream",
     "text": [
      "colpocele is a real-life word.\n",
      "    It is 9 letters long\n",
      "decollete is a real-life word.\n",
      "    It is 9 letters long\n"
     ]
    }
   ],
   "source": [
    "get_lengthy_words(6)\n",
    "get_lengthy_words(5)"
   ]
  },
  {
   "cell_type": "markdown",
   "id": "9d5f5e1c",
   "metadata": {},
   "source": [
    "##### Now let's get a look at the 50 longest words, in case we need to impress people at parties"
   ]
  },
  {
   "cell_type": "code",
   "execution_count": 29,
   "id": "ab0933b3",
   "metadata": {},
   "outputs": [
    {
     "name": "stdout",
     "output_type": "stream",
     "text": [
      "['poltfooted', 'cocozelle', 'cofeoffee', 'coffeepot', 'collected', 'colpocele', 'decollete', 'deflected', 'opodeldoc', 'clodpoll', 'coeffect', 'colloped', 'cootfoot', 'depeople', 'floodlet', 'locofoco', 'octopede', 'pelleted', 'poltfoot', 'telecode', 'clefted', 'clodlet', 'cocotte', 'coelect', 'collect', 'copepod', 'coppled', 'deedeed', 'deflect', 'deplete', 'dozzled', 'electee', 'feoffee', 'fleeced', 'flooded', 'looplet', 'octoped', 'octopod', 'peoplet', 'pleopod', 'plotted', 'pottled', 'zoccolo', 'celled', 'coddle', 'coffee', 'coffle', 'collet', 'collop', 'colpeo']\n"
     ]
    }
   ],
   "source": [
    "long_chart_words = sorted(chart_words, reverse=True, key=len)[1:51]\n",
    "print(long_chart_words)"
   ]
  },
  {
   "cell_type": "markdown",
   "id": "8e1e946a",
   "metadata": {},
   "source": [
    "### Let's see what the enchant list and the chart_words list have in common"
   ]
  },
  {
   "cell_type": "code",
   "execution_count": 30,
   "id": "c08be6a8",
   "metadata": {},
   "outputs": [
    {
     "name": "stdout",
     "output_type": "stream",
     "text": [
      "['lope', 'lo', 'ode', 'led', 'pet', 'told', 'dote', 'lop', 'flop', 'plot', 'dolt', 'pole', 'dole', 'pelt', 'colt', 'left', 'top', 'doe', 'cot', 'clot', 'dope', 'do', 'cleft', 'cop', 'cote', 'pol', 'dot', 'elf', 'plod', 'clop', 'depot', 'pod', 'lot', 'delft', 'doc', 'fold', 'ope', 'deft', 'fop', 'loft', 'pot', 'floe', 'cope', 'doze', 'fled', 'fed', 'old', 'poet', 'cod', 'toe', 'tole', 'of', 'to', 'fez', 'oft', 'toed', 'foe', 'pelf', 'clod', 'col', 'coed', 'cold', 'let', 'ted', 'code', 'opt', 'zed', 'lode', 'clef', 'felt']\n"
     ]
    }
   ],
   "source": [
    "# Find common elements of set and list\n",
    "enchant_as_set = set(enchant_snellen)\n",
    "intersection = enchant_as_set.intersection(chart_words)\n",
    "\n",
    "intersection_as_list = list(intersection)\n",
    "\n",
    "print(intersection_as_list)"
   ]
  },
  {
   "cell_type": "code",
   "execution_count": 31,
   "id": "a829cd52",
   "metadata": {},
   "outputs": [
    {
     "name": "stdout",
     "output_type": "stream",
     "text": [
      " There are 70 words in common between the enchant list and the chart_words list,\n",
      "which means there are 36 words in the enchant list\n",
      "that are not in the larger chart_words list\n"
     ]
    }
   ],
   "source": [
    "intersected = len(intersection_as_list)\n",
    "enchant_length = len(enchant_snellen)\n",
    "\n",
    "print(f\"\"\" There are {intersected} words in common between the enchant list and the chart_words list,\n",
    "which means there are {len(enchant_snellen) - len(intersection_as_list)} words in the enchant list\n",
    "that are not in the larger chart_words list\"\"\")"
   ]
  },
  {
   "cell_type": "markdown",
   "id": "0bc8d4e2",
   "metadata": {},
   "source": [
    "#### Out of curiosity, what words are in the enchant list that aren't in chart_words"
   ]
  },
  {
   "cell_type": "code",
   "execution_count": 32,
   "id": "b08eb47e",
   "metadata": {},
   "outputs": [
    {
     "name": "stdout",
     "output_type": "stream",
     "text": [
      "['etc', 'ecol', 'fl', 'tel', 'pct', 'pl', 'ed', 'cf', 'cpd', 'opted', 'ct', 'pt', 'ftp', 'oz', 'ltd', 'dept', 'oped', 'def', 'dpt', 'flt', 'dz', 'coped', 'cpl', 'lofted', 'loped', 'ft', 'doz', 'fol', 'ole', 'co', 'op', 'pf', 'pd', 'cl', 'poled', 'dc']\n"
     ]
    }
   ],
   "source": [
    "chart_as_set = set(chart_words)\n",
    "\n",
    "only_in_enchant = list(set(enchant_snellen) - set(chart_words))\n",
    "print(only_in_enchant)"
   ]
  },
  {
   "cell_type": "code",
   "execution_count": 33,
   "id": "e205fa36",
   "metadata": {},
   "outputs": [
    {
     "data": {
      "text/plain": [
       "36"
      ]
     },
     "execution_count": 33,
     "metadata": {},
     "output_type": "execute_result"
    }
   ],
   "source": [
    "len(only_in_enchant)"
   ]
  },
  {
   "cell_type": "markdown",
   "id": "4049a69c",
   "metadata": {},
   "source": [
    "#### I'd say there are a few real words in there. Maybe we can add them to the chart_words list somehow"
   ]
  },
  {
   "cell_type": "markdown",
   "id": "4e97918a",
   "metadata": {},
   "source": [
    "# Let's get these puppies into a dataframe"
   ]
  },
  {
   "cell_type": "markdown",
   "id": "a5a71355",
   "metadata": {},
   "source": [
    "## Using the chart_words list we'll make a Series (a 1–dimensional array)"
   ]
  },
  {
   "cell_type": "code",
   "execution_count": 34,
   "id": "94ff80ca",
   "metadata": {},
   "outputs": [
    {
     "data": {
      "text/html": [
       "<div>\n",
       "<style scoped>\n",
       "    .dataframe tbody tr th:only-of-type {\n",
       "        vertical-align: middle;\n",
       "    }\n",
       "\n",
       "    .dataframe tbody tr th {\n",
       "        vertical-align: top;\n",
       "    }\n",
       "\n",
       "    .dataframe thead th {\n",
       "        text-align: right;\n",
       "    }\n",
       "</style>\n",
       "<table border=\"1\" class=\"dataframe\">\n",
       "  <thead>\n",
       "    <tr style=\"text-align: right;\">\n",
       "      <th></th>\n",
       "      <th>words</th>\n",
       "    </tr>\n",
       "  </thead>\n",
       "  <tbody>\n",
       "    <tr>\n",
       "      <th>399</th>\n",
       "      <td>old</td>\n",
       "    </tr>\n",
       "    <tr>\n",
       "      <th>400</th>\n",
       "      <td>pot</td>\n",
       "    </tr>\n",
       "    <tr>\n",
       "      <th>401</th>\n",
       "      <td>to</td>\n",
       "    </tr>\n",
       "    <tr>\n",
       "      <th>402</th>\n",
       "      <td>toe</td>\n",
       "    </tr>\n",
       "    <tr>\n",
       "      <th>403</th>\n",
       "      <td>top</td>\n",
       "    </tr>\n",
       "  </tbody>\n",
       "</table>\n",
       "</div>"
      ],
      "text/plain": [
       "    words\n",
       "399   old\n",
       "400   pot\n",
       "401    to\n",
       "402   toe\n",
       "403   top"
      ]
     },
     "execution_count": 34,
     "metadata": {},
     "output_type": "execute_result"
    }
   ],
   "source": [
    "import pandas as pd\n",
    "\n",
    "lists = {'nltk': chart_words, 'enchant': only_in_enchant}\n",
    "\n",
    "\n",
    "df = pd.DataFrame([(k,e,len(e)) for k,l in lists.items() for e in l],\n",
    "                  columns=['source', 'word', 'length'])\n",
    "\n",
    "df = pd.DataFrame(chart_words, columns=[\"words\"], dtype= str)\n",
    "df.tail()"
   ]
  },
  {
   "cell_type": "code",
   "execution_count": 35,
   "id": "3b5f157e",
   "metadata": {},
   "outputs": [
    {
     "name": "stdout",
     "output_type": "stream",
     "text": [
      "There are 404 rows in the dataframe\n"
     ]
    }
   ],
   "source": [
    "df_len = len(df)\n",
    "print(f\"There are {df_len} rows in the dataframe\")"
   ]
  },
  {
   "cell_type": "markdown",
   "id": "90904695",
   "metadata": {},
   "source": [
    "# Adding a Length Column"
   ]
  },
  {
   "cell_type": "markdown",
   "id": "0bb4d7e2",
   "metadata": {},
   "source": [
    "## In order to make a column that has the length of each word<br>we'll need to first create a function, then we can use the .apply( )<br>method to make our new column"
   ]
  },
  {
   "cell_type": "markdown",
   "id": "2aef02bf",
   "metadata": {},
   "source": [
    "#### making the function to get the length of each word"
   ]
  },
  {
   "cell_type": "code",
   "execution_count": 36,
   "id": "d29b23d4",
   "metadata": {},
   "outputs": [],
   "source": [
    "def word_length(word):\n",
    "    return len(word)\n",
    "    "
   ]
  },
  {
   "cell_type": "markdown",
   "id": "13e978c5",
   "metadata": {},
   "source": [
    "#### Okay now, let's use the .apply( ) method to make the column"
   ]
  },
  {
   "cell_type": "code",
   "execution_count": 37,
   "id": "eecff10c",
   "metadata": {},
   "outputs": [],
   "source": [
    "def word_length(word):\n",
    "    return len(word)\n",
    "\n",
    "df['length'] = df['words'].apply(word_length)"
   ]
  },
  {
   "cell_type": "markdown",
   "id": "9471c87c",
   "metadata": {},
   "source": [
    "## Great, now we have a column describing the length of each word<br> and we officially have a dataframe of Eye Chart Words (a 2-Dimensional array)"
   ]
  },
  {
   "cell_type": "code",
   "execution_count": 38,
   "id": "462c93d1",
   "metadata": {},
   "outputs": [
    {
     "data": {
      "text/html": [
       "<div>\n",
       "<style scoped>\n",
       "    .dataframe tbody tr th:only-of-type {\n",
       "        vertical-align: middle;\n",
       "    }\n",
       "\n",
       "    .dataframe tbody tr th {\n",
       "        vertical-align: top;\n",
       "    }\n",
       "\n",
       "    .dataframe thead th {\n",
       "        text-align: right;\n",
       "    }\n",
       "</style>\n",
       "<table border=\"1\" class=\"dataframe\">\n",
       "  <thead>\n",
       "    <tr style=\"text-align: right;\">\n",
       "      <th></th>\n",
       "      <th>words</th>\n",
       "      <th>length</th>\n",
       "    </tr>\n",
       "  </thead>\n",
       "  <tbody>\n",
       "    <tr>\n",
       "      <th>0</th>\n",
       "      <td>ce</td>\n",
       "      <td>2</td>\n",
       "    </tr>\n",
       "    <tr>\n",
       "      <th>1</th>\n",
       "      <td>cede</td>\n",
       "      <td>4</td>\n",
       "    </tr>\n",
       "    <tr>\n",
       "      <th>2</th>\n",
       "      <td>cee</td>\n",
       "      <td>3</td>\n",
       "    </tr>\n",
       "    <tr>\n",
       "      <th>3</th>\n",
       "      <td>cell</td>\n",
       "      <td>4</td>\n",
       "    </tr>\n",
       "    <tr>\n",
       "      <th>4</th>\n",
       "      <td>celled</td>\n",
       "      <td>6</td>\n",
       "    </tr>\n",
       "    <tr>\n",
       "      <th>5</th>\n",
       "      <td>cello</td>\n",
       "      <td>5</td>\n",
       "    </tr>\n",
       "    <tr>\n",
       "      <th>6</th>\n",
       "      <td>celt</td>\n",
       "      <td>4</td>\n",
       "    </tr>\n",
       "    <tr>\n",
       "      <th>7</th>\n",
       "      <td>cep</td>\n",
       "      <td>3</td>\n",
       "    </tr>\n",
       "    <tr>\n",
       "      <th>8</th>\n",
       "      <td>cepe</td>\n",
       "      <td>4</td>\n",
       "    </tr>\n",
       "    <tr>\n",
       "      <th>9</th>\n",
       "      <td>cled</td>\n",
       "      <td>4</td>\n",
       "    </tr>\n",
       "  </tbody>\n",
       "</table>\n",
       "</div>"
      ],
      "text/plain": [
       "    words  length\n",
       "0      ce       2\n",
       "1    cede       4\n",
       "2     cee       3\n",
       "3    cell       4\n",
       "4  celled       6\n",
       "5   cello       5\n",
       "6    celt       4\n",
       "7     cep       3\n",
       "8    cepe       4\n",
       "9    cled       4"
      ]
     },
     "execution_count": 38,
     "metadata": {},
     "output_type": "execute_result"
    }
   ],
   "source": [
    "df.head(10)\n",
    "# print out of first ten words and their length"
   ]
  },
  {
   "cell_type": "markdown",
   "id": "5f77d9ce",
   "metadata": {},
   "source": [
    "# That DataFrame is lovely, but I think we need a way<br>of being able to add new words to it while keeping track of where the words came from"
   ]
  },
  {
   "cell_type": "markdown",
   "id": "701ae4af",
   "metadata": {},
   "source": [
    "## Making a new DF called data, which will add the enchant words that<br> weren't in chart_words already"
   ]
  },
  {
   "cell_type": "code",
   "execution_count": 39,
   "id": "837a1121",
   "metadata": {},
   "outputs": [],
   "source": [
    "lists = {'nltk': chart_words, 'enchant': only_in_enchant}\n",
    "\n",
    "data = pd.DataFrame([(k,e,len(e)) for k,l in lists.items() for e in l],\n",
    "                  columns=['source', 'word', 'length'])"
   ]
  },
  {
   "cell_type": "code",
   "execution_count": 40,
   "id": "52958856",
   "metadata": {},
   "outputs": [
    {
     "data": {
      "text/html": [
       "<div>\n",
       "<style scoped>\n",
       "    .dataframe tbody tr th:only-of-type {\n",
       "        vertical-align: middle;\n",
       "    }\n",
       "\n",
       "    .dataframe tbody tr th {\n",
       "        vertical-align: top;\n",
       "    }\n",
       "\n",
       "    .dataframe thead th {\n",
       "        text-align: right;\n",
       "    }\n",
       "</style>\n",
       "<table border=\"1\" class=\"dataframe\">\n",
       "  <thead>\n",
       "    <tr style=\"text-align: right;\">\n",
       "      <th></th>\n",
       "      <th>source</th>\n",
       "      <th>word</th>\n",
       "      <th>length</th>\n",
       "    </tr>\n",
       "  </thead>\n",
       "  <tbody>\n",
       "    <tr>\n",
       "      <th>300</th>\n",
       "      <td>nltk</td>\n",
       "      <td>poltfooted</td>\n",
       "      <td>10</td>\n",
       "    </tr>\n",
       "    <tr>\n",
       "      <th>301</th>\n",
       "      <td>nltk</td>\n",
       "      <td>poodle</td>\n",
       "      <td>6</td>\n",
       "    </tr>\n",
       "    <tr>\n",
       "      <th>302</th>\n",
       "      <td>nltk</td>\n",
       "      <td>poof</td>\n",
       "      <td>4</td>\n",
       "    </tr>\n",
       "    <tr>\n",
       "      <th>303</th>\n",
       "      <td>nltk</td>\n",
       "      <td>pool</td>\n",
       "      <td>4</td>\n",
       "    </tr>\n",
       "    <tr>\n",
       "      <th>304</th>\n",
       "      <td>nltk</td>\n",
       "      <td>poop</td>\n",
       "      <td>4</td>\n",
       "    </tr>\n",
       "    <tr>\n",
       "      <th>305</th>\n",
       "      <td>nltk</td>\n",
       "      <td>pooped</td>\n",
       "      <td>6</td>\n",
       "    </tr>\n",
       "    <tr>\n",
       "      <th>306</th>\n",
       "      <td>nltk</td>\n",
       "      <td>poot</td>\n",
       "      <td>4</td>\n",
       "    </tr>\n",
       "    <tr>\n",
       "      <th>307</th>\n",
       "      <td>nltk</td>\n",
       "      <td>pop</td>\n",
       "      <td>3</td>\n",
       "    </tr>\n",
       "    <tr>\n",
       "      <th>308</th>\n",
       "      <td>nltk</td>\n",
       "      <td>pope</td>\n",
       "      <td>4</td>\n",
       "    </tr>\n",
       "    <tr>\n",
       "      <th>309</th>\n",
       "      <td>nltk</td>\n",
       "      <td>poppel</td>\n",
       "      <td>6</td>\n",
       "    </tr>\n",
       "    <tr>\n",
       "      <th>310</th>\n",
       "      <td>nltk</td>\n",
       "      <td>poppet</td>\n",
       "      <td>6</td>\n",
       "    </tr>\n",
       "    <tr>\n",
       "      <th>311</th>\n",
       "      <td>nltk</td>\n",
       "      <td>popple</td>\n",
       "      <td>6</td>\n",
       "    </tr>\n",
       "    <tr>\n",
       "      <th>312</th>\n",
       "      <td>nltk</td>\n",
       "      <td>pot</td>\n",
       "      <td>3</td>\n",
       "    </tr>\n",
       "    <tr>\n",
       "      <th>313</th>\n",
       "      <td>nltk</td>\n",
       "      <td>pote</td>\n",
       "      <td>4</td>\n",
       "    </tr>\n",
       "    <tr>\n",
       "      <th>314</th>\n",
       "      <td>nltk</td>\n",
       "      <td>potoo</td>\n",
       "      <td>5</td>\n",
       "    </tr>\n",
       "  </tbody>\n",
       "</table>\n",
       "</div>"
      ],
      "text/plain": [
       "    source        word  length\n",
       "300   nltk  poltfooted      10\n",
       "301   nltk      poodle       6\n",
       "302   nltk        poof       4\n",
       "303   nltk        pool       4\n",
       "304   nltk        poop       4\n",
       "305   nltk      pooped       6\n",
       "306   nltk        poot       4\n",
       "307   nltk         pop       3\n",
       "308   nltk        pope       4\n",
       "309   nltk      poppel       6\n",
       "310   nltk      poppet       6\n",
       "311   nltk      popple       6\n",
       "312   nltk         pot       3\n",
       "313   nltk        pote       4\n",
       "314   nltk       potoo       5"
      ]
     },
     "execution_count": 40,
     "metadata": {},
     "output_type": "execute_result"
    }
   ],
   "source": [
    "data.iloc[300:315]"
   ]
  },
  {
   "cell_type": "markdown",
   "id": "4e888259",
   "metadata": {},
   "source": [
    "Let's see if the enchant words are in the dataframe under list_2"
   ]
  },
  {
   "cell_type": "code",
   "execution_count": 41,
   "id": "a7a8c230",
   "metadata": {},
   "outputs": [
    {
     "data": {
      "text/html": [
       "<div>\n",
       "<style scoped>\n",
       "    .dataframe tbody tr th:only-of-type {\n",
       "        vertical-align: middle;\n",
       "    }\n",
       "\n",
       "    .dataframe tbody tr th {\n",
       "        vertical-align: top;\n",
       "    }\n",
       "\n",
       "    .dataframe thead th {\n",
       "        text-align: right;\n",
       "    }\n",
       "</style>\n",
       "<table border=\"1\" class=\"dataframe\">\n",
       "  <thead>\n",
       "    <tr style=\"text-align: right;\">\n",
       "      <th></th>\n",
       "      <th>source</th>\n",
       "      <th>word</th>\n",
       "      <th>length</th>\n",
       "    </tr>\n",
       "  </thead>\n",
       "  <tbody>\n",
       "    <tr>\n",
       "      <th>435</th>\n",
       "      <td>enchant</td>\n",
       "      <td>pf</td>\n",
       "      <td>2</td>\n",
       "    </tr>\n",
       "    <tr>\n",
       "      <th>436</th>\n",
       "      <td>enchant</td>\n",
       "      <td>pd</td>\n",
       "      <td>2</td>\n",
       "    </tr>\n",
       "    <tr>\n",
       "      <th>437</th>\n",
       "      <td>enchant</td>\n",
       "      <td>cl</td>\n",
       "      <td>2</td>\n",
       "    </tr>\n",
       "    <tr>\n",
       "      <th>438</th>\n",
       "      <td>enchant</td>\n",
       "      <td>poled</td>\n",
       "      <td>5</td>\n",
       "    </tr>\n",
       "    <tr>\n",
       "      <th>439</th>\n",
       "      <td>enchant</td>\n",
       "      <td>dc</td>\n",
       "      <td>2</td>\n",
       "    </tr>\n",
       "  </tbody>\n",
       "</table>\n",
       "</div>"
      ],
      "text/plain": [
       "      source   word  length\n",
       "435  enchant     pf       2\n",
       "436  enchant     pd       2\n",
       "437  enchant     cl       2\n",
       "438  enchant  poled       5\n",
       "439  enchant     dc       2"
      ]
     },
     "execution_count": 41,
     "metadata": {},
     "output_type": "execute_result"
    }
   ],
   "source": [
    "data.tail()"
   ]
  },
  {
   "cell_type": "markdown",
   "id": "d52d8c0d",
   "metadata": {},
   "source": [
    "There they are. Good"
   ]
  },
  {
   "cell_type": "markdown",
   "id": "e8264c41",
   "metadata": {},
   "source": [
    "# Wiki top 100 thousand words"
   ]
  },
  {
   "cell_type": "code",
   "execution_count": 42,
   "id": "dfccda5e",
   "metadata": {},
   "outputs": [],
   "source": [
    "# Go here to find the wiki-100k.txt word list: https://gist.github.com/h3xx/1976236\n",
    "\n",
    "with open('/Users/nathanwalter/jobsearch/Eye-Chart-Words/Data/large_words/wiki-100k.txt') as wiki: \n",
    "    wiki = list(wiki)"
   ]
  },
  {
   "cell_type": "markdown",
   "id": "084fbf93",
   "metadata": {},
   "source": [
    "## Let's have a look at the Wiki list of 100,000 words"
   ]
  },
  {
   "cell_type": "code",
   "execution_count": 43,
   "id": "71cae808",
   "metadata": {},
   "outputs": [
    {
     "data": {
      "text/plain": [
       "['#!comment: This is a list of the top 100,000 most frequently-used English words\\n',\n",
       " '#!comment: according to Wiktionary.\\n',\n",
       " '#!comment:\\n',\n",
       " '#!comment: It was compiled in August 2005 and coalesced into a handy list for\\n',\n",
       " '#!comment: use in John the Ripper.\\n',\n",
       " '#!comment:\\n',\n",
       " '#!comment:\\n',\n",
       " '#!comment: Pull date: Sun Jan 15 22:03:54 2012 GMT\\n',\n",
       " '#!comment:\\n',\n",
       " '#!comment: Sources:\\n',\n",
       " '#!comment:\\n',\n",
       " '#!comment: http://en.wiktionary.org/wiki/Wiktionary:Frequency_lists#Top_English_words_lists\\n',\n",
       " '#!comment: http://en.wiktionary.org/wiki/Wiktionary:Frequency_lists/PG/2005/08/1-10000\\n',\n",
       " '#!comment: http://en.wiktionary.org/wiki/Wiktionary:Frequency_lists/PG/2005/08/10001-20000\\n',\n",
       " '#!comment: http://en.wiktionary.org/wiki/Wiktionary:Frequency_lists/PG/2005/08/20001-30000\\n',\n",
       " '#!comment: http://en.wiktionary.org/wiki/Wiktionary:Frequency_lists/PG/2005/08/30001-40000\\n',\n",
       " '#!comment: http://en.wiktionary.org/wiki/Wiktionary:Frequency_lists/PG/2005/08/40001-50000\\n',\n",
       " '#!comment: http://en.wiktionary.org/wiki/Wiktionary:Frequency_lists/PG/2005/08/50001-60000\\n',\n",
       " '#!comment: http://en.wiktionary.org/wiki/Wiktionary:Frequency_lists/PG/2005/08/60001-70000\\n',\n",
       " '#!comment: http://en.wiktionary.org/wiki/Wiktionary:Frequency_lists/PG/2005/08/70001-80000\\n',\n",
       " '#!comment: http://en.wiktionary.org/wiki/Wiktionary:Frequency_lists/PG/2005/08/80001-90000\\n',\n",
       " '#!comment: http://en.wiktionary.org/wiki/Wiktionary:Frequency_lists/PG/2005/08/90001-100000\\n',\n",
       " '#!comment:\\n',\n",
       " '#!comment: Compiled by h3xx\\n',\n",
       " '#!comment:\\n',\n",
       " '#!comment: 1 - 100\\n',\n",
       " 'the\\n',\n",
       " 'of\\n',\n",
       " 'and\\n',\n",
       " 'to\\n']"
      ]
     },
     "execution_count": 43,
     "metadata": {},
     "output_type": "execute_result"
    }
   ],
   "source": [
    "wiki[:30]"
   ]
  },
  {
   "cell_type": "markdown",
   "id": "ce0ce5df",
   "metadata": {},
   "source": [
    "### Looks like there is some extra stuff in there besides English words"
   ]
  },
  {
   "cell_type": "code",
   "execution_count": 44,
   "id": "1e166ef1",
   "metadata": {},
   "outputs": [],
   "source": [
    "import re\n",
    "import numpy as np"
   ]
  },
  {
   "cell_type": "markdown",
   "id": "c8c28c01",
   "metadata": {},
   "source": [
    "reading in the wiki list to pandas DataFrame to start cleaning"
   ]
  },
  {
   "cell_type": "code",
   "execution_count": 45,
   "id": "bac775ad",
   "metadata": {},
   "outputs": [
    {
     "data": {
      "text/html": [
       "<div>\n",
       "<style scoped>\n",
       "    .dataframe tbody tr th:only-of-type {\n",
       "        vertical-align: middle;\n",
       "    }\n",
       "\n",
       "    .dataframe tbody tr th {\n",
       "        vertical-align: top;\n",
       "    }\n",
       "\n",
       "    .dataframe thead th {\n",
       "        text-align: right;\n",
       "    }\n",
       "</style>\n",
       "<table border=\"1\" class=\"dataframe\">\n",
       "  <thead>\n",
       "    <tr style=\"text-align: right;\">\n",
       "      <th></th>\n",
       "      <th>words</th>\n",
       "    </tr>\n",
       "  </thead>\n",
       "  <tbody>\n",
       "    <tr>\n",
       "      <th>0</th>\n",
       "      <td>#!comment: This is a list of the top 100,000 m...</td>\n",
       "    </tr>\n",
       "    <tr>\n",
       "      <th>1</th>\n",
       "      <td>#!comment: according to Wiktionary.\\n</td>\n",
       "    </tr>\n",
       "    <tr>\n",
       "      <th>2</th>\n",
       "      <td>#!comment:\\n</td>\n",
       "    </tr>\n",
       "    <tr>\n",
       "      <th>3</th>\n",
       "      <td>#!comment: It was compiled in August 2005 and ...</td>\n",
       "    </tr>\n",
       "    <tr>\n",
       "      <th>4</th>\n",
       "      <td>#!comment: use in John the Ripper.\\n</td>\n",
       "    </tr>\n",
       "  </tbody>\n",
       "</table>\n",
       "</div>"
      ],
      "text/plain": [
       "                                               words\n",
       "0  #!comment: This is a list of the top 100,000 m...\n",
       "1              #!comment: according to Wiktionary.\\n\n",
       "2                                       #!comment:\\n\n",
       "3  #!comment: It was compiled in August 2005 and ...\n",
       "4               #!comment: use in John the Ripper.\\n"
      ]
     },
     "execution_count": 45,
     "metadata": {},
     "output_type": "execute_result"
    }
   ],
   "source": [
    "wiki_df = pd.DataFrame(wiki, columns=['words'], dtype=str)\n",
    "wiki_df.head()"
   ]
  },
  {
   "cell_type": "markdown",
   "id": "b1dcf528",
   "metadata": {},
   "source": [
    "Print outs of the beginning and end of the DataFrame (technically a series)"
   ]
  },
  {
   "cell_type": "code",
   "execution_count": 46,
   "id": "37f31dfa",
   "metadata": {},
   "outputs": [
    {
     "data": {
      "text/html": [
       "<div>\n",
       "<style scoped>\n",
       "    .dataframe tbody tr th:only-of-type {\n",
       "        vertical-align: middle;\n",
       "    }\n",
       "\n",
       "    .dataframe tbody tr th {\n",
       "        vertical-align: top;\n",
       "    }\n",
       "\n",
       "    .dataframe thead th {\n",
       "        text-align: right;\n",
       "    }\n",
       "</style>\n",
       "<table border=\"1\" class=\"dataframe\">\n",
       "  <thead>\n",
       "    <tr style=\"text-align: right;\">\n",
       "      <th></th>\n",
       "      <th>words</th>\n",
       "    </tr>\n",
       "  </thead>\n",
       "  <tbody>\n",
       "    <tr>\n",
       "      <th>99923</th>\n",
       "      <td>ära\\n</td>\n",
       "    </tr>\n",
       "    <tr>\n",
       "      <th>99924</th>\n",
       "      <td>égoïste\\n</td>\n",
       "    </tr>\n",
       "    <tr>\n",
       "      <th>99925</th>\n",
       "      <td>AGE\\n</td>\n",
       "    </tr>\n",
       "    <tr>\n",
       "      <th>99926</th>\n",
       "      <td>Ack\\n</td>\n",
       "    </tr>\n",
       "    <tr>\n",
       "      <th>99927</th>\n",
       "      <td>Apennine</td>\n",
       "    </tr>\n",
       "  </tbody>\n",
       "</table>\n",
       "</div>"
      ],
      "text/plain": [
       "           words\n",
       "99923      ära\\n\n",
       "99924  égoïste\\n\n",
       "99925      AGE\\n\n",
       "99926      Ack\\n\n",
       "99927   Apennine"
      ]
     },
     "execution_count": 46,
     "metadata": {},
     "output_type": "execute_result"
    }
   ],
   "source": [
    "wiki_df.tail()"
   ]
  },
  {
   "cell_type": "markdown",
   "id": "b2ab9c4f",
   "metadata": {},
   "source": [
    "### Finding all the rows with those pesky hashtags and exclamation marks"
   ]
  },
  {
   "cell_type": "code",
   "execution_count": 47,
   "id": "42c5a26e",
   "metadata": {},
   "outputs": [
    {
     "name": "stdout",
     "output_type": "stream",
     "text": [
      "                                                   words\n",
      "0      #!comment: This is a list of the top 100,000 m...\n",
      "1                  #!comment: according to Wiktionary.\\n\n",
      "2                                           #!comment:\\n\n",
      "3      #!comment: It was compiled in August 2005 and ...\n",
      "4                   #!comment: use in John the Ripper.\\n\n",
      "...                                                  ...\n",
      "99625                         #!comment: 99701 - 99800\\n\n",
      "99685                                   compuserve.com\\n\n",
      "99726                         #!comment: 99801 - 99900\\n\n",
      "99827                        #!comment: 99901 - 100000\\n\n",
      "99881                                           left.'\\n\n",
      "\n",
      "[1544 rows x 1 columns]\n"
     ]
    }
   ],
   "source": [
    "print(wiki_df[wiki_df.words.str.contains(r'[@#&$%+-/*]')])"
   ]
  },
  {
   "cell_type": "markdown",
   "id": "d492903b",
   "metadata": {},
   "source": [
    "## Dropping all rows that were found to have non-English characters"
   ]
  },
  {
   "cell_type": "code",
   "execution_count": 48,
   "id": "75b41ad5",
   "metadata": {},
   "outputs": [],
   "source": [
    "wiki_df.drop(wiki_df[wiki_df['words'].str.contains(r'[@#&$%+-/*]')].index, inplace=True)"
   ]
  },
  {
   "cell_type": "code",
   "execution_count": 49,
   "id": "6f38f58e",
   "metadata": {},
   "outputs": [
    {
     "data": {
      "text/html": [
       "<div>\n",
       "<style scoped>\n",
       "    .dataframe tbody tr th:only-of-type {\n",
       "        vertical-align: middle;\n",
       "    }\n",
       "\n",
       "    .dataframe tbody tr th {\n",
       "        vertical-align: top;\n",
       "    }\n",
       "\n",
       "    .dataframe thead th {\n",
       "        text-align: right;\n",
       "    }\n",
       "</style>\n",
       "<table border=\"1\" class=\"dataframe\">\n",
       "  <thead>\n",
       "    <tr style=\"text-align: right;\">\n",
       "      <th></th>\n",
       "      <th>words</th>\n",
       "    </tr>\n",
       "  </thead>\n",
       "  <tbody>\n",
       "    <tr>\n",
       "      <th>26</th>\n",
       "      <td>the\\n</td>\n",
       "    </tr>\n",
       "    <tr>\n",
       "      <th>27</th>\n",
       "      <td>of\\n</td>\n",
       "    </tr>\n",
       "    <tr>\n",
       "      <th>28</th>\n",
       "      <td>and\\n</td>\n",
       "    </tr>\n",
       "    <tr>\n",
       "      <th>29</th>\n",
       "      <td>to\\n</td>\n",
       "    </tr>\n",
       "    <tr>\n",
       "      <th>30</th>\n",
       "      <td>a\\n</td>\n",
       "    </tr>\n",
       "    <tr>\n",
       "      <th>...</th>\n",
       "      <td>...</td>\n",
       "    </tr>\n",
       "    <tr>\n",
       "      <th>99923</th>\n",
       "      <td>ära\\n</td>\n",
       "    </tr>\n",
       "    <tr>\n",
       "      <th>99924</th>\n",
       "      <td>égoïste\\n</td>\n",
       "    </tr>\n",
       "    <tr>\n",
       "      <th>99925</th>\n",
       "      <td>AGE\\n</td>\n",
       "    </tr>\n",
       "    <tr>\n",
       "      <th>99926</th>\n",
       "      <td>Ack\\n</td>\n",
       "    </tr>\n",
       "    <tr>\n",
       "      <th>99927</th>\n",
       "      <td>Apennine</td>\n",
       "    </tr>\n",
       "  </tbody>\n",
       "</table>\n",
       "<p>98384 rows × 1 columns</p>\n",
       "</div>"
      ],
      "text/plain": [
       "           words\n",
       "26         the\\n\n",
       "27          of\\n\n",
       "28         and\\n\n",
       "29          to\\n\n",
       "30           a\\n\n",
       "...          ...\n",
       "99923      ära\\n\n",
       "99924  égoïste\\n\n",
       "99925      AGE\\n\n",
       "99926      Ack\\n\n",
       "99927   Apennine\n",
       "\n",
       "[98384 rows x 1 columns]"
      ]
     },
     "execution_count": 49,
     "metadata": {},
     "output_type": "execute_result"
    }
   ],
   "source": [
    "wiki_df"
   ]
  },
  {
   "cell_type": "markdown",
   "id": "4a6f4195",
   "metadata": {},
   "source": [
    "### There are some foreign words left, but our pattern of letters<br>from the eye chart will filter them out for us"
   ]
  },
  {
   "cell_type": "markdown",
   "id": "245c137f",
   "metadata": {},
   "source": [
    "Removing the new line symbols (\\n) from our words "
   ]
  },
  {
   "cell_type": "code",
   "execution_count": 50,
   "id": "a976dc9b",
   "metadata": {},
   "outputs": [],
   "source": [
    "wiki_df['words'] = wiki_df['words'].str.replace(\"\\n\", \"\")"
   ]
  },
  {
   "cell_type": "markdown",
   "id": "97c49c43",
   "metadata": {},
   "source": [
    "#### Just to be certain we'll write out a little lambda function to<br>ensure all our words are lower case"
   ]
  },
  {
   "cell_type": "code",
   "execution_count": 51,
   "id": "57280322",
   "metadata": {},
   "outputs": [],
   "source": [
    "wiki_df['words'] = wiki_df['words'].apply(lambda x : x.lower())"
   ]
  },
  {
   "cell_type": "markdown",
   "id": "e431b24b",
   "metadata": {},
   "source": [
    "### Now we'll turn that Pandas DataFrame back into a list so we can<br>do some work with it"
   ]
  },
  {
   "cell_type": "code",
   "execution_count": 52,
   "id": "85cbbfeb",
   "metadata": {},
   "outputs": [],
   "source": [
    "vals = wiki_df['words']\n",
    "wiki_list = vals.tolist()"
   ]
  },
  {
   "cell_type": "markdown",
   "id": "04c7600b",
   "metadata": {},
   "source": [
    "## Using our function from above, the one with the break statement,<br>we'll find all the words in our wiki list of 100,000 that contain only letters<br>from the Eye Chart. Pretty cool, huh?"
   ]
  },
  {
   "cell_type": "code",
   "execution_count": 53,
   "id": "01a2b608",
   "metadata": {},
   "outputs": [
    {
     "name": "stdout",
     "output_type": "stream",
     "text": [
      "['of', 'to', 'de', 'do', 'et', 'old', 'le', 'too', 'people', 'def', 'to', 'left', 'off', 'tell', 'told', 'let', 'of', 'felt', 'tt', 'of', 'feet', 'ce', 'feel', 'fell', 'do', 'deep', 'let', 'cold', 'led', 'el', 'effect', 'to', 'elle', 'te', 'fld', 'cd', 'col', 'cette', 'foot', 'de', 'le', 'etc', 'food', 'top', 'fee', 'do', 'et', 'del', 'lot', 'old', 'people', 'op', 'poet', 'too', 'lo', 'fool', 'to', 'det', 'elle', 'tell', 'off', 'cool', 'of', 'feet', 'fled', 'fleet', 'co', 'ce', 'pp', 'pope', 'people', 'collected', 'odd', 'cf', 'cet', 'deed', 'coffee', 'tot', 'de', 'cf', 'ed', 'feed', 'zo', 'defect', 'elected', 'fed', 'el', 'flood', 'lee', 'left', 'zoo', 'plot', 'foe', 'folded', 'effect', 'ete', 'oft', 'ze', 'old', 'ole', 'effected', 'defect', 'pl', 'celle', 'collect', 'elect', 'cette', 'pot', 'cell', 'cold', 'food', 'too', 'foot', 'effet', 'pool', 'ett', 'pole', 'todo', 'code', 'ftp', 'detected', 'dec', 'tell', 'oct', 'deze', 'tete', 'det', 'toe', 'fold', 'pet', 'of', 'ed', 'lo', 'doe', 'oe', 'le', 'flee', 'col', 'old', 'fell', 'defect', 'delete', 'cote', 'detect', 'ft', 'pelle', 'tel', 'telle', 'pope', 'top', 'otto', 'tool', 'left', 'deep', 'pole', 'lot', 'felt', 'depot', 'co', 'pope', 'ff', 'poet', 'peep', 'ted', 'foe', 'tod', 'ef', 'flooded', 'ftp', 'peeped', 'cold', 'fleet', 'dotted', 'peopled', 'te', 'doll', 'pete', 'cooled', 'deep', 'll', 'oz', 'pp', 'ed', 'leopold', 'coffee', 'del', 'op', 'cleft', 'off', 'deed', 'zelf', 'ez', 'fled', 'feel', 'fete', 'pt', 'op', 'loop', 'delle', 'food', 'dot', 'cope', 'lee', 'cot', 'fool', 'co', 'deeze', 'elle', 'cet', 'ed', 'do', 'fleet', 'olet', 'fol', 'toll', 'peel', 'et', 'code', 'pl', 'ode', 'felled', 'cool', 'zoo', 'coffee', 'zee', 'po', 'toledo', 'cell', 'lopez', 'dood', 'dc', 'pe', 'po', 'loft', 'oft', 'colt', 'ole', 'll', 'polo', 'ceded', 'flood', 'dodd', 'poe', 'dot', 'petted', 'pl', 'zoe', 'ze', 'lee', 'fe', 'ode', 'peel', 'ep', 'fooled', 'plot', 'cole', 'zo', 'lot', 'etc', 'todd', 'fell', 'ef', 'deze', 'col', 'fe', 'oo', 'foot', 'op', 'pop', 'clef', 'loco', 'effected', 'flood', 'folle', 'doc', 'etc', 'dette', 'letzte', 'doet', 'fleece', 'fleete', 'col', 'cp', 'poop', 'dopo', 'pp', 'top', 'popped', 'dell', 'dozed', 'effect', 'plotted', 'pole', 'co', 'poole', 'peeled', 'pool', 'ee', 'doze', 'pot', 'oot', 'doe', 'poll', 'pot', 'tode', 'el', 'told', 'eo', 'tel', 'topped', 'pt', 'de', 'cod', 'toe', 'deel', 'led', 'loo', 'det', 'elf', 'deft', 'oe', 'leetle', 'foote', 'people', 'elected', 'eccl', 'olleet', 'defoe', 'collected', 'odd', 'dezelfde', 'pet', 'pool', 'poete', 'fed', 'ol', 'fece', 'oz', 'led', 'flot', 'eel', 'clod', 'pett', 'people', 'tete', 'ooze', 'olette', 'cod', 'de', 'dole', 'tot', 'plodded', 'cope', 'fleece', 'collected', 'lee', 'floe', 'feed', 'cede', 'loot', 'pelted', 'olde', 'coll', 'pol', 'code', 'feel', 'fold', 'toppled', 'deeze', 'plot', 'feet', 'pelo', 'tole', 'loc', 'ltd', 'pole', 'dodo', 'odo', 'feld', 'detto', 'fee', 'pel', 'dote', 'fl', 'pelt', 'depot', 'pod', 'ccc', 'lod', 'ofte', 'doll', 'tolled', 'dee', 'tee', 'too', 'do', 'cp', 'polo', 'ted', 'dell']\n",
      "771\n"
     ]
    }
   ],
   "source": [
    "pattern = 'epfdoctlz'\n",
    "words_list = wiki_list\n",
    "\n",
    "wiki_words = snellen_words(pattern, wiki_list)\n",
    "print(wiki_words[:400])\n",
    "print(len(wiki_words))"
   ]
  },
  {
   "cell_type": "code",
   "execution_count": 54,
   "id": "110be533",
   "metadata": {
    "scrolled": true
   },
   "outputs": [
    {
     "name": "stdout",
     "output_type": "stream",
     "text": [
      " There are 771 words made soley from the letters of the Snellen Card \n",
      "in our list of 100,000 most popular wiki words.\n"
     ]
    }
   ],
   "source": [
    "wiki_len = len(wiki_words)\n",
    "print(f\"\"\" There are {wiki_len} words made soley from the letters of the Snellen Card \n",
    "in our list of 100,000 most popular wiki words.\"\"\")"
   ]
  },
  {
   "cell_type": "markdown",
   "id": "426d887b",
   "metadata": {},
   "source": [
    "### Let's see how the wiki Eye Chart words compare to the nltk eye chart words"
   ]
  },
  {
   "cell_type": "code",
   "execution_count": 55,
   "id": "3e28d349",
   "metadata": {},
   "outputs": [
    {
     "name": "stdout",
     "output_type": "stream",
     "text": [
      "['folded', 'eel', 'fe', 'peeled', 'fleeced', 'ode', 'pet', 'pellet', 'collected', 'dote', 'plot', 'oe', 'toll', 'feel', 'fee', 'flot', 'left', 'dell', 'top', 'flooded', 'toto', 'dope', 'lee', 'dodd', 'loot', 'tete', 'lot', 'zo', 'fod', 'poll', 'celt', 'tepee', 'floe', 'leed', 'cope', 'coop', 'poet', 'odd', 'poco', 'tod', 'defect', 'dodo', 'oft', 'doodle', 'coot', 'pelf', 'poodle', 'col', 'cold', 'ce', 'loll', 'poop', 'clef', 'fled', 'lope', 'deflect', 'loop', 'led', 'effete', 'flop', 'poe', 'dolt', 'te', 'ecole', 'coe', 'pelt', 'po', 'delete', 'topple', 'clot', 'cop', 'pol', 'ooze', 'elf', 'plod', 'doted', 'polled', 'collect', 'fet', 'loft', 'pott', 'zoo', 'topped', 'deflected', 'fed', 'people', 'peel', 'peep', 'of', 'deed', 'tool', 'food', 'de', 'lof', 'tode', 'fool', 'tee', 'clod', 'ted', 'coz', 'petted', 'code', 'deep', 'dotted', 'off', 'fleet', 'lo', 'dee', 'told', 'plotted', 'loco', 'lop', 'feed', 'coll', 'eft', 'pole', 'dole', 'colt', 'elle', 'cell', 'flood', 'ell', 'eld', 'polo', 'toot', 'do', 'cote', 'flee', 'pope', 'pod', 'cool', 'doll', 'otto', 'dozed', 'fop', 'doze', 'fell', 'tole', 'coffle', 'pete', 'coco', 'to', 'potted', 'footed', 'epee', 'tell', 'coffee', 'tot', 'too', 'cede', 'lode', 'pot', 'elope', 'loo', 'dod', 'pop', 'lod', 'tote', 'doe', 'cot', 'cleft', 'dot', 'tope', 'el', 'depot', 'delft', 'ope', 'doc', 'effect', 'fold', 'deft', 'cole', 'elect', 'toddle', 'old', 'zee', 'cod', 'toe', 'tol', 'fez', 'doff', 'foe', 'collet', 'od', 'pell', 'detect', 'let', 'fleece', 'opt', 'coo', 'foot', 'pool', 'felt']\n"
     ]
    }
   ],
   "source": [
    "# Find common elements of set and list\n",
    "wiki_as_set = set(wiki_words)\n",
    "intersection = wiki_as_set.intersection(set(chart_words))\n",
    "\n",
    "intersection_as_list2 = list(intersection)\n",
    "\n",
    "\n",
    "print(intersection_as_list2)"
   ]
  },
  {
   "cell_type": "code",
   "execution_count": 56,
   "id": "df5bf5bb",
   "metadata": {},
   "outputs": [
    {
     "name": "stdout",
     "output_type": "stream",
     "text": [
      " Thre are 193 words in common between \n",
      "the wiki snellen words and the nltk snellen words. This also means that there are \n",
      "235 words in the wiki eye chart words that aren't in the \n",
      "nltk eye chart words.\n"
     ]
    }
   ],
   "source": [
    "intersect2 = len(intersection_as_list2)\n",
    "wiki_length = len(wiki_as_set)\n",
    "\n",
    "print(f\"\"\" Thre are {len(intersection_as_list2)} words in common between \n",
    "the wiki snellen words and the nltk snellen words. This also means that there are \n",
    "{wiki_length - intersect2} words in the wiki eye chart words that aren't in the \n",
    "nltk eye chart words.\"\"\")"
   ]
  },
  {
   "cell_type": "markdown",
   "id": "0cbaf295",
   "metadata": {},
   "source": [
    "## Here's the list of Wiki Eye Chart words which are different<br>than anything we've seen so far"
   ]
  },
  {
   "cell_type": "code",
   "execution_count": 57,
   "id": "c8fa8bfd",
   "metadata": {},
   "outputs": [
    {
     "name": "stdout",
     "output_type": "stream",
     "text": [
      "['etc', 'tt', 'fl', 'zettel', 'doffed', 'felled', 'deel', 'fel', 'ed', 'ec', 'leeft', 'pelz', 'telled', 'zet', 'colle', 'leetle', 'pede', 'loc', 'fett', 'zoe', 'tecle', 'edel', 'todo', 'cet', 'zette', 'olelo', 'poete', 'ello', 'letto', 'clept', 'decl', 'folle', 'collot', 'peopled', 'teepee', 'def', 'delle', 'lt', 'letzte', 'edle', 'leopold', 'det', 'looted', 'popolo', 'ete', 'ft', 'looped', 'todd', 'ette', 'doppelt', 'zzzzz', 'ole', 'fo', 'detected', 'lopez', 'doce', 'dc', 'petto', 'dello', 'cette', 'dood', 'deepe', 'eccl', 'cd', 'effected', 'foote', 'doct', 'lette', 'olet', 'dol', 'foll', 'pp', 'cf', 'pl', 'zele', 'effet', 'fece', 'ecce', 'ef', 'toppled', 'oof', 'deze', 'tolde', 'elec', 'pel', 'oedd', 'tello', 'otoo', 'lolled', 'ccc', 'ele', 'del', 'ltd', 'dp', 'ceded', 'ze', 'lec', 'opec', 'cooled', 'clotted', 'coote', 'cel', 'feld', 'edele', 'felde', 'zool', 'cottle', 'ff', 'pepe', 'doode', 'fol', 'fld', 'ol', 'oed', 'pelo', 'eloped', 'leefde', 'flopped', 'zoete', 'odette', 'leo', 'oct', 'coelo', 'folco', 'ett', 'ez', 'oozed', 'oc', 'olof', 'lotte', 'tel', 'ot', 'elected', 'doled', 'cleo', 'll', 'doot', 'peece', 'lel', 'pe', 'fooled', 'fede', 'le', 'eet', 'cooed', 'deeze', 'cooped', 'eo', 'peeped', 'dle', 'fleete', 'todt', 'foole', 'zol', 'feete', 'oot', 'defoe', 'odo', 'colpo', 'toddled', 'doo', 'tolled', 'ece', 'op', 'co', 'ld', 'dolce', 'flo', 'ple', 'ee', 'ep', 'oo', 'loopt', 'tetzel', 'feet', 'et', 'dede', 'toledo', 'fete', 'popped', 'coello', 'olleet', 'oppe', 'pett', 'telco', 'etzel', 'lopped', 'dopo', 'doet', 'plodded', 'eze', 'feted', 'pt', 'colde', 'telle', 'ftp', 'oz', 'dept', 'eletto', 'efecto', 'depleted', 'peple', 'olde', 'cle', 'tte', 'dec', 'dette', 'doel', 'deo', 'oop', 'clo', 'zelle', 'ofte', 'zelf', 'celle', 'colette', 'cc', 'feele', 'poole', 'zelfde', 'cp', 'ecco', 'olette', 'flotte', 'collo', 'cl', 'foco', 'oecd', 'opp', 'dez', 'pelle', 'tle', 'detto', 'dezelfde', 'pelted']\n"
     ]
    }
   ],
   "source": [
    "only_in_wiki = list(set(wiki_words) - set(chart_words))\n",
    "print(only_in_wiki)"
   ]
  },
  {
   "cell_type": "markdown",
   "id": "8fea9225",
   "metadata": {},
   "source": [
    "# Adding the Wiki Eye chart words to the DataFrame<br>which contains the two previous word lists, Enchant  and NLTK"
   ]
  },
  {
   "cell_type": "code",
   "execution_count": 58,
   "id": "0cfabe7e",
   "metadata": {},
   "outputs": [],
   "source": [
    "lists = {'nltk' : chart_words, 'enchant' : only_in_enchant, 'wiki' : only_in_wiki}\n",
    "\n",
    "data = pd.DataFrame([(k, e, len(e)) for k, l in lists.items() for e in l],\n",
    "                   columns = ['source', 'word', 'length'])"
   ]
  },
  {
   "cell_type": "markdown",
   "id": "1512fa9c",
   "metadata": {},
   "source": [
    "### Having a look at the top of the DataFrame"
   ]
  },
  {
   "cell_type": "code",
   "execution_count": 59,
   "id": "20441a42",
   "metadata": {},
   "outputs": [
    {
     "data": {
      "text/html": [
       "<div>\n",
       "<style scoped>\n",
       "    .dataframe tbody tr th:only-of-type {\n",
       "        vertical-align: middle;\n",
       "    }\n",
       "\n",
       "    .dataframe tbody tr th {\n",
       "        vertical-align: top;\n",
       "    }\n",
       "\n",
       "    .dataframe thead th {\n",
       "        text-align: right;\n",
       "    }\n",
       "</style>\n",
       "<table border=\"1\" class=\"dataframe\">\n",
       "  <thead>\n",
       "    <tr style=\"text-align: right;\">\n",
       "      <th></th>\n",
       "      <th>source</th>\n",
       "      <th>word</th>\n",
       "      <th>length</th>\n",
       "    </tr>\n",
       "  </thead>\n",
       "  <tbody>\n",
       "    <tr>\n",
       "      <th>0</th>\n",
       "      <td>nltk</td>\n",
       "      <td>ce</td>\n",
       "      <td>2</td>\n",
       "    </tr>\n",
       "    <tr>\n",
       "      <th>1</th>\n",
       "      <td>nltk</td>\n",
       "      <td>cede</td>\n",
       "      <td>4</td>\n",
       "    </tr>\n",
       "    <tr>\n",
       "      <th>2</th>\n",
       "      <td>nltk</td>\n",
       "      <td>cee</td>\n",
       "      <td>3</td>\n",
       "    </tr>\n",
       "    <tr>\n",
       "      <th>3</th>\n",
       "      <td>nltk</td>\n",
       "      <td>cell</td>\n",
       "      <td>4</td>\n",
       "    </tr>\n",
       "    <tr>\n",
       "      <th>4</th>\n",
       "      <td>nltk</td>\n",
       "      <td>celled</td>\n",
       "      <td>6</td>\n",
       "    </tr>\n",
       "  </tbody>\n",
       "</table>\n",
       "</div>"
      ],
      "text/plain": [
       "  source    word  length\n",
       "0   nltk      ce       2\n",
       "1   nltk    cede       4\n",
       "2   nltk     cee       3\n",
       "3   nltk    cell       4\n",
       "4   nltk  celled       6"
      ]
     },
     "execution_count": 59,
     "metadata": {},
     "output_type": "execute_result"
    }
   ],
   "source": [
    "data.head()"
   ]
  },
  {
   "cell_type": "markdown",
   "id": "66ae3458",
   "metadata": {},
   "source": [
    "### And let's see if the wiki eye chart words were added to the bottom<br> of the DataFrame and labeled under the source column correctly"
   ]
  },
  {
   "cell_type": "code",
   "execution_count": 60,
   "id": "1df03711",
   "metadata": {},
   "outputs": [
    {
     "data": {
      "text/html": [
       "<div>\n",
       "<style scoped>\n",
       "    .dataframe tbody tr th:only-of-type {\n",
       "        vertical-align: middle;\n",
       "    }\n",
       "\n",
       "    .dataframe tbody tr th {\n",
       "        vertical-align: top;\n",
       "    }\n",
       "\n",
       "    .dataframe thead th {\n",
       "        text-align: right;\n",
       "    }\n",
       "</style>\n",
       "<table border=\"1\" class=\"dataframe\">\n",
       "  <thead>\n",
       "    <tr style=\"text-align: right;\">\n",
       "      <th></th>\n",
       "      <th>source</th>\n",
       "      <th>word</th>\n",
       "      <th>length</th>\n",
       "    </tr>\n",
       "  </thead>\n",
       "  <tbody>\n",
       "    <tr>\n",
       "      <th>670</th>\n",
       "      <td>wiki</td>\n",
       "      <td>pelle</td>\n",
       "      <td>5</td>\n",
       "    </tr>\n",
       "    <tr>\n",
       "      <th>671</th>\n",
       "      <td>wiki</td>\n",
       "      <td>tle</td>\n",
       "      <td>3</td>\n",
       "    </tr>\n",
       "    <tr>\n",
       "      <th>672</th>\n",
       "      <td>wiki</td>\n",
       "      <td>detto</td>\n",
       "      <td>5</td>\n",
       "    </tr>\n",
       "    <tr>\n",
       "      <th>673</th>\n",
       "      <td>wiki</td>\n",
       "      <td>dezelfde</td>\n",
       "      <td>8</td>\n",
       "    </tr>\n",
       "    <tr>\n",
       "      <th>674</th>\n",
       "      <td>wiki</td>\n",
       "      <td>pelted</td>\n",
       "      <td>6</td>\n",
       "    </tr>\n",
       "  </tbody>\n",
       "</table>\n",
       "</div>"
      ],
      "text/plain": [
       "    source      word  length\n",
       "670   wiki     pelle       5\n",
       "671   wiki       tle       3\n",
       "672   wiki     detto       5\n",
       "673   wiki  dezelfde       8\n",
       "674   wiki    pelted       6"
      ]
     },
     "execution_count": 60,
     "metadata": {},
     "output_type": "execute_result"
    }
   ],
   "source": [
    "data.tail()"
   ]
  },
  {
   "cell_type": "markdown",
   "id": "400cce44",
   "metadata": {},
   "source": [
    "## We're looking really good here.\n",
    "### All three lists have been added to our dataframe<br>The words are all labeled with the source column<br>so we know where they came from. "
   ]
  },
  {
   "cell_type": "code",
   "execution_count": 61,
   "id": "3e0d84f3",
   "metadata": {
    "scrolled": true
   },
   "outputs": [
    {
     "name": "stdout",
     "output_type": "stream",
     "text": [
      "We now have 675 words from three differen sources. \n",
      "All of the words are comprised soley of letters from the Snellen Eye Chart!\n"
     ]
    }
   ],
   "source": [
    "print(f\"\"\"We now have {len(data)} words from three differen sources. \n",
    "All of the words are comprised soley of letters from the Snellen Eye Chart!\"\"\")"
   ]
  },
  {
   "cell_type": "markdown",
   "id": "5c81c8f5",
   "metadata": {},
   "source": [
    "# I think we can safely remove any rows with words<br>that have no vowels"
   ]
  },
  {
   "cell_type": "markdown",
   "id": "2642674f",
   "metadata": {},
   "source": [
    "### isolating the rows without vowels"
   ]
  },
  {
   "cell_type": "code",
   "execution_count": 62,
   "id": "7946677e",
   "metadata": {},
   "outputs": [
    {
     "name": "stdout",
     "output_type": "stream",
     "text": [
      "      source   word  length\n",
      "406  enchant     fl       2\n",
      "408  enchant    pct       3\n",
      "409  enchant     pl       2\n",
      "411  enchant     cf       2\n",
      "412  enchant    cpd       3\n",
      "414  enchant     ct       2\n",
      "415  enchant     pt       2\n",
      "416  enchant    ftp       3\n",
      "418  enchant    ltd       3\n",
      "422  enchant    dpt       3\n",
      "423  enchant    flt       3\n",
      "424  enchant     dz       2\n",
      "426  enchant    cpl       3\n",
      "429  enchant     ft       2\n",
      "435  enchant     pf       2\n",
      "436  enchant     pd       2\n",
      "437  enchant     cl       2\n",
      "439  enchant     dc       2\n",
      "441     wiki     tt       2\n",
      "442     wiki     fl       2\n",
      "477     wiki     lt       2\n",
      "485     wiki     ft       2\n",
      "490     wiki  zzzzz       5\n",
      "496     wiki     dc       2\n",
      "503     wiki     cd       2\n",
      "511     wiki     pp       2\n",
      "512     wiki     cf       2\n",
      "513     wiki     pl       2\n",
      "529     wiki    ccc       3\n",
      "532     wiki    ltd       3\n",
      "533     wiki     dp       2\n",
      "547     wiki     ff       2\n",
      "551     wiki    fld       3\n",
      "575     wiki     ll       2\n",
      "605     wiki     ld       2\n",
      "632     wiki     pt       2\n",
      "635     wiki    ftp       3\n",
      "656     wiki     cc       2\n",
      "660     wiki     cp       2\n",
      "665     wiki     cl       2\n"
     ]
    }
   ],
   "source": [
    "no_vowels = (data[data['word'].str.count('(?i)[aeiou]') < 1])\n",
    "no_vowels_list = no_vowels.values.tolist()\n",
    "print(no_vowels)\n",
    "#print(wiki_df[wiki_df.words.str.contains(r'[@#&$%+-/*]')])\n",
    "#wiki_df.drop(wiki_df[wiki_df['words'].str.contains(r'[@#&$%+-/*]')].index, inplace=True)"
   ]
  },
  {
   "cell_type": "code",
   "execution_count": 63,
   "id": "81325f10",
   "metadata": {},
   "outputs": [
    {
     "name": "stdout",
     "output_type": "stream",
     "text": [
      " There are 40 words with no vowels \n"
     ]
    }
   ],
   "source": [
    "print(f\"\"\" There are {len(no_vowels)} words with no vowels \"\"\")"
   ]
  },
  {
   "cell_type": "markdown",
   "id": "a0285830",
   "metadata": {},
   "source": [
    "### Dropping those rows"
   ]
  },
  {
   "cell_type": "code",
   "execution_count": 64,
   "id": "8cde0180",
   "metadata": {},
   "outputs": [],
   "source": [
    "data.drop(data[data['word'].str.count('(?i)[aeiou]') < 1].index, inplace=True)"
   ]
  },
  {
   "cell_type": "code",
   "execution_count": 65,
   "id": "5545d51e",
   "metadata": {},
   "outputs": [],
   "source": [
    "data = data.reset_index(drop=True)"
   ]
  },
  {
   "cell_type": "code",
   "execution_count": 66,
   "id": "4c14fe39",
   "metadata": {},
   "outputs": [
    {
     "name": "stdout",
     "output_type": "stream",
     "text": [
      "After dropping the rows with words \n",
      "that have no vowels we're left with 635 rows \n",
      "in our DataFrame\n"
     ]
    }
   ],
   "source": [
    "print(f\"\"\"After dropping the rows with words \n",
    "that have no vowels we're left with {len(data)} rows \n",
    "in our DataFrame\"\"\")"
   ]
  },
  {
   "cell_type": "markdown",
   "id": "4804dd01",
   "metadata": {},
   "source": [
    "some nltk examples"
   ]
  },
  {
   "cell_type": "code",
   "execution_count": 67,
   "id": "a5787a56",
   "metadata": {},
   "outputs": [
    {
     "data": {
      "text/html": [
       "<div>\n",
       "<style scoped>\n",
       "    .dataframe tbody tr th:only-of-type {\n",
       "        vertical-align: middle;\n",
       "    }\n",
       "\n",
       "    .dataframe tbody tr th {\n",
       "        vertical-align: top;\n",
       "    }\n",
       "\n",
       "    .dataframe thead th {\n",
       "        text-align: right;\n",
       "    }\n",
       "</style>\n",
       "<table border=\"1\" class=\"dataframe\">\n",
       "  <thead>\n",
       "    <tr style=\"text-align: right;\">\n",
       "      <th></th>\n",
       "      <th>source</th>\n",
       "      <th>word</th>\n",
       "      <th>length</th>\n",
       "    </tr>\n",
       "  </thead>\n",
       "  <tbody>\n",
       "    <tr>\n",
       "      <th>0</th>\n",
       "      <td>nltk</td>\n",
       "      <td>ce</td>\n",
       "      <td>2</td>\n",
       "    </tr>\n",
       "    <tr>\n",
       "      <th>1</th>\n",
       "      <td>nltk</td>\n",
       "      <td>cede</td>\n",
       "      <td>4</td>\n",
       "    </tr>\n",
       "    <tr>\n",
       "      <th>2</th>\n",
       "      <td>nltk</td>\n",
       "      <td>cee</td>\n",
       "      <td>3</td>\n",
       "    </tr>\n",
       "    <tr>\n",
       "      <th>3</th>\n",
       "      <td>nltk</td>\n",
       "      <td>cell</td>\n",
       "      <td>4</td>\n",
       "    </tr>\n",
       "    <tr>\n",
       "      <th>4</th>\n",
       "      <td>nltk</td>\n",
       "      <td>celled</td>\n",
       "      <td>6</td>\n",
       "    </tr>\n",
       "  </tbody>\n",
       "</table>\n",
       "</div>"
      ],
      "text/plain": [
       "  source    word  length\n",
       "0   nltk      ce       2\n",
       "1   nltk    cede       4\n",
       "2   nltk     cee       3\n",
       "3   nltk    cell       4\n",
       "4   nltk  celled       6"
      ]
     },
     "execution_count": 67,
     "metadata": {},
     "output_type": "execute_result"
    }
   ],
   "source": [
    "data.head()"
   ]
  },
  {
   "cell_type": "markdown",
   "id": "a11d1167",
   "metadata": {},
   "source": [
    "some enchant words"
   ]
  },
  {
   "cell_type": "code",
   "execution_count": 68,
   "id": "7a62bd59",
   "metadata": {},
   "outputs": [
    {
     "data": {
      "text/html": [
       "<div>\n",
       "<style scoped>\n",
       "    .dataframe tbody tr th:only-of-type {\n",
       "        vertical-align: middle;\n",
       "    }\n",
       "\n",
       "    .dataframe tbody tr th {\n",
       "        vertical-align: top;\n",
       "    }\n",
       "\n",
       "    .dataframe thead th {\n",
       "        text-align: right;\n",
       "    }\n",
       "</style>\n",
       "<table border=\"1\" class=\"dataframe\">\n",
       "  <thead>\n",
       "    <tr style=\"text-align: right;\">\n",
       "      <th></th>\n",
       "      <th>source</th>\n",
       "      <th>word</th>\n",
       "      <th>length</th>\n",
       "    </tr>\n",
       "  </thead>\n",
       "  <tbody>\n",
       "    <tr>\n",
       "      <th>388</th>\n",
       "      <td>nltk</td>\n",
       "      <td>cold</td>\n",
       "      <td>4</td>\n",
       "    </tr>\n",
       "    <tr>\n",
       "      <th>389</th>\n",
       "      <td>nltk</td>\n",
       "      <td>deep</td>\n",
       "      <td>4</td>\n",
       "    </tr>\n",
       "    <tr>\n",
       "      <th>390</th>\n",
       "      <td>nltk</td>\n",
       "      <td>do</td>\n",
       "      <td>2</td>\n",
       "    </tr>\n",
       "    <tr>\n",
       "      <th>391</th>\n",
       "      <td>nltk</td>\n",
       "      <td>effect</td>\n",
       "      <td>6</td>\n",
       "    </tr>\n",
       "    <tr>\n",
       "      <th>392</th>\n",
       "      <td>nltk</td>\n",
       "      <td>fold</td>\n",
       "      <td>4</td>\n",
       "    </tr>\n",
       "  </tbody>\n",
       "</table>\n",
       "</div>"
      ],
      "text/plain": [
       "    source    word  length\n",
       "388   nltk    cold       4\n",
       "389   nltk    deep       4\n",
       "390   nltk      do       2\n",
       "391   nltk  effect       6\n",
       "392   nltk    fold       4"
      ]
     },
     "execution_count": 68,
     "metadata": {},
     "output_type": "execute_result"
    }
   ],
   "source": [
    "data[388:393]"
   ]
  },
  {
   "cell_type": "markdown",
   "id": "2c05010b",
   "metadata": {},
   "source": [
    "And finally some Wiki examples"
   ]
  },
  {
   "cell_type": "code",
   "execution_count": 69,
   "id": "4800417d",
   "metadata": {},
   "outputs": [
    {
     "data": {
      "text/html": [
       "<div>\n",
       "<style scoped>\n",
       "    .dataframe tbody tr th:only-of-type {\n",
       "        vertical-align: middle;\n",
       "    }\n",
       "\n",
       "    .dataframe tbody tr th {\n",
       "        vertical-align: top;\n",
       "    }\n",
       "\n",
       "    .dataframe thead th {\n",
       "        text-align: right;\n",
       "    }\n",
       "</style>\n",
       "<table border=\"1\" class=\"dataframe\">\n",
       "  <thead>\n",
       "    <tr style=\"text-align: right;\">\n",
       "      <th></th>\n",
       "      <th>source</th>\n",
       "      <th>word</th>\n",
       "      <th>length</th>\n",
       "    </tr>\n",
       "  </thead>\n",
       "  <tbody>\n",
       "    <tr>\n",
       "      <th>630</th>\n",
       "      <td>wiki</td>\n",
       "      <td>pelle</td>\n",
       "      <td>5</td>\n",
       "    </tr>\n",
       "    <tr>\n",
       "      <th>631</th>\n",
       "      <td>wiki</td>\n",
       "      <td>tle</td>\n",
       "      <td>3</td>\n",
       "    </tr>\n",
       "    <tr>\n",
       "      <th>632</th>\n",
       "      <td>wiki</td>\n",
       "      <td>detto</td>\n",
       "      <td>5</td>\n",
       "    </tr>\n",
       "    <tr>\n",
       "      <th>633</th>\n",
       "      <td>wiki</td>\n",
       "      <td>dezelfde</td>\n",
       "      <td>8</td>\n",
       "    </tr>\n",
       "    <tr>\n",
       "      <th>634</th>\n",
       "      <td>wiki</td>\n",
       "      <td>pelted</td>\n",
       "      <td>6</td>\n",
       "    </tr>\n",
       "  </tbody>\n",
       "</table>\n",
       "</div>"
      ],
      "text/plain": [
       "    source      word  length\n",
       "630   wiki     pelle       5\n",
       "631   wiki       tle       3\n",
       "632   wiki     detto       5\n",
       "633   wiki  dezelfde       8\n",
       "634   wiki    pelted       6"
      ]
     },
     "execution_count": 69,
     "metadata": {},
     "output_type": "execute_result"
    }
   ],
   "source": [
    "data.tail()"
   ]
  },
  {
   "cell_type": "markdown",
   "id": "84e654a2",
   "metadata": {},
   "source": [
    "# Let's sort this by word, alphabetically. \n",
    "## Because of this our \"source\" column will appear <br> to be out of order"
   ]
  },
  {
   "cell_type": "code",
   "execution_count": 70,
   "id": "ca3f6631",
   "metadata": {},
   "outputs": [],
   "source": [
    "data = data.sort_values(by='word', ascending=True).reset_index(drop=True)"
   ]
  },
  {
   "cell_type": "markdown",
   "id": "29e2d34d",
   "metadata": {},
   "source": [
    "#### A look at the top of the alphabetized DataFrame"
   ]
  },
  {
   "cell_type": "code",
   "execution_count": 71,
   "id": "b650a8d9",
   "metadata": {},
   "outputs": [
    {
     "data": {
      "text/html": [
       "<div>\n",
       "<style scoped>\n",
       "    .dataframe tbody tr th:only-of-type {\n",
       "        vertical-align: middle;\n",
       "    }\n",
       "\n",
       "    .dataframe tbody tr th {\n",
       "        vertical-align: top;\n",
       "    }\n",
       "\n",
       "    .dataframe thead th {\n",
       "        text-align: right;\n",
       "    }\n",
       "</style>\n",
       "<table border=\"1\" class=\"dataframe\">\n",
       "  <thead>\n",
       "    <tr style=\"text-align: right;\">\n",
       "      <th></th>\n",
       "      <th>source</th>\n",
       "      <th>word</th>\n",
       "      <th>length</th>\n",
       "    </tr>\n",
       "  </thead>\n",
       "  <tbody>\n",
       "    <tr>\n",
       "      <th>0</th>\n",
       "      <td>nltk</td>\n",
       "      <td>ce</td>\n",
       "      <td>2</td>\n",
       "    </tr>\n",
       "    <tr>\n",
       "      <th>1</th>\n",
       "      <td>nltk</td>\n",
       "      <td>cede</td>\n",
       "      <td>4</td>\n",
       "    </tr>\n",
       "    <tr>\n",
       "      <th>2</th>\n",
       "      <td>wiki</td>\n",
       "      <td>ceded</td>\n",
       "      <td>5</td>\n",
       "    </tr>\n",
       "    <tr>\n",
       "      <th>3</th>\n",
       "      <td>nltk</td>\n",
       "      <td>cee</td>\n",
       "      <td>3</td>\n",
       "    </tr>\n",
       "    <tr>\n",
       "      <th>4</th>\n",
       "      <td>wiki</td>\n",
       "      <td>cel</td>\n",
       "      <td>3</td>\n",
       "    </tr>\n",
       "    <tr>\n",
       "      <th>5</th>\n",
       "      <td>nltk</td>\n",
       "      <td>cell</td>\n",
       "      <td>4</td>\n",
       "    </tr>\n",
       "    <tr>\n",
       "      <th>6</th>\n",
       "      <td>wiki</td>\n",
       "      <td>celle</td>\n",
       "      <td>5</td>\n",
       "    </tr>\n",
       "    <tr>\n",
       "      <th>7</th>\n",
       "      <td>nltk</td>\n",
       "      <td>celled</td>\n",
       "      <td>6</td>\n",
       "    </tr>\n",
       "    <tr>\n",
       "      <th>8</th>\n",
       "      <td>nltk</td>\n",
       "      <td>cello</td>\n",
       "      <td>5</td>\n",
       "    </tr>\n",
       "    <tr>\n",
       "      <th>9</th>\n",
       "      <td>nltk</td>\n",
       "      <td>celt</td>\n",
       "      <td>4</td>\n",
       "    </tr>\n",
       "    <tr>\n",
       "      <th>10</th>\n",
       "      <td>nltk</td>\n",
       "      <td>cep</td>\n",
       "      <td>3</td>\n",
       "    </tr>\n",
       "    <tr>\n",
       "      <th>11</th>\n",
       "      <td>nltk</td>\n",
       "      <td>cepe</td>\n",
       "      <td>4</td>\n",
       "    </tr>\n",
       "    <tr>\n",
       "      <th>12</th>\n",
       "      <td>wiki</td>\n",
       "      <td>cet</td>\n",
       "      <td>3</td>\n",
       "    </tr>\n",
       "  </tbody>\n",
       "</table>\n",
       "</div>"
      ],
      "text/plain": [
       "   source    word  length\n",
       "0    nltk      ce       2\n",
       "1    nltk    cede       4\n",
       "2    wiki   ceded       5\n",
       "3    nltk     cee       3\n",
       "4    wiki     cel       3\n",
       "5    nltk    cell       4\n",
       "6    wiki   celle       5\n",
       "7    nltk  celled       6\n",
       "8    nltk   cello       5\n",
       "9    nltk    celt       4\n",
       "10   nltk     cep       3\n",
       "11   nltk    cepe       4\n",
       "12   wiki     cet       3"
      ]
     },
     "execution_count": 71,
     "metadata": {},
     "output_type": "execute_result"
    }
   ],
   "source": [
    "data.head(13)"
   ]
  },
  {
   "cell_type": "markdown",
   "id": "2ee6043f",
   "metadata": {},
   "source": [
    "#### Looking at the bottom of the DataFrame"
   ]
  },
  {
   "cell_type": "code",
   "execution_count": 72,
   "id": "c0f51ee2",
   "metadata": {},
   "outputs": [
    {
     "data": {
      "text/html": [
       "<div>\n",
       "<style scoped>\n",
       "    .dataframe tbody tr th:only-of-type {\n",
       "        vertical-align: middle;\n",
       "    }\n",
       "\n",
       "    .dataframe tbody tr th {\n",
       "        vertical-align: top;\n",
       "    }\n",
       "\n",
       "    .dataframe thead th {\n",
       "        text-align: right;\n",
       "    }\n",
       "</style>\n",
       "<table border=\"1\" class=\"dataframe\">\n",
       "  <thead>\n",
       "    <tr style=\"text-align: right;\">\n",
       "      <th></th>\n",
       "      <th>source</th>\n",
       "      <th>word</th>\n",
       "      <th>length</th>\n",
       "    </tr>\n",
       "  </thead>\n",
       "  <tbody>\n",
       "    <tr>\n",
       "      <th>625</th>\n",
       "      <td>nltk</td>\n",
       "      <td>zocco</td>\n",
       "      <td>5</td>\n",
       "    </tr>\n",
       "    <tr>\n",
       "      <th>626</th>\n",
       "      <td>nltk</td>\n",
       "      <td>zoccolo</td>\n",
       "      <td>7</td>\n",
       "    </tr>\n",
       "    <tr>\n",
       "      <th>627</th>\n",
       "      <td>wiki</td>\n",
       "      <td>zoe</td>\n",
       "      <td>3</td>\n",
       "    </tr>\n",
       "    <tr>\n",
       "      <th>628</th>\n",
       "      <td>wiki</td>\n",
       "      <td>zoete</td>\n",
       "      <td>5</td>\n",
       "    </tr>\n",
       "    <tr>\n",
       "      <th>629</th>\n",
       "      <td>wiki</td>\n",
       "      <td>zol</td>\n",
       "      <td>3</td>\n",
       "    </tr>\n",
       "    <tr>\n",
       "      <th>630</th>\n",
       "      <td>nltk</td>\n",
       "      <td>zoll</td>\n",
       "      <td>4</td>\n",
       "    </tr>\n",
       "    <tr>\n",
       "      <th>631</th>\n",
       "      <td>nltk</td>\n",
       "      <td>zolle</td>\n",
       "      <td>5</td>\n",
       "    </tr>\n",
       "    <tr>\n",
       "      <th>632</th>\n",
       "      <td>nltk</td>\n",
       "      <td>zoo</td>\n",
       "      <td>3</td>\n",
       "    </tr>\n",
       "    <tr>\n",
       "      <th>633</th>\n",
       "      <td>wiki</td>\n",
       "      <td>zool</td>\n",
       "      <td>4</td>\n",
       "    </tr>\n",
       "    <tr>\n",
       "      <th>634</th>\n",
       "      <td>nltk</td>\n",
       "      <td>zoozoo</td>\n",
       "      <td>6</td>\n",
       "    </tr>\n",
       "  </tbody>\n",
       "</table>\n",
       "</div>"
      ],
      "text/plain": [
       "    source     word  length\n",
       "625   nltk    zocco       5\n",
       "626   nltk  zoccolo       7\n",
       "627   wiki      zoe       3\n",
       "628   wiki    zoete       5\n",
       "629   wiki      zol       3\n",
       "630   nltk     zoll       4\n",
       "631   nltk    zolle       5\n",
       "632   nltk      zoo       3\n",
       "633   wiki     zool       4\n",
       "634   nltk   zoozoo       6"
      ]
     },
     "execution_count": 72,
     "metadata": {},
     "output_type": "execute_result"
    }
   ],
   "source": [
    "data.tail(10)"
   ]
  },
  {
   "cell_type": "markdown",
   "id": "850d52be",
   "metadata": {},
   "source": [
    "#### Dropping any duplicates"
   ]
  },
  {
   "cell_type": "code",
   "execution_count": 73,
   "id": "cec937be",
   "metadata": {},
   "outputs": [],
   "source": [
    "data = data.drop_duplicates(subset=['word'], keep='first').reset_index(drop=True)"
   ]
  },
  {
   "cell_type": "code",
   "execution_count": 74,
   "id": "59857cef",
   "metadata": {},
   "outputs": [
    {
     "data": {
      "text/html": [
       "<div>\n",
       "<style scoped>\n",
       "    .dataframe tbody tr th:only-of-type {\n",
       "        vertical-align: middle;\n",
       "    }\n",
       "\n",
       "    .dataframe tbody tr th {\n",
       "        vertical-align: top;\n",
       "    }\n",
       "\n",
       "    .dataframe thead th {\n",
       "        text-align: right;\n",
       "    }\n",
       "</style>\n",
       "<table border=\"1\" class=\"dataframe\">\n",
       "  <thead>\n",
       "    <tr style=\"text-align: right;\">\n",
       "      <th></th>\n",
       "      <th>source</th>\n",
       "      <th>word</th>\n",
       "      <th>length</th>\n",
       "    </tr>\n",
       "  </thead>\n",
       "  <tbody>\n",
       "    <tr>\n",
       "      <th>0</th>\n",
       "      <td>nltk</td>\n",
       "      <td>ce</td>\n",
       "      <td>2</td>\n",
       "    </tr>\n",
       "    <tr>\n",
       "      <th>1</th>\n",
       "      <td>nltk</td>\n",
       "      <td>cede</td>\n",
       "      <td>4</td>\n",
       "    </tr>\n",
       "    <tr>\n",
       "      <th>2</th>\n",
       "      <td>wiki</td>\n",
       "      <td>ceded</td>\n",
       "      <td>5</td>\n",
       "    </tr>\n",
       "    <tr>\n",
       "      <th>3</th>\n",
       "      <td>nltk</td>\n",
       "      <td>cee</td>\n",
       "      <td>3</td>\n",
       "    </tr>\n",
       "    <tr>\n",
       "      <th>4</th>\n",
       "      <td>wiki</td>\n",
       "      <td>cel</td>\n",
       "      <td>3</td>\n",
       "    </tr>\n",
       "  </tbody>\n",
       "</table>\n",
       "</div>"
      ],
      "text/plain": [
       "  source   word  length\n",
       "0   nltk     ce       2\n",
       "1   nltk   cede       4\n",
       "2   wiki  ceded       5\n",
       "3   nltk    cee       3\n",
       "4   wiki    cel       3"
      ]
     },
     "execution_count": 74,
     "metadata": {},
     "output_type": "execute_result"
    }
   ],
   "source": [
    "data.head()"
   ]
  },
  {
   "cell_type": "markdown",
   "id": "de02ff1c",
   "metadata": {},
   "source": [
    "#### Let's see some info about the length of the words"
   ]
  },
  {
   "cell_type": "code",
   "execution_count": 75,
   "id": "94483b1f",
   "metadata": {},
   "outputs": [
    {
     "name": "stdout",
     "output_type": "stream",
     "text": [
      "<class 'pandas.core.frame.DataFrame'>\n",
      "RangeIndex: 609 entries, 0 to 608\n",
      "Data columns (total 3 columns):\n",
      " #   Column  Non-Null Count  Dtype \n",
      "---  ------  --------------  ----- \n",
      " 0   source  609 non-null    object\n",
      " 1   word    609 non-null    object\n",
      " 2   length  609 non-null    int64 \n",
      "dtypes: int64(1), object(2)\n",
      "memory usage: 14.4+ KB\n"
     ]
    }
   ],
   "source": [
    "data.info()"
   ]
  },
  {
   "cell_type": "code",
   "execution_count": 76,
   "id": "4532ba81",
   "metadata": {},
   "outputs": [
    {
     "data": {
      "text/html": [
       "<div>\n",
       "<style scoped>\n",
       "    .dataframe tbody tr th:only-of-type {\n",
       "        vertical-align: middle;\n",
       "    }\n",
       "\n",
       "    .dataframe tbody tr th {\n",
       "        vertical-align: top;\n",
       "    }\n",
       "\n",
       "    .dataframe thead th {\n",
       "        text-align: right;\n",
       "    }\n",
       "</style>\n",
       "<table border=\"1\" class=\"dataframe\">\n",
       "  <thead>\n",
       "    <tr style=\"text-align: right;\">\n",
       "      <th></th>\n",
       "      <th>length</th>\n",
       "    </tr>\n",
       "  </thead>\n",
       "  <tbody>\n",
       "    <tr>\n",
       "      <th>count</th>\n",
       "      <td>609.000000</td>\n",
       "    </tr>\n",
       "    <tr>\n",
       "      <th>mean</th>\n",
       "      <td>4.599343</td>\n",
       "    </tr>\n",
       "    <tr>\n",
       "      <th>std</th>\n",
       "      <td>1.524061</td>\n",
       "    </tr>\n",
       "    <tr>\n",
       "      <th>min</th>\n",
       "      <td>2.000000</td>\n",
       "    </tr>\n",
       "    <tr>\n",
       "      <th>25%</th>\n",
       "      <td>4.000000</td>\n",
       "    </tr>\n",
       "    <tr>\n",
       "      <th>50%</th>\n",
       "      <td>4.000000</td>\n",
       "    </tr>\n",
       "    <tr>\n",
       "      <th>75%</th>\n",
       "      <td>6.000000</td>\n",
       "    </tr>\n",
       "    <tr>\n",
       "      <th>max</th>\n",
       "      <td>12.000000</td>\n",
       "    </tr>\n",
       "  </tbody>\n",
       "</table>\n",
       "</div>"
      ],
      "text/plain": [
       "           length\n",
       "count  609.000000\n",
       "mean     4.599343\n",
       "std      1.524061\n",
       "min      2.000000\n",
       "25%      4.000000\n",
       "50%      4.000000\n",
       "75%      6.000000\n",
       "max     12.000000"
      ]
     },
     "execution_count": 76,
     "metadata": {},
     "output_type": "execute_result"
    }
   ],
   "source": [
    "data.describe()"
   ]
  },
  {
   "cell_type": "code",
   "execution_count": 77,
   "id": "2bc0d2b4",
   "metadata": {},
   "outputs": [
    {
     "data": {
      "text/plain": [
       "array([ 2,  4,  5,  3,  6,  7,  8,  9, 10, 12])"
      ]
     },
     "execution_count": 77,
     "metadata": {},
     "output_type": "execute_result"
    }
   ],
   "source": [
    "data['length'].unique()"
   ]
  },
  {
   "cell_type": "markdown",
   "id": "8a62fee9",
   "metadata": {},
   "source": [
    "What are all the two-letter words?"
   ]
  },
  {
   "cell_type": "code",
   "execution_count": 78,
   "id": "0a645601",
   "metadata": {},
   "outputs": [
    {
     "data": {
      "text/html": [
       "<div>\n",
       "<style scoped>\n",
       "    .dataframe tbody tr th:only-of-type {\n",
       "        vertical-align: middle;\n",
       "    }\n",
       "\n",
       "    .dataframe tbody tr th {\n",
       "        vertical-align: top;\n",
       "    }\n",
       "\n",
       "    .dataframe thead th {\n",
       "        text-align: right;\n",
       "    }\n",
       "</style>\n",
       "<table border=\"1\" class=\"dataframe\">\n",
       "  <thead>\n",
       "    <tr style=\"text-align: right;\">\n",
       "      <th></th>\n",
       "      <th>source</th>\n",
       "      <th>word</th>\n",
       "      <th>length</th>\n",
       "    </tr>\n",
       "  </thead>\n",
       "  <tbody>\n",
       "    <tr>\n",
       "      <th>0</th>\n",
       "      <td>nltk</td>\n",
       "      <td>ce</td>\n",
       "      <td>2</td>\n",
       "    </tr>\n",
       "    <tr>\n",
       "      <th>35</th>\n",
       "      <td>enchant</td>\n",
       "      <td>co</td>\n",
       "      <td>2</td>\n",
       "    </tr>\n",
       "    <tr>\n",
       "      <th>104</th>\n",
       "      <td>nltk</td>\n",
       "      <td>de</td>\n",
       "      <td>2</td>\n",
       "    </tr>\n",
       "    <tr>\n",
       "      <th>148</th>\n",
       "      <td>nltk</td>\n",
       "      <td>do</td>\n",
       "      <td>2</td>\n",
       "    </tr>\n",
       "    <tr>\n",
       "      <th>191</th>\n",
       "      <td>wiki</td>\n",
       "      <td>ec</td>\n",
       "      <td>2</td>\n",
       "    </tr>\n",
       "    <tr>\n",
       "      <th>198</th>\n",
       "      <td>wiki</td>\n",
       "      <td>ed</td>\n",
       "      <td>2</td>\n",
       "    </tr>\n",
       "    <tr>\n",
       "      <th>203</th>\n",
       "      <td>wiki</td>\n",
       "      <td>ee</td>\n",
       "      <td>2</td>\n",
       "    </tr>\n",
       "    <tr>\n",
       "      <th>207</th>\n",
       "      <td>wiki</td>\n",
       "      <td>ef</td>\n",
       "      <td>2</td>\n",
       "    </tr>\n",
       "    <tr>\n",
       "      <th>214</th>\n",
       "      <td>nltk</td>\n",
       "      <td>el</td>\n",
       "      <td>2</td>\n",
       "    </tr>\n",
       "    <tr>\n",
       "      <th>230</th>\n",
       "      <td>wiki</td>\n",
       "      <td>eo</td>\n",
       "      <td>2</td>\n",
       "    </tr>\n",
       "    <tr>\n",
       "      <th>231</th>\n",
       "      <td>wiki</td>\n",
       "      <td>ep</td>\n",
       "      <td>2</td>\n",
       "    </tr>\n",
       "    <tr>\n",
       "      <th>236</th>\n",
       "      <td>wiki</td>\n",
       "      <td>et</td>\n",
       "      <td>2</td>\n",
       "    </tr>\n",
       "    <tr>\n",
       "      <th>243</th>\n",
       "      <td>wiki</td>\n",
       "      <td>ez</td>\n",
       "      <td>2</td>\n",
       "    </tr>\n",
       "    <tr>\n",
       "      <th>245</th>\n",
       "      <td>nltk</td>\n",
       "      <td>fe</td>\n",
       "      <td>2</td>\n",
       "    </tr>\n",
       "    <tr>\n",
       "      <th>291</th>\n",
       "      <td>wiki</td>\n",
       "      <td>fo</td>\n",
       "      <td>2</td>\n",
       "    </tr>\n",
       "    <tr>\n",
       "      <th>314</th>\n",
       "      <td>wiki</td>\n",
       "      <td>le</td>\n",
       "      <td>2</td>\n",
       "    </tr>\n",
       "    <tr>\n",
       "      <th>336</th>\n",
       "      <td>nltk</td>\n",
       "      <td>lo</td>\n",
       "      <td>2</td>\n",
       "    </tr>\n",
       "    <tr>\n",
       "      <th>367</th>\n",
       "      <td>wiki</td>\n",
       "      <td>oc</td>\n",
       "      <td>2</td>\n",
       "    </tr>\n",
       "    <tr>\n",
       "      <th>375</th>\n",
       "      <td>nltk</td>\n",
       "      <td>od</td>\n",
       "      <td>2</td>\n",
       "    </tr>\n",
       "    <tr>\n",
       "      <th>382</th>\n",
       "      <td>nltk</td>\n",
       "      <td>oe</td>\n",
       "      <td>2</td>\n",
       "    </tr>\n",
       "    <tr>\n",
       "      <th>386</th>\n",
       "      <td>nltk</td>\n",
       "      <td>of</td>\n",
       "      <td>2</td>\n",
       "    </tr>\n",
       "    <tr>\n",
       "      <th>392</th>\n",
       "      <td>wiki</td>\n",
       "      <td>ol</td>\n",
       "      <td>2</td>\n",
       "    </tr>\n",
       "    <tr>\n",
       "      <th>403</th>\n",
       "      <td>wiki</td>\n",
       "      <td>oo</td>\n",
       "      <td>2</td>\n",
       "    </tr>\n",
       "    <tr>\n",
       "      <th>410</th>\n",
       "      <td>enchant</td>\n",
       "      <td>op</td>\n",
       "      <td>2</td>\n",
       "    </tr>\n",
       "    <tr>\n",
       "      <th>420</th>\n",
       "      <td>wiki</td>\n",
       "      <td>ot</td>\n",
       "      <td>2</td>\n",
       "    </tr>\n",
       "    <tr>\n",
       "      <th>423</th>\n",
       "      <td>enchant</td>\n",
       "      <td>oz</td>\n",
       "      <td>2</td>\n",
       "    </tr>\n",
       "    <tr>\n",
       "      <th>424</th>\n",
       "      <td>wiki</td>\n",
       "      <td>pe</td>\n",
       "      <td>2</td>\n",
       "    </tr>\n",
       "    <tr>\n",
       "      <th>471</th>\n",
       "      <td>nltk</td>\n",
       "      <td>po</td>\n",
       "      <td>2</td>\n",
       "    </tr>\n",
       "    <tr>\n",
       "      <th>511</th>\n",
       "      <td>nltk</td>\n",
       "      <td>te</td>\n",
       "      <td>2</td>\n",
       "    </tr>\n",
       "    <tr>\n",
       "      <th>538</th>\n",
       "      <td>nltk</td>\n",
       "      <td>to</td>\n",
       "      <td>2</td>\n",
       "    </tr>\n",
       "    <tr>\n",
       "      <th>586</th>\n",
       "      <td>wiki</td>\n",
       "      <td>ze</td>\n",
       "      <td>2</td>\n",
       "    </tr>\n",
       "    <tr>\n",
       "      <th>598</th>\n",
       "      <td>nltk</td>\n",
       "      <td>zo</td>\n",
       "      <td>2</td>\n",
       "    </tr>\n",
       "  </tbody>\n",
       "</table>\n",
       "</div>"
      ],
      "text/plain": [
       "      source word  length\n",
       "0       nltk   ce       2\n",
       "35   enchant   co       2\n",
       "104     nltk   de       2\n",
       "148     nltk   do       2\n",
       "191     wiki   ec       2\n",
       "198     wiki   ed       2\n",
       "203     wiki   ee       2\n",
       "207     wiki   ef       2\n",
       "214     nltk   el       2\n",
       "230     wiki   eo       2\n",
       "231     wiki   ep       2\n",
       "236     wiki   et       2\n",
       "243     wiki   ez       2\n",
       "245     nltk   fe       2\n",
       "291     wiki   fo       2\n",
       "314     wiki   le       2\n",
       "336     nltk   lo       2\n",
       "367     wiki   oc       2\n",
       "375     nltk   od       2\n",
       "382     nltk   oe       2\n",
       "386     nltk   of       2\n",
       "392     wiki   ol       2\n",
       "403     wiki   oo       2\n",
       "410  enchant   op       2\n",
       "420     wiki   ot       2\n",
       "423  enchant   oz       2\n",
       "424     wiki   pe       2\n",
       "471     nltk   po       2\n",
       "511     nltk   te       2\n",
       "538     nltk   to       2\n",
       "586     wiki   ze       2\n",
       "598     nltk   zo       2"
      ]
     },
     "execution_count": 78,
     "metadata": {},
     "output_type": "execute_result"
    }
   ],
   "source": [
    "two = data.loc[data['length'] == 2] #153, 204, 254, 401, 409, 443, 561\n",
    "\n",
    "#uncomment below to see records with 2-lettered words\n",
    "two"
   ]
  },
  {
   "cell_type": "markdown",
   "id": "a68eb321",
   "metadata": {},
   "source": [
    "Dropping all the rows with nonsense two-letter words"
   ]
  },
  {
   "cell_type": "code",
   "execution_count": 79,
   "id": "e678ec87",
   "metadata": {},
   "outputs": [],
   "source": [
    "rows = [598, 586, 511, 471, 424, 420, 403, 382, \n",
    "        375, 314, 291, 236, 231, 230, 214, 207, \n",
    "        203, 191, 104, 35, 0] \n",
    "\n",
    "data.drop(data.index[rows], inplace=True,)"
   ]
  },
  {
   "cell_type": "code",
   "execution_count": 80,
   "id": "38dfe648",
   "metadata": {},
   "outputs": [
    {
     "name": "stdout",
     "output_type": "stream",
     "text": [
      "<class 'pandas.core.frame.DataFrame'>\n",
      "Int64Index: 588 entries, 1 to 608\n",
      "Data columns (total 3 columns):\n",
      " #   Column  Non-Null Count  Dtype \n",
      "---  ------  --------------  ----- \n",
      " 0   source  588 non-null    object\n",
      " 1   word    588 non-null    object\n",
      " 2   length  588 non-null    int64 \n",
      "dtypes: int64(1), object(2)\n",
      "memory usage: 18.4+ KB\n"
     ]
    }
   ],
   "source": [
    "data.info()"
   ]
  },
  {
   "cell_type": "markdown",
   "id": "59474ea1",
   "metadata": {},
   "source": [
    "## A look at all of our words "
   ]
  },
  {
   "cell_type": "code",
   "execution_count": 81,
   "id": "29be6b3f",
   "metadata": {},
   "outputs": [
    {
     "name": "stdout",
     "output_type": "stream",
     "text": [
      "['cede', 'ceded', 'cee', 'cel', 'cell', 'celle', 'celled', 'cello', 'celt', 'cep', 'cepe', 'cet', 'cette', 'cle', 'cled', 'clee', 'clef', 'cleft', 'clefted', 'cleo', 'clep', 'clept', 'clo', 'clod', 'clodlet', 'clodpoll', 'cloff', 'cloof', 'cloop', 'cloot', 'clop', 'clot', 'clote', 'clotted', 'cocco', 'coco', 'cocotte', 'cocozelle', 'cod', 'coddle', 'code', 'codo', 'codol', 'coe', 'coed', 'coeffect', 'coelect', 'coello', 'coelo', 'cofeoffee', 'coff', 'coffee', 'coffeepot', 'coffle', 'coft', 'col', 'cold', 'colde', 'cole', 'colette', 'coll', 'colle', 'collect', 'collected', 'collet', 'collo', 'collop', 'colloped', 'collot', 'colp', 'colpeo', 'colpo', 'colpocele', 'colt', 'coo', 'coodle', 'cooed', 'cooee', 'coof', 'cool', 'cooled', 'coop', 'cooped', 'coot', 'coote', 'cootfoot', 'cop', 'cope', 'coped', 'copepod', 'copped', 'coppet', 'copple', 'coppled', 'cot', 'cote', 'coto', 'cotte', 'cotted', 'cottle', 'coz', 'coze', 'dec', 'decl', 'decoct', 'decode', 'decollete', 'dede', 'dedo', 'dee', 'deed', 'deedeed', 'deel', 'deep', 'deepe', 'deeze', 'def', 'defect', 'deflect', 'deflected', 'defoe', 'deft', 'del', 'dele', 'delete', 'delf', 'delft', 'dell', 'delle', 'dello', 'deo', 'depeople', 'deplete', 'depleted', 'depot', 'dept', 'det', 'detect', 'detected', 'dette', 'detto', 'dez', 'deze', 'dezelfde', 'dle', 'do', 'doc', 'doce', 'doct', 'dod', 'dodd', 'dodded', 'doddle', 'dodlet', 'dodo', 'doe', 'doel', 'doet', 'doff', 'doffed', 'dol', 'dolce', 'dole', 'doled', 'doll', 'dollop', 'dolt', 'doo', 'doocot', 'dood', 'doode', 'doodle', 'dool', 'doolee', 'doot', 'dop', 'dope', 'dopo', 'doppelt', 'dot', 'dote', 'doted', 'dotted', 'dottle', 'doz', 'doze', 'dozed', 'dozzled', 'ecce', 'eccl', 'ecco', 'ece', 'ecol', 'ecole', 'ed', 'eddo', 'edel', 'edele', 'edle', 'eel', 'eelpot', 'eet', 'efecto', 'effect', 'effected', 'effet', 'effete', 'eft', 'eld', 'ele', 'elec', 'elect', 'elected', 'electee', 'eletto', 'elf', 'ell', 'elle', 'ello', 'elod', 'elope', 'eloped', 'elt', 'epee', 'epode', 'epopee', 'epopt', 'etc', 'ete', 'ett', 'ette', 'ettle', 'etzel', 'ez', 'eze', 'fe', 'fece', 'fed', 'fede', 'fee', 'feed', 'feel', 'feele', 'feet', 'feete', 'feeze', 'fel', 'feld', 'felde', 'fell', 'felled', 'felloe', 'felt', 'felted', 'feod', 'feoff', 'feoffee', 'fet', 'fete', 'feted', 'fett', 'fettle', 'fez', 'fezzed', 'fled', 'flee', 'fleece', 'fleeced', 'fleet', 'fleete', 'flet', 'flo', 'floc', 'floe', 'flood', 'flooded', 'floodlet', 'flop', 'flopped', 'flot', 'flotte', 'foco', 'fod', 'foe', 'fol', 'folco', 'fold', 'folded', 'fole', 'foll', 'folle', 'foo', 'food', 'fool', 'foole', 'fooled', 'foot', 'foote', 'footed', 'footle', 'foozle', 'fop', 'fot', 'lec', 'led', 'lede', 'ledol', 'lee', 'leed', 'leefde', 'leeft', 'leep', 'leet', 'leetle', 'left', 'lel', 'leo', 'leopold', 'let', 'lete', 'letoff', 'lette', 'letto', 'letzte', 'lo', 'loc', 'loco', 'locofoco', 'lod', 'lode', 'lof', 'loft', 'lofted', 'loll', 'lolled', 'lollop', 'loo', 'lood', 'loof', 'loop', 'looped', 'looplet', 'loopt', 'loot', 'looted', 'lop', 'lope', 'loped', 'lopez', 'lopped', 'loppet', 'lot', 'lote', 'lotte', 'lotto', 'oc', 'ocelot', 'ocote', 'oct', 'octet', 'octoped', 'octopede', 'octopod', 'odd', 'ode', 'odel', 'odelet', 'odette', 'odo', 'oecd', 'oed', 'oedd', 'of', 'off', 'offlet', 'oflete', 'oft', 'ofte', 'ol', 'old', 'olde', 'ole', 'olelo', 'oleo', 'olet', 'olette', 'olleet', 'olof', 'olpe', 'oof', 'oop', 'oopod', 'oot', 'ooze', 'oozed', 'op', 'ope', 'opec', 'oped', 'opelet', 'opodeldoc', 'opp', 'oppe', 'opt', 'opted', 'otoo', 'otto', 'oz', 'ped', 'peddle', 'pede', 'pedee', 'pee', 'peece', 'peed', 'peel', 'peele', 'peeled', 'peep', 'peeped', 'pel', 'pelf', 'pell', 'pelle', 'pellet', 'pelleted', 'pelo', 'pelt', 'pelted', 'pelz', 'people', 'peopled', 'peoplet', 'pep', 'pepe', 'peple', 'pepo', 'pet', 'pete', 'peto', 'pett', 'petted', 'pettle', 'petto', 'ple', 'pled', 'pleopod', 'ploce', 'plod', 'plodded', 'plop', 'plot', 'plote', 'plotted', 'poco', 'pod', 'podded', 'poddle', 'podzol', 'poe', 'poet', 'poete', 'pol', 'pole', 'poled', 'poll', 'polled', 'polo', 'polt', 'poltfoot', 'poltfooted', 'poodle', 'poof', 'pool', 'poole', 'poop', 'pooped', 'poot', 'pop', 'pope', 'popolo', 'popped', 'poppel', 'poppet', 'popple', 'pot', 'pote', 'potoo', 'pott', 'potted', 'pottle', 'pottled', 'potto', 'tec', 'tecle', 'ted', 'tee', 'teedle', 'teel', 'teepee', 'teet', 'teff', 'tel', 'telco', 'tele', 'telecode', 'tell', 'telle', 'telled', 'tellee', 'tello', 'tellt', 'telt', 'tepee', 'tete', 'tetel', 'tetzel', 'tez', 'tle', 'to', 'toco', 'tod', 'todd', 'toddle', 'toddled', 'tode', 'todo', 'todt', 'toe', 'toed', 'toetoe', 'toff', 'toffee', 'toft', 'tol', 'told', 'tolde', 'toldo', 'tole', 'toledo', 'toll', 'tolled', 'tolt', 'too', 'toodle', 'toodleloodle', 'tool', 'toop', 'toot', 'tootle', 'toozle', 'toozoo', 'top', 'tope', 'topee', 'topepo', 'topo', 'topped', 'topple', 'toppled', 'tot', 'tote', 'toto', 'tottle', 'toze', 'tozee', 'tte', 'zed', 'zee', 'zeed', 'zel', 'zele', 'zelf', 'zelfde', 'zelle', 'zet', 'zette', 'zettel', 'zocco', 'zoccolo', 'zoe', 'zoete', 'zol', 'zoll', 'zolle', 'zoo', 'zool', 'zoozoo']\n"
     ]
    }
   ],
   "source": [
    "print(data['word'].tolist())"
   ]
  },
  {
   "cell_type": "markdown",
   "id": "034b2bb6",
   "metadata": {},
   "source": [
    "# How about we make a DataFrame<br>where  the columns represent Word Length"
   ]
  },
  {
   "cell_type": "code",
   "execution_count": 82,
   "id": "718635bb",
   "metadata": {},
   "outputs": [
    {
     "data": {
      "text/html": [
       "<div>\n",
       "<style scoped>\n",
       "    .dataframe tbody tr th:only-of-type {\n",
       "        vertical-align: middle;\n",
       "    }\n",
       "\n",
       "    .dataframe tbody tr th {\n",
       "        vertical-align: top;\n",
       "    }\n",
       "\n",
       "    .dataframe thead th {\n",
       "        text-align: right;\n",
       "    }\n",
       "</style>\n",
       "<table border=\"1\" class=\"dataframe\">\n",
       "  <thead>\n",
       "    <tr style=\"text-align: right;\">\n",
       "      <th>length</th>\n",
       "      <th>2</th>\n",
       "      <th>3</th>\n",
       "      <th>4</th>\n",
       "      <th>5</th>\n",
       "      <th>6</th>\n",
       "      <th>7</th>\n",
       "      <th>8</th>\n",
       "      <th>9</th>\n",
       "      <th>10</th>\n",
       "      <th>12</th>\n",
       "    </tr>\n",
       "  </thead>\n",
       "  <tbody>\n",
       "    <tr>\n",
       "      <th>1</th>\n",
       "      <td>NA</td>\n",
       "      <td>NA</td>\n",
       "      <td>cede</td>\n",
       "      <td>NA</td>\n",
       "      <td>NA</td>\n",
       "      <td>NA</td>\n",
       "      <td>NA</td>\n",
       "      <td>NA</td>\n",
       "      <td>NA</td>\n",
       "      <td>NA</td>\n",
       "    </tr>\n",
       "    <tr>\n",
       "      <th>2</th>\n",
       "      <td>NA</td>\n",
       "      <td>NA</td>\n",
       "      <td>NA</td>\n",
       "      <td>ceded</td>\n",
       "      <td>NA</td>\n",
       "      <td>NA</td>\n",
       "      <td>NA</td>\n",
       "      <td>NA</td>\n",
       "      <td>NA</td>\n",
       "      <td>NA</td>\n",
       "    </tr>\n",
       "    <tr>\n",
       "      <th>3</th>\n",
       "      <td>NA</td>\n",
       "      <td>cee</td>\n",
       "      <td>NA</td>\n",
       "      <td>NA</td>\n",
       "      <td>NA</td>\n",
       "      <td>NA</td>\n",
       "      <td>NA</td>\n",
       "      <td>NA</td>\n",
       "      <td>NA</td>\n",
       "      <td>NA</td>\n",
       "    </tr>\n",
       "    <tr>\n",
       "      <th>4</th>\n",
       "      <td>NA</td>\n",
       "      <td>cel</td>\n",
       "      <td>NA</td>\n",
       "      <td>NA</td>\n",
       "      <td>NA</td>\n",
       "      <td>NA</td>\n",
       "      <td>NA</td>\n",
       "      <td>NA</td>\n",
       "      <td>NA</td>\n",
       "      <td>NA</td>\n",
       "    </tr>\n",
       "    <tr>\n",
       "      <th>5</th>\n",
       "      <td>NA</td>\n",
       "      <td>NA</td>\n",
       "      <td>cell</td>\n",
       "      <td>NA</td>\n",
       "      <td>NA</td>\n",
       "      <td>NA</td>\n",
       "      <td>NA</td>\n",
       "      <td>NA</td>\n",
       "      <td>NA</td>\n",
       "      <td>NA</td>\n",
       "    </tr>\n",
       "    <tr>\n",
       "      <th>6</th>\n",
       "      <td>NA</td>\n",
       "      <td>NA</td>\n",
       "      <td>NA</td>\n",
       "      <td>celle</td>\n",
       "      <td>NA</td>\n",
       "      <td>NA</td>\n",
       "      <td>NA</td>\n",
       "      <td>NA</td>\n",
       "      <td>NA</td>\n",
       "      <td>NA</td>\n",
       "    </tr>\n",
       "    <tr>\n",
       "      <th>7</th>\n",
       "      <td>NA</td>\n",
       "      <td>NA</td>\n",
       "      <td>NA</td>\n",
       "      <td>NA</td>\n",
       "      <td>celled</td>\n",
       "      <td>NA</td>\n",
       "      <td>NA</td>\n",
       "      <td>NA</td>\n",
       "      <td>NA</td>\n",
       "      <td>NA</td>\n",
       "    </tr>\n",
       "    <tr>\n",
       "      <th>8</th>\n",
       "      <td>NA</td>\n",
       "      <td>NA</td>\n",
       "      <td>NA</td>\n",
       "      <td>cello</td>\n",
       "      <td>NA</td>\n",
       "      <td>NA</td>\n",
       "      <td>NA</td>\n",
       "      <td>NA</td>\n",
       "      <td>NA</td>\n",
       "      <td>NA</td>\n",
       "    </tr>\n",
       "    <tr>\n",
       "      <th>9</th>\n",
       "      <td>NA</td>\n",
       "      <td>NA</td>\n",
       "      <td>celt</td>\n",
       "      <td>NA</td>\n",
       "      <td>NA</td>\n",
       "      <td>NA</td>\n",
       "      <td>NA</td>\n",
       "      <td>NA</td>\n",
       "      <td>NA</td>\n",
       "      <td>NA</td>\n",
       "    </tr>\n",
       "    <tr>\n",
       "      <th>10</th>\n",
       "      <td>NA</td>\n",
       "      <td>cep</td>\n",
       "      <td>NA</td>\n",
       "      <td>NA</td>\n",
       "      <td>NA</td>\n",
       "      <td>NA</td>\n",
       "      <td>NA</td>\n",
       "      <td>NA</td>\n",
       "      <td>NA</td>\n",
       "      <td>NA</td>\n",
       "    </tr>\n",
       "  </tbody>\n",
       "</table>\n",
       "</div>"
      ],
      "text/plain": [
       "length  2    3     4      5       6   7   8   9   10  12\n",
       "1       NA   NA  cede     NA      NA  NA  NA  NA  NA  NA\n",
       "2       NA   NA    NA  ceded      NA  NA  NA  NA  NA  NA\n",
       "3       NA  cee    NA     NA      NA  NA  NA  NA  NA  NA\n",
       "4       NA  cel    NA     NA      NA  NA  NA  NA  NA  NA\n",
       "5       NA   NA  cell     NA      NA  NA  NA  NA  NA  NA\n",
       "6       NA   NA    NA  celle      NA  NA  NA  NA  NA  NA\n",
       "7       NA   NA    NA     NA  celled  NA  NA  NA  NA  NA\n",
       "8       NA   NA    NA  cello      NA  NA  NA  NA  NA  NA\n",
       "9       NA   NA  celt     NA      NA  NA  NA  NA  NA  NA\n",
       "10      NA  cep    NA     NA      NA  NA  NA  NA  NA  NA"
      ]
     },
     "execution_count": 82,
     "metadata": {},
     "output_type": "execute_result"
    }
   ],
   "source": [
    "word_length_df = data.pivot(columns=\"length\", values=\"word\").fillna(\"NA\")[[2, 3, 4, 5, 6 , 7,\n",
    "                                                                            8, 9, 10, 12]]\n",
    "word_length_df.head(10)"
   ]
  },
  {
   "cell_type": "markdown",
   "id": "f7c678a1",
   "metadata": {},
   "source": [
    "# Now we can call a series and drop NA's to see all words of that length\n",
    "### Function that takes in the word length as your argument<br>and returns a Series with all words of that length"
   ]
  },
  {
   "cell_type": "code",
   "execution_count": 83,
   "id": "8fa9f522",
   "metadata": {},
   "outputs": [],
   "source": [
    "def get_words_length(n):\n",
    "    column = word_length_df[word_length_df[n].str.contains(\"NA\")==False]\n",
    "    return column[n]"
   ]
  },
  {
   "cell_type": "markdown",
   "id": "90d519e4",
   "metadata": {},
   "source": [
    "Series with word length 2"
   ]
  },
  {
   "cell_type": "code",
   "execution_count": 84,
   "id": "81c974a1",
   "metadata": {},
   "outputs": [
    {
     "name": "stdout",
     "output_type": "stream",
     "text": [
      "There are 11 words wtih two letters\n"
     ]
    },
    {
     "data": {
      "text/plain": [
       "148    do\n",
       "198    ed\n",
       "243    ez\n",
       "245    fe\n",
       "336    lo\n",
       "367    oc\n",
       "386    of\n",
       "392    ol\n",
       "410    op\n",
       "423    oz\n",
       "538    to\n",
       "Name: 2, dtype: object"
      ]
     },
     "execution_count": 84,
     "metadata": {},
     "output_type": "execute_result"
    }
   ],
   "source": [
    "twos = get_words_length(2)\n",
    "print(f\"There are {len(twos)} words wtih two letters\")\n",
    "twos"
   ]
  },
  {
   "cell_type": "markdown",
   "id": "d0cb75be",
   "metadata": {},
   "source": [
    "Series of word length 5"
   ]
  },
  {
   "cell_type": "code",
   "execution_count": 85,
   "id": "86eaf1b1",
   "metadata": {},
   "outputs": [
    {
     "name": "stdout",
     "output_type": "stream",
     "text": [
      "There are 102 words with five letters\n"
     ]
    },
    {
     "data": {
      "text/plain": [
       "2      ceded\n",
       "6      celle\n",
       "8      cello\n",
       "13     cette\n",
       "18     cleft\n",
       "       ...  \n",
       "594    zelle\n",
       "596    zette\n",
       "599    zocco\n",
       "602    zoete\n",
       "605    zolle\n",
       "Name: 5, Length: 102, dtype: object"
      ]
     },
     "execution_count": 85,
     "metadata": {},
     "output_type": "execute_result"
    }
   ],
   "source": [
    "fives = get_words_length(5)\n",
    "print(f\"There are {len(fives)} words with five letters\")\n",
    "fives"
   ]
  },
  {
   "cell_type": "markdown",
   "id": "ecb4186d",
   "metadata": {},
   "source": [
    "# Printing out some visuals of the word length distribution"
   ]
  },
  {
   "cell_type": "code",
   "execution_count": 86,
   "id": "21141130",
   "metadata": {},
   "outputs": [
    {
     "data": {
      "image/png": "[encoded data removed]",
      "text/plain": [
       "<Figure size 720x432 with 1 Axes>"
      ]
     },
     "metadata": {
      "needs_background": "light"
     },
     "output_type": "display_data"
    }
   ],
   "source": [
    "fig, ax = plt.subplots(figsize=(10, 6))\n",
    "\n",
    "ax = sns.countplot(x=\"length\", hue=\"source\", data=data, palette=\"Set1\")\n",
    "ax.legend(loc='upper right')\n",
    "ax.set_ylabel(\"Amount of Words\")\n",
    "ax.set_title(\"Word Length Distribution by Word List\");"
   ]
  },
  {
   "cell_type": "code",
   "execution_count": 87,
   "id": "cd57f6d1",
   "metadata": {},
   "outputs": [
    {
     "data": {
      "image/png": "[encoded data removed]",
      "text/plain": [
       "<Figure size 720x432 with 1 Axes>"
      ]
     },
     "metadata": {
      "needs_background": "light"
     },
     "output_type": "display_data"
    }
   ],
   "source": [
    "fig, ax = plt.subplots(figsize=(10,6))\n",
    "\n",
    "sns.histplot(data=data, x='length')\n",
    "ax.set_xlabel(\"Word Length\")\n",
    "ax.set_ylabel(\"Amount of Words\")\n",
    "ax.set_xticks(data['length'])\n",
    "ax.set_title(\"Overall Word-Length Distribution\");"
   ]
  },
  {
   "cell_type": "markdown",
   "id": "864b2ede",
   "metadata": {},
   "source": [
    "### How many words of each length are in the data?"
   ]
  },
  {
   "cell_type": "code",
   "execution_count": 88,
   "id": "66e837c3",
   "metadata": {},
   "outputs": [
    {
     "data": {
      "text/plain": [
       "4     192\n",
       "6     113\n",
       "3     112\n",
       "5     102\n",
       "7      33\n",
       "8      15\n",
       "2      11\n",
       "9       8\n",
       "10      1\n",
       "12      1\n",
       "Name: length, dtype: int64"
      ]
     },
     "execution_count": 88,
     "metadata": {},
     "output_type": "execute_result"
    }
   ],
   "source": [
    "data['length'].value_counts()"
   ]
  },
  {
   "cell_type": "markdown",
   "id": "14245a5b",
   "metadata": {},
   "source": [
    "Okay, we're loaded in the 3, 4, 5, 6 length range"
   ]
  },
  {
   "cell_type": "markdown",
   "id": "b696ea69",
   "metadata": {},
   "source": [
    "A nerdy print out of the word-length percentage "
   ]
  },
  {
   "cell_type": "code",
   "execution_count": 89,
   "id": "aa04843d",
   "metadata": {},
   "outputs": [
    {
     "data": {
      "text/plain": [
       "4     0.326531\n",
       "6     0.192177\n",
       "3     0.190476\n",
       "5     0.173469\n",
       "7     0.056122\n",
       "8     0.025510\n",
       "2     0.018707\n",
       "9     0.013605\n",
       "10    0.001701\n",
       "12    0.001701\n",
       "Name: length, dtype: float64"
      ]
     },
     "execution_count": 89,
     "metadata": {},
     "output_type": "execute_result"
    }
   ],
   "source": [
    "data['length'].value_counts(normalize=True)"
   ]
  },
  {
   "cell_type": "markdown",
   "id": "374c991d",
   "metadata": {},
   "source": [
    "## It would be cool if the data were normally distributed<br>but I have a hunch it isn't"
   ]
  },
  {
   "cell_type": "code",
   "execution_count": 90,
   "id": "9a2383e7",
   "metadata": {},
   "outputs": [
    {
     "data": {
      "image/png": "[encoded data removed]",
      "text/plain": [
       "<Figure size 432x288 with 1 Axes>"
      ]
     },
     "metadata": {
      "needs_background": "light"
     },
     "output_type": "display_data"
    }
   ],
   "source": [
    "counts = data['length'].value_counts(normalize=True)\n",
    "counts.plot.kde();"
   ]
  },
  {
   "cell_type": "markdown",
   "id": "3794a50a",
   "metadata": {},
   "source": [
    "### Not normally distributed. It skews right. Okay<br>We'll see if there's something we can do with it a little later"
   ]
  },
  {
   "cell_type": "markdown",
   "id": "6cbbbf93",
   "metadata": {},
   "source": [
    "## Another look at the distribution"
   ]
  },
  {
   "cell_type": "code",
   "execution_count": 91,
   "id": "33492423",
   "metadata": {
    "scrolled": true
   },
   "outputs": [
    {
     "data": {
      "image/png": "[encoded data removed]",
      "text/plain": [
       "<Figure size 432x288 with 1 Axes>"
      ]
     },
     "metadata": {
      "needs_background": "light"
     },
     "output_type": "display_data"
    }
   ],
   "source": [
    "data['length'].value_counts().plot(kind='bar', rot=0);"
   ]
  },
  {
   "cell_type": "markdown",
   "id": "7788dd4f",
   "metadata": {},
   "source": [
    "# Let's reset, here for a minute"
   ]
  },
  {
   "cell_type": "code",
   "execution_count": 92,
   "id": "78e29c61",
   "metadata": {},
   "outputs": [],
   "source": [
    "# Go here to find the wiki-100k.txt word list: https://gist.github.com/h3xx/1976236\n",
    "\n",
    "with open('/Users/nathanwalter/jobsearch/Eye-Chart-Words/Data/large_words/wiki-100k.txt') as wiki: \n",
    "    wiki = list(wiki)"
   ]
  },
  {
   "cell_type": "code",
   "execution_count": 93,
   "id": "8b57f96c",
   "metadata": {},
   "outputs": [
    {
     "data": {
      "text/plain": [
       "['#!comment: This is a list of the top 100,000 most frequently-used English words\\n',\n",
       " '#!comment: according to Wiktionary.\\n',\n",
       " '#!comment:\\n',\n",
       " '#!comment: It was compiled in August 2005 and coalesced into a handy list for\\n',\n",
       " '#!comment: use in John the Ripper.\\n',\n",
       " '#!comment:\\n',\n",
       " '#!comment:\\n',\n",
       " '#!comment: Pull date: Sun Jan 15 22:03:54 2012 GMT\\n',\n",
       " '#!comment:\\n',\n",
       " '#!comment: Sources:\\n',\n",
       " '#!comment:\\n',\n",
       " '#!comment: http://en.wiktionary.org/wiki/Wiktionary:Frequency_lists#Top_English_words_lists\\n',\n",
       " '#!comment: http://en.wiktionary.org/wiki/Wiktionary:Frequency_lists/PG/2005/08/1-10000\\n',\n",
       " '#!comment: http://en.wiktionary.org/wiki/Wiktionary:Frequency_lists/PG/2005/08/10001-20000\\n',\n",
       " '#!comment: http://en.wiktionary.org/wiki/Wiktionary:Frequency_lists/PG/2005/08/20001-30000\\n',\n",
       " '#!comment: http://en.wiktionary.org/wiki/Wiktionary:Frequency_lists/PG/2005/08/30001-40000\\n',\n",
       " '#!comment: http://en.wiktionary.org/wiki/Wiktionary:Frequency_lists/PG/2005/08/40001-50000\\n',\n",
       " '#!comment: http://en.wiktionary.org/wiki/Wiktionary:Frequency_lists/PG/2005/08/50001-60000\\n',\n",
       " '#!comment: http://en.wiktionary.org/wiki/Wiktionary:Frequency_lists/PG/2005/08/60001-70000\\n',\n",
       " '#!comment: http://en.wiktionary.org/wiki/Wiktionary:Frequency_lists/PG/2005/08/70001-80000\\n',\n",
       " '#!comment: http://en.wiktionary.org/wiki/Wiktionary:Frequency_lists/PG/2005/08/80001-90000\\n',\n",
       " '#!comment: http://en.wiktionary.org/wiki/Wiktionary:Frequency_lists/PG/2005/08/90001-100000\\n',\n",
       " '#!comment:\\n',\n",
       " '#!comment: Compiled by h3xx\\n',\n",
       " '#!comment:\\n',\n",
       " '#!comment: 1 - 100\\n',\n",
       " 'the\\n',\n",
       " 'of\\n',\n",
       " 'and\\n',\n",
       " 'to\\n']"
      ]
     },
     "execution_count": 93,
     "metadata": {},
     "output_type": "execute_result"
    }
   ],
   "source": [
    "## Let's have a look at the Wiki list of 100,000 words\n",
    "\n",
    "wiki[:30]"
   ]
  },
  {
   "cell_type": "markdown",
   "id": "c2cc33e1",
   "metadata": {},
   "source": [
    "### Looks like there is some extra stuff in there besides English words"
   ]
  },
  {
   "cell_type": "code",
   "execution_count": 94,
   "id": "3066ddaf",
   "metadata": {},
   "outputs": [],
   "source": [
    "import re\n",
    "import numpy as np"
   ]
  },
  {
   "cell_type": "markdown",
   "id": "5017d9fd",
   "metadata": {},
   "source": [
    "reading in the wiki list to pandas DataFrame to start cleaning"
   ]
  },
  {
   "cell_type": "code",
   "execution_count": 95,
   "id": "bd140bdd",
   "metadata": {},
   "outputs": [
    {
     "data": {
      "text/html": [
       "<div>\n",
       "<style scoped>\n",
       "    .dataframe tbody tr th:only-of-type {\n",
       "        vertical-align: middle;\n",
       "    }\n",
       "\n",
       "    .dataframe tbody tr th {\n",
       "        vertical-align: top;\n",
       "    }\n",
       "\n",
       "    .dataframe thead th {\n",
       "        text-align: right;\n",
       "    }\n",
       "</style>\n",
       "<table border=\"1\" class=\"dataframe\">\n",
       "  <thead>\n",
       "    <tr style=\"text-align: right;\">\n",
       "      <th></th>\n",
       "      <th>words</th>\n",
       "    </tr>\n",
       "  </thead>\n",
       "  <tbody>\n",
       "    <tr>\n",
       "      <th>0</th>\n",
       "      <td>#!comment: This is a list of the top 100,000 m...</td>\n",
       "    </tr>\n",
       "    <tr>\n",
       "      <th>1</th>\n",
       "      <td>#!comment: according to Wiktionary.\\n</td>\n",
       "    </tr>\n",
       "    <tr>\n",
       "      <th>2</th>\n",
       "      <td>#!comment:\\n</td>\n",
       "    </tr>\n",
       "    <tr>\n",
       "      <th>3</th>\n",
       "      <td>#!comment: It was compiled in August 2005 and ...</td>\n",
       "    </tr>\n",
       "    <tr>\n",
       "      <th>4</th>\n",
       "      <td>#!comment: use in John the Ripper.\\n</td>\n",
       "    </tr>\n",
       "  </tbody>\n",
       "</table>\n",
       "</div>"
      ],
      "text/plain": [
       "                                               words\n",
       "0  #!comment: This is a list of the top 100,000 m...\n",
       "1              #!comment: according to Wiktionary.\\n\n",
       "2                                       #!comment:\\n\n",
       "3  #!comment: It was compiled in August 2005 and ...\n",
       "4               #!comment: use in John the Ripper.\\n"
      ]
     },
     "execution_count": 95,
     "metadata": {},
     "output_type": "execute_result"
    }
   ],
   "source": [
    "wiki_df = pd.DataFrame(wiki, columns=['words'], dtype=str)\n",
    "wiki_df.head()"
   ]
  },
  {
   "cell_type": "markdown",
   "id": "51938d88",
   "metadata": {},
   "source": [
    "Print outs of the beginning and end of the DataFrame (technically a series)"
   ]
  },
  {
   "cell_type": "code",
   "execution_count": 96,
   "id": "3d408a0f",
   "metadata": {},
   "outputs": [
    {
     "data": {
      "text/html": [
       "<div>\n",
       "<style scoped>\n",
       "    .dataframe tbody tr th:only-of-type {\n",
       "        vertical-align: middle;\n",
       "    }\n",
       "\n",
       "    .dataframe tbody tr th {\n",
       "        vertical-align: top;\n",
       "    }\n",
       "\n",
       "    .dataframe thead th {\n",
       "        text-align: right;\n",
       "    }\n",
       "</style>\n",
       "<table border=\"1\" class=\"dataframe\">\n",
       "  <thead>\n",
       "    <tr style=\"text-align: right;\">\n",
       "      <th></th>\n",
       "      <th>words</th>\n",
       "    </tr>\n",
       "  </thead>\n",
       "  <tbody>\n",
       "    <tr>\n",
       "      <th>99923</th>\n",
       "      <td>ära\\n</td>\n",
       "    </tr>\n",
       "    <tr>\n",
       "      <th>99924</th>\n",
       "      <td>égoïste\\n</td>\n",
       "    </tr>\n",
       "    <tr>\n",
       "      <th>99925</th>\n",
       "      <td>AGE\\n</td>\n",
       "    </tr>\n",
       "    <tr>\n",
       "      <th>99926</th>\n",
       "      <td>Ack\\n</td>\n",
       "    </tr>\n",
       "    <tr>\n",
       "      <th>99927</th>\n",
       "      <td>Apennine</td>\n",
       "    </tr>\n",
       "  </tbody>\n",
       "</table>\n",
       "</div>"
      ],
      "text/plain": [
       "           words\n",
       "99923      ära\\n\n",
       "99924  égoïste\\n\n",
       "99925      AGE\\n\n",
       "99926      Ack\\n\n",
       "99927   Apennine"
      ]
     },
     "execution_count": 96,
     "metadata": {},
     "output_type": "execute_result"
    }
   ],
   "source": [
    "wiki_df.tail()"
   ]
  },
  {
   "cell_type": "markdown",
   "id": "a983a21b",
   "metadata": {},
   "source": [
    "### Finding all the rows with those pesky hashtags and exclamation marks"
   ]
  },
  {
   "cell_type": "code",
   "execution_count": 97,
   "id": "c3ba9911",
   "metadata": {},
   "outputs": [
    {
     "name": "stdout",
     "output_type": "stream",
     "text": [
      "                                                   words\n",
      "0      #!comment: This is a list of the top 100,000 m...\n",
      "1                  #!comment: according to Wiktionary.\\n\n",
      "2                                           #!comment:\\n\n",
      "3      #!comment: It was compiled in August 2005 and ...\n",
      "4                   #!comment: use in John the Ripper.\\n\n",
      "...                                                  ...\n",
      "99625                         #!comment: 99701 - 99800\\n\n",
      "99685                                   compuserve.com\\n\n",
      "99726                         #!comment: 99801 - 99900\\n\n",
      "99827                        #!comment: 99901 - 100000\\n\n",
      "99881                                           left.'\\n\n",
      "\n",
      "[1544 rows x 1 columns]\n"
     ]
    }
   ],
   "source": [
    "print(wiki_df[wiki_df.words.str.contains(r'[@#&$%+-/*]')])"
   ]
  },
  {
   "cell_type": "markdown",
   "id": "da0262d7",
   "metadata": {},
   "source": [
    "## Dropping all rows that were found to have non-English characters"
   ]
  },
  {
   "cell_type": "code",
   "execution_count": 98,
   "id": "22aa4479",
   "metadata": {},
   "outputs": [
    {
     "data": {
      "text/html": [
       "<div>\n",
       "<style scoped>\n",
       "    .dataframe tbody tr th:only-of-type {\n",
       "        vertical-align: middle;\n",
       "    }\n",
       "\n",
       "    .dataframe tbody tr th {\n",
       "        vertical-align: top;\n",
       "    }\n",
       "\n",
       "    .dataframe thead th {\n",
       "        text-align: right;\n",
       "    }\n",
       "</style>\n",
       "<table border=\"1\" class=\"dataframe\">\n",
       "  <thead>\n",
       "    <tr style=\"text-align: right;\">\n",
       "      <th></th>\n",
       "      <th>words</th>\n",
       "    </tr>\n",
       "  </thead>\n",
       "  <tbody>\n",
       "    <tr>\n",
       "      <th>26</th>\n",
       "      <td>the\\n</td>\n",
       "    </tr>\n",
       "    <tr>\n",
       "      <th>27</th>\n",
       "      <td>of\\n</td>\n",
       "    </tr>\n",
       "    <tr>\n",
       "      <th>28</th>\n",
       "      <td>and\\n</td>\n",
       "    </tr>\n",
       "    <tr>\n",
       "      <th>29</th>\n",
       "      <td>to\\n</td>\n",
       "    </tr>\n",
       "    <tr>\n",
       "      <th>30</th>\n",
       "      <td>a\\n</td>\n",
       "    </tr>\n",
       "    <tr>\n",
       "      <th>...</th>\n",
       "      <td>...</td>\n",
       "    </tr>\n",
       "    <tr>\n",
       "      <th>99923</th>\n",
       "      <td>ära\\n</td>\n",
       "    </tr>\n",
       "    <tr>\n",
       "      <th>99924</th>\n",
       "      <td>égoïste\\n</td>\n",
       "    </tr>\n",
       "    <tr>\n",
       "      <th>99925</th>\n",
       "      <td>AGE\\n</td>\n",
       "    </tr>\n",
       "    <tr>\n",
       "      <th>99926</th>\n",
       "      <td>Ack\\n</td>\n",
       "    </tr>\n",
       "    <tr>\n",
       "      <th>99927</th>\n",
       "      <td>Apennine</td>\n",
       "    </tr>\n",
       "  </tbody>\n",
       "</table>\n",
       "<p>98384 rows × 1 columns</p>\n",
       "</div>"
      ],
      "text/plain": [
       "           words\n",
       "26         the\\n\n",
       "27          of\\n\n",
       "28         and\\n\n",
       "29          to\\n\n",
       "30           a\\n\n",
       "...          ...\n",
       "99923      ära\\n\n",
       "99924  égoïste\\n\n",
       "99925      AGE\\n\n",
       "99926      Ack\\n\n",
       "99927   Apennine\n",
       "\n",
       "[98384 rows x 1 columns]"
      ]
     },
     "execution_count": 98,
     "metadata": {},
     "output_type": "execute_result"
    }
   ],
   "source": [
    "wiki_df.drop(wiki_df[wiki_df['words'].str.contains(r'[@#&$%+-/*]')].index, inplace=True)\n",
    "\n",
    "wiki_df"
   ]
  },
  {
   "cell_type": "markdown",
   "id": "0b41a171",
   "metadata": {},
   "source": [
    "### There are some foreign words left, but our pattern of letters<br>from the eye chart will filter them out for us"
   ]
  },
  {
   "cell_type": "markdown",
   "id": "e4e103ff",
   "metadata": {},
   "source": [
    "Removing the new line symbols (\\n) from our words "
   ]
  },
  {
   "cell_type": "code",
   "execution_count": 99,
   "id": "6b1cc83b",
   "metadata": {},
   "outputs": [],
   "source": [
    "wiki_df['words'] = wiki_df['words'].str.replace(\"\\n\", \"\")"
   ]
  },
  {
   "cell_type": "code",
   "execution_count": 100,
   "id": "f77a9eb5",
   "metadata": {},
   "outputs": [
    {
     "data": {
      "text/html": [
       "<div>\n",
       "<style scoped>\n",
       "    .dataframe tbody tr th:only-of-type {\n",
       "        vertical-align: middle;\n",
       "    }\n",
       "\n",
       "    .dataframe tbody tr th {\n",
       "        vertical-align: top;\n",
       "    }\n",
       "\n",
       "    .dataframe thead th {\n",
       "        text-align: right;\n",
       "    }\n",
       "</style>\n",
       "<table border=\"1\" class=\"dataframe\">\n",
       "  <thead>\n",
       "    <tr style=\"text-align: right;\">\n",
       "      <th></th>\n",
       "      <th>words</th>\n",
       "    </tr>\n",
       "  </thead>\n",
       "  <tbody>\n",
       "    <tr>\n",
       "      <th>26</th>\n",
       "      <td>the</td>\n",
       "    </tr>\n",
       "    <tr>\n",
       "      <th>27</th>\n",
       "      <td>of</td>\n",
       "    </tr>\n",
       "    <tr>\n",
       "      <th>28</th>\n",
       "      <td>and</td>\n",
       "    </tr>\n",
       "    <tr>\n",
       "      <th>29</th>\n",
       "      <td>to</td>\n",
       "    </tr>\n",
       "    <tr>\n",
       "      <th>30</th>\n",
       "      <td>a</td>\n",
       "    </tr>\n",
       "    <tr>\n",
       "      <th>...</th>\n",
       "      <td>...</td>\n",
       "    </tr>\n",
       "    <tr>\n",
       "      <th>99923</th>\n",
       "      <td>ära</td>\n",
       "    </tr>\n",
       "    <tr>\n",
       "      <th>99924</th>\n",
       "      <td>égoïste</td>\n",
       "    </tr>\n",
       "    <tr>\n",
       "      <th>99925</th>\n",
       "      <td>AGE</td>\n",
       "    </tr>\n",
       "    <tr>\n",
       "      <th>99926</th>\n",
       "      <td>Ack</td>\n",
       "    </tr>\n",
       "    <tr>\n",
       "      <th>99927</th>\n",
       "      <td>Apennine</td>\n",
       "    </tr>\n",
       "  </tbody>\n",
       "</table>\n",
       "<p>98384 rows × 1 columns</p>\n",
       "</div>"
      ],
      "text/plain": [
       "          words\n",
       "26          the\n",
       "27           of\n",
       "28          and\n",
       "29           to\n",
       "30            a\n",
       "...         ...\n",
       "99923       ära\n",
       "99924   égoïste\n",
       "99925       AGE\n",
       "99926       Ack\n",
       "99927  Apennine\n",
       "\n",
       "[98384 rows x 1 columns]"
      ]
     },
     "execution_count": 100,
     "metadata": {},
     "output_type": "execute_result"
    }
   ],
   "source": [
    "wiki_df"
   ]
  },
  {
   "cell_type": "markdown",
   "id": "c43936f0",
   "metadata": {},
   "source": [
    "# Here's where we differ from above. We're getting rid of all the words that start with capital letters "
   ]
  },
  {
   "cell_type": "code",
   "execution_count": 101,
   "id": "886989cb",
   "metadata": {},
   "outputs": [],
   "source": [
    "wiki_caps = wiki_df[~wiki_df['words'].str.contains('^[A-Z]+')]"
   ]
  },
  {
   "cell_type": "code",
   "execution_count": 102,
   "id": "49046b7d",
   "metadata": {},
   "outputs": [
    {
     "data": {
      "text/html": [
       "<div>\n",
       "<style scoped>\n",
       "    .dataframe tbody tr th:only-of-type {\n",
       "        vertical-align: middle;\n",
       "    }\n",
       "\n",
       "    .dataframe tbody tr th {\n",
       "        vertical-align: top;\n",
       "    }\n",
       "\n",
       "    .dataframe thead th {\n",
       "        text-align: right;\n",
       "    }\n",
       "</style>\n",
       "<table border=\"1\" class=\"dataframe\">\n",
       "  <thead>\n",
       "    <tr style=\"text-align: right;\">\n",
       "      <th></th>\n",
       "      <th>words</th>\n",
       "    </tr>\n",
       "  </thead>\n",
       "  <tbody>\n",
       "    <tr>\n",
       "      <th>26</th>\n",
       "      <td>the</td>\n",
       "    </tr>\n",
       "    <tr>\n",
       "      <th>27</th>\n",
       "      <td>of</td>\n",
       "    </tr>\n",
       "    <tr>\n",
       "      <th>28</th>\n",
       "      <td>and</td>\n",
       "    </tr>\n",
       "    <tr>\n",
       "      <th>29</th>\n",
       "      <td>to</td>\n",
       "    </tr>\n",
       "    <tr>\n",
       "      <th>30</th>\n",
       "      <td>a</td>\n",
       "    </tr>\n",
       "    <tr>\n",
       "      <th>...</th>\n",
       "      <td>...</td>\n",
       "    </tr>\n",
       "    <tr>\n",
       "      <th>99920</th>\n",
       "      <td>wateren</td>\n",
       "    </tr>\n",
       "    <tr>\n",
       "      <th>99921</th>\n",
       "      <td>wel</td>\n",
       "    </tr>\n",
       "    <tr>\n",
       "      <th>99922</th>\n",
       "      <td>withes</td>\n",
       "    </tr>\n",
       "    <tr>\n",
       "      <th>99923</th>\n",
       "      <td>ära</td>\n",
       "    </tr>\n",
       "    <tr>\n",
       "      <th>99924</th>\n",
       "      <td>égoïste</td>\n",
       "    </tr>\n",
       "  </tbody>\n",
       "</table>\n",
       "<p>66055 rows × 1 columns</p>\n",
       "</div>"
      ],
      "text/plain": [
       "         words\n",
       "26         the\n",
       "27          of\n",
       "28         and\n",
       "29          to\n",
       "30           a\n",
       "...        ...\n",
       "99920  wateren\n",
       "99921      wel\n",
       "99922   withes\n",
       "99923      ära\n",
       "99924  égoïste\n",
       "\n",
       "[66055 rows x 1 columns]"
      ]
     },
     "execution_count": 102,
     "metadata": {},
     "output_type": "execute_result"
    }
   ],
   "source": [
    "# seeing if there's a difference from the printed out df from just above\n",
    "\n",
    "wiki_caps"
   ]
  },
  {
   "cell_type": "markdown",
   "id": "afd38b08",
   "metadata": {},
   "source": [
    "### There it is! Now we've got all words that don't start with a capital letter"
   ]
  },
  {
   "cell_type": "code",
   "execution_count": 103,
   "id": "7478d1ee",
   "metadata": {},
   "outputs": [
    {
     "name": "stdout",
     "output_type": "stream",
     "text": [
      "\n",
      "Now we have a total of 66055 rows in our new DataFrame, minus the \n",
      "capitol letters (Proper Nouns). This little maneuver got rid of 32329\n",
      "words from our cleaned most popular wiki words list. Let's see how that effects\n",
      "our word list. I'm guessing it will contain a more coherent vocabular list, without\n",
      "all the proper nouns.\n",
      "\n"
     ]
    }
   ],
   "source": [
    "print(f\"\"\"\n",
    "Now we have a total of {len(wiki_caps)} rows in our new DataFrame, minus the \n",
    "capitol letters (Proper Nouns). This little maneuver got rid of {len(wiki_df) - len(wiki_caps)}\n",
    "words from our cleaned most popular wiki words list. Let's see how that effects\n",
    "our word list. I'm guessing it will contain a more coherent vocabular list, without\n",
    "all the proper nouns.\n",
    "\"\"\")"
   ]
  },
  {
   "cell_type": "markdown",
   "id": "d0aaa850",
   "metadata": {},
   "source": [
    "### We'll turn that Pandas DataFrame back into a list so we can<br>do some work with it"
   ]
  },
  {
   "cell_type": "code",
   "execution_count": 104,
   "id": "49d7acbb",
   "metadata": {},
   "outputs": [],
   "source": [
    "vals = wiki_caps['words']\n",
    "wiki_caps_list = vals.tolist()"
   ]
  },
  {
   "cell_type": "code",
   "execution_count": 105,
   "id": "34c48b9c",
   "metadata": {},
   "outputs": [
    {
     "name": "stdout",
     "output_type": "stream",
     "text": [
      "Using our function from above, the one with the break statement,\n",
      "we'll find all the words in our wiki list of 66055 \n",
      "that contain only letters from the Eye Chart. Super cool, isn't it?\n"
     ]
    }
   ],
   "source": [
    "print(f\"\"\"Using our function from above, the one with the break statement,\n",
    "we'll find all the words in our wiki list of {len(wiki_caps)} \n",
    "that contain only letters from the Eye Chart. Super cool, isn't it?\"\"\")"
   ]
  },
  {
   "cell_type": "code",
   "execution_count": 106,
   "id": "8af44524",
   "metadata": {},
   "outputs": [
    {
     "name": "stdout",
     "output_type": "stream",
     "text": [
      "['of', 'to', 'de', 'do', 'et', 'old', 'le', 'too', 'people', 'def', 'left', 'off', 'tell', 'told', 'let', 'felt', 'tt', 'feet', 'ce', 'feel', 'fell', 'deep', 'cold', 'led', 'el', 'effect', 'elle', 'te', 'fld', 'cd', 'col', 'cette', 'foot', 'etc', 'food', 'top', 'fee', 'do', 'del', 'lot', 'people', 'op', 'poet', 'too', 'lo', 'fool', 'to', 'det', 'off', 'cool', 'of', 'feet', 'fled', 'fleet', 'pp', 'collected', 'odd', 'cf', 'cet', 'deed', 'coffee', 'tot', 'ed', 'feed', 'defect', 'elected', 'fed', 'flood', 'left', 'zoo', 'plot', 'foe', 'folded', 'effect', 'ete', 'oft', 'ze', 'old', 'ole', 'effected', 'pl', 'celle', 'collect', 'elect', 'pot', 'cell', 'cold', 'food', 'foot', 'effet', 'pool', 'ett', 'pole', 'todo', 'code', 'ftp', 'detected', 'tell', 'deze', 'tete', 'toe', 'fold', 'pet', 'ed', 'doe', 'flee', 'fell', 'delete', 'cote', 'detect', 'ft', 'tel', 'telle', 'pope', 'top', 'tool', 'deep', 'lot', 'felt', 'depot', 'ff', 'peep', 'foe', 'ef', 'flooded', 'peeped', 'dotted', 'peopled', 'doll', 'cooled', 'oz', 'coffee', 'op', 'cleft', 'deed', 'zelf', 'ez', 'fled', 'feel', 'fete', 'pt', 'loop', 'delle', 'dot', 'cope', 'lee', 'cot', 'co', 'deeze', 'elle', 'fleet', 'olet', 'fol', 'toll', 'pl', 'felled', 'cool', 'zee', 'cell', 'dood', 'pe', 'po', 'loft', 'colt', 'll', 'ceded', 'flood', 'petted', 'fe', 'ode', 'peel', 'fooled', 'plot', 'zo', 'oo', 'pop', 'clef', 'loco', 'effected', 'folle', 'etc', 'dette', 'letzte', 'doet', 'fleece', 'fleete', 'col', 'cp', 'poop', 'dopo', 'pp', 'popped', 'dell', 'dozed', 'plotted', 'pole', 'peeled', 'pool', 'ee', 'doze', 'oot', 'poll', 'pot', 'eo', 'topped', 'de', 'cod', 'toe', 'deel', 'led', 'det', 'elf', 'deft', 'oe', 'leetle', 'elected', 'olleet', 'collected', 'dezelfde', 'poete', 'fed', 'ol', 'fece', 'flot', 'eel', 'clod', 'tete', 'ooze', 'olette', 'dole', 'plodded', 'floe', 'feed', 'cede', 'loot', 'pelted', 'olde', 'code', 'fold', 'toppled', 'pelo', 'tole', 'loc', 'detto', 'fee', 'pel', 'dote', 'pelt', 'pod', 'lod', 'ofte', 'tolled', 'tee', 'polo', 'ted', 'odd', 'doce', 'poodle', 'looped', 'fel', 'od', 'fop', 'doffed', 'flee', 'ot', 'cc', 'doll', 'ello', 'oozed', 'edle', 'flotte', 'deflected', 'depot', 'doo', 'potted', 'cooped', 'eld', 'dolce', 'zette', 'efecto', 'doel', 'ell', 'ette', 'pet', 'depleted', 'effete', 'petto', 'ope', 'detected', 'colle', 'clotted', 'fl', 'defect', 'cop', 'pope', 'lopped', 'coop', 'dee', 'toto', 'tle', 'eloped', 'footed', 'tool', 'zelfde', 'fez', 'epee', 'effet', 'oedd', 'tote', 'topple', 'fede', 'lolled', 'foote', 'deepe', 'et', 'fo', 'lode', 'dope', 'ple', 'leed', 'el', 'cel', 'loopt', 'dle', 'plod', 'elect', 'cote', 'lop', 'cot', 'edel', 'foole', 'zele', 'elope', 'olelo', 'flopped', 'doff', 'tepee', 'doted', 'dolt', 'cle', 'let', 'fete', 'loft', 'flop', 'looted', 'pelf', 'eet', 'cooed', 'coo', 'popolo', 'dello', 'polled', 'lec', 'ep', 'letto', 'ft', 'doppelt', 'co', 'teepee', 'collo', 'zzzzz', 'zoete', 'opp', 'll', 'tolde', 'collect', 'collet', 'cf', 'doze', 'zet', 'doled', 'tol', 'coz', 'edele', 'pellet', 'telled', 'loll', 'leefde', 'foll', 'leeft', 'cod', 'otto', 'todo', 'toot', 'todt', 'dede', 'pol', 'toll', 'toddle', 'fl', 'colpo', 'tot', 'fleeced', 'pelle', 'feele', 'poop', 'decl', 'oop', 'doe', 'clept']\n",
      "442\n"
     ]
    }
   ],
   "source": [
    "pattern = 'epfdoctlz'\n",
    "word_list = wiki_caps_list\n",
    "\n",
    "wiki_caps_words = snellen_words(pattern, word_list)\n",
    "print(wiki_caps_words[:400])\n",
    "print(len(wiki_caps_words))"
   ]
  },
  {
   "cell_type": "code",
   "execution_count": 107,
   "id": "4602b66e",
   "metadata": {},
   "outputs": [
    {
     "name": "stdout",
     "output_type": "stream",
     "text": [
      "\n",
      "There are 329 fewer words in our cleaned up, \n",
      "non-proper-noun list of wiki words.\n",
      "\n"
     ]
    }
   ],
   "source": [
    "print(f\"\"\"\n",
    "There are {len(wiki_words) - len(wiki_caps_words)} fewer words in our cleaned up, \n",
    "non-proper-noun list of wiki words.\n",
    "\"\"\")"
   ]
  },
  {
   "cell_type": "code",
   "execution_count": 108,
   "id": "7bcb5b8b",
   "metadata": {},
   "outputs": [
    {
     "name": "stdout",
     "output_type": "stream",
     "text": [
      " There are 442 words made soley from the letters of the Snellen Card \n",
      "in our list of 100,000 most popular wiki words.\n"
     ]
    }
   ],
   "source": [
    "wiki_caps_len = len(wiki_caps_words)\n",
    "print(f\"\"\" There are {wiki_caps_len} words made soley from the letters of the Snellen Card \n",
    "in our list of 100,000 most popular wiki words.\"\"\")"
   ]
  },
  {
   "cell_type": "markdown",
   "id": "166660ed",
   "metadata": {},
   "source": [
    "## A look at the new, cleaner wiki words "
   ]
  },
  {
   "cell_type": "code",
   "execution_count": 109,
   "id": "b5dc8bc7",
   "metadata": {},
   "outputs": [
    {
     "name": "stdout",
     "output_type": "stream",
     "text": [
      "['of', 'to', 'de', 'do', 'et', 'old', 'le', 'too', 'people', 'def', 'left', 'off', 'tell', 'told', 'let', 'felt', 'tt', 'feet', 'ce', 'feel', 'fell', 'deep', 'cold', 'led', 'el', 'effect', 'elle', 'te', 'fld', 'cd', 'col', 'cette', 'foot', 'etc', 'food', 'top', 'fee', 'do', 'del', 'lot', 'people', 'op', 'poet', 'too', 'lo', 'fool', 'to', 'det', 'off', 'cool', 'of', 'feet', 'fled', 'fleet', 'pp', 'collected', 'odd', 'cf', 'cet', 'deed', 'coffee', 'tot', 'ed', 'feed', 'defect', 'elected', 'fed', 'flood', 'left', 'zoo', 'plot', 'foe', 'folded', 'effect', 'ete', 'oft', 'ze', 'old', 'ole', 'effected', 'pl', 'celle', 'collect', 'elect', 'pot', 'cell', 'cold', 'food', 'foot', 'effet', 'pool', 'ett', 'pole', 'todo', 'code', 'ftp', 'detected', 'tell', 'deze', 'tete', 'toe', 'fold', 'pet', 'ed', 'doe', 'flee', 'fell', 'delete', 'cote', 'detect', 'ft', 'tel', 'telle', 'pope', 'top', 'tool', 'deep', 'lot', 'felt', 'depot', 'ff', 'peep', 'foe', 'ef', 'flooded', 'peeped', 'dotted', 'peopled', 'doll', 'cooled', 'oz', 'coffee', 'op', 'cleft', 'deed', 'zelf', 'ez', 'fled', 'feel', 'fete', 'pt', 'loop', 'delle', 'dot', 'cope', 'lee', 'cot', 'co', 'deeze', 'elle', 'fleet', 'olet', 'fol', 'toll', 'pl', 'felled', 'cool', 'zee', 'cell', 'dood', 'pe', 'po', 'loft', 'colt', 'll', 'ceded', 'flood', 'petted', 'fe', 'ode', 'peel', 'fooled', 'plot', 'zo', 'oo', 'pop', 'clef', 'loco', 'effected', 'folle', 'etc', 'dette', 'letzte', 'doet', 'fleece', 'fleete', 'col', 'cp', 'poop', 'dopo', 'pp', 'popped', 'dell', 'dozed', 'plotted', 'pole', 'peeled', 'pool', 'ee', 'doze', 'oot', 'poll', 'pot', 'eo', 'topped', 'de', 'cod', 'toe', 'deel', 'led', 'det', 'elf', 'deft', 'oe', 'leetle', 'elected', 'olleet', 'collected', 'dezelfde', 'poete', 'fed', 'ol', 'fece', 'flot', 'eel', 'clod', 'tete', 'ooze', 'olette', 'dole', 'plodded', 'floe', 'feed', 'cede', 'loot', 'pelted', 'olde', 'code', 'fold', 'toppled', 'pelo', 'tole', 'loc', 'detto', 'fee', 'pel', 'dote', 'pelt', 'pod', 'lod', 'ofte', 'tolled', 'tee', 'polo', 'ted', 'odd', 'doce', 'poodle', 'looped', 'fel', 'od', 'fop', 'doffed', 'flee', 'ot', 'cc', 'doll', 'ello', 'oozed', 'edle', 'flotte', 'deflected', 'depot', 'doo', 'potted', 'cooped', 'eld', 'dolce', 'zette', 'efecto', 'doel', 'ell', 'ette', 'pet', 'depleted', 'effete', 'petto', 'ope', 'detected', 'colle', 'clotted', 'fl', 'defect', 'cop', 'pope', 'lopped', 'coop', 'dee', 'toto', 'tle', 'eloped', 'footed', 'tool', 'zelfde', 'fez', 'epee', 'effet', 'oedd', 'tote', 'topple', 'fede', 'lolled', 'foote', 'deepe', 'et', 'fo', 'lode', 'dope', 'ple', 'leed', 'el', 'cel', 'loopt', 'dle', 'plod', 'elect', 'cote', 'lop', 'cot', 'edel', 'foole', 'zele', 'elope', 'olelo', 'flopped', 'doff', 'tepee', 'doted', 'dolt', 'cle', 'let', 'fete', 'loft', 'flop', 'looted', 'pelf', 'eet', 'cooed', 'coo', 'popolo', 'dello', 'polled', 'lec', 'ep', 'letto', 'ft', 'doppelt', 'co', 'teepee', 'collo', 'zzzzz', 'zoete', 'opp', 'll', 'tolde', 'collect', 'collet', 'cf', 'doze', 'zet', 'doled', 'tol', 'coz', 'edele', 'pellet', 'telled', 'loll', 'leefde', 'foll', 'leeft', 'cod', 'otto', 'todo', 'toot', 'todt', 'dede', 'pol', 'toll', 'toddle', 'fl', 'colpo', 'tot', 'fleeced', 'pelle', 'feele', 'poop', 'decl', 'oop', 'doe', 'clept', 'loo', 'clot', 'feted', 'dot', 'folded', 'colde', 'colt', 'foco', 'oppe', 'ele', 'peece', 'pop', 'fod', 'cooled', 'lof', 'coelo', 'toddled', 'telco', 'deflect', 'doot', 'eft', 'peple', 'tte', 'pede', 'ff', 'coco', 'ole', 'coot', 'lope', 'coll', 'ecco', 'fet', 'ze', 'tope', 'lette', 'coffle', 'to', 'zee', 'poll', 'feete', 'ecole', 'doode']\n"
     ]
    }
   ],
   "source": [
    "print(wiki_caps_words)"
   ]
  },
  {
   "cell_type": "markdown",
   "id": "cf8a5f8f",
   "metadata": {},
   "source": [
    "# Now that we've got a cleaner list of wiki words<br>made from the Snellen Chart let's just make a DF<br>with the new wiki words list, the one without capitals"
   ]
  },
  {
   "cell_type": "markdown",
   "id": "1a84c4ac",
   "metadata": {},
   "source": [
    "## We'll still compare the words to the NLTK list of real english words"
   ]
  },
  {
   "cell_type": "markdown",
   "id": "7805509f",
   "metadata": {},
   "source": [
    "### Let's see how the wiki caps Eye Chart words compare to the nltk eye chart words"
   ]
  },
  {
   "cell_type": "code",
   "execution_count": 110,
   "id": "1a55ab9d",
   "metadata": {},
   "outputs": [
    {
     "name": "stdout",
     "output_type": "stream",
     "text": [
      "['folded', 'eel', 'fe', 'peeled', 'fleeced', 'ode', 'pet', 'pellet', 'collected', 'plot', 'dote', 'oe', 'toll', 'feel', 'left', 'fee', 'flot', 'dell', 'top', 'flooded', 'toto', 'dope', 'lee', 'loot', 'tete', 'lot', 'zo', 'fod', 'poll', 'tepee', 'floe', 'leed', 'cope', 'coop', 'poet', 'odd', 'defect', 'oft', 'coot', 'poodle', 'pelf', 'col', 'cold', 'ce', 'loll', 'poop', 'clef', 'fled', 'lope', 'deflect', 'loop', 'led', 'effete', 'flop', 'dolt', 'te', 'ecole', 'pelt', 'po', 'delete', 'topple', 'clot', 'cop', 'pol', 'ooze', 'elf', 'plod', 'doted', 'polled', 'collect', 'fet', 'loft', 'zoo', 'topped', 'deflected', 'people', 'fed', 'peel', 'peep', 'of', 'deed', 'tool', 'food', 'de', 'lof', 'tee', 'fool', 'clod', 'ted', 'coz', 'petted', 'code', 'deep', 'dotted', 'off', 'fleet', 'lo', 'dee', 'told', 'plotted', 'loco', 'lop', 'feed', 'coll', 'eft', 'pole', 'dole', 'elle', 'colt', 'cell', 'flood', 'ell', 'eld', 'polo', 'toot', 'do', 'cote', 'flee', 'pope', 'pod', 'cool', 'doll', 'otto', 'dozed', 'fop', 'doze', 'fell', 'tole', 'coffle', 'coco', 'to', 'potted', 'footed', 'epee', 'tell', 'coffee', 'tot', 'too', 'cede', 'lode', 'pot', 'elope', 'loo', 'pop', 'lod', 'tote', 'doe', 'cot', 'cleft', 'dot', 'tope', 'el', 'depot', 'ope', 'effect', 'fold', 'deft', 'elect', 'toddle', 'old', 'zee', 'cod', 'toe', 'tol', 'fez', 'doff', 'foe', 'collet', 'od', 'detect', 'let', 'fleece', 'coo', 'foot', 'pool', 'felt']\n"
     ]
    }
   ],
   "source": [
    "# Find common elements of set and list\n",
    "wiki_caps_set = set(wiki_caps_words)\n",
    "intersection = wiki_caps_set.intersection(set(chart_words))\n",
    "\n",
    "intersection_as_list3 = list(intersection)\n",
    "\n",
    "\n",
    "print(intersection_as_list3)"
   ]
  },
  {
   "cell_type": "code",
   "execution_count": 111,
   "id": "a07ee92f",
   "metadata": {},
   "outputs": [],
   "source": [
    "intersect3 = len(intersection_as_list2)\n",
    "wiki_caps_length = len(wiki_caps_set)"
   ]
  },
  {
   "cell_type": "code",
   "execution_count": 112,
   "id": "31333fb4",
   "metadata": {},
   "outputs": [
    {
     "name": "stdout",
     "output_type": "stream",
     "text": [
      " Thre are 176 words in common between \n",
      "the wiki snellen words and the nltk snellen words. This also means that there are \n",
      "155 words in the wiki eye chart words that aren't in the \n",
      "nltk eye chart words.\n"
     ]
    }
   ],
   "source": [
    "\n",
    "\n",
    "print(f\"\"\" Thre are {len(intersection_as_list3)} words in common between \n",
    "the wiki snellen words and the nltk snellen words. This also means that there are \n",
    "{len(wiki_caps_set) - intersect3} words in the wiki eye chart words that aren't in the \n",
    "nltk eye chart words.\"\"\")"
   ]
  },
  {
   "cell_type": "markdown",
   "id": "bb07927c",
   "metadata": {},
   "source": [
    "## Here's the list of Wiki Caps Eye Chart words which are different<br>than anything we've seen so far"
   ]
  },
  {
   "cell_type": "code",
   "execution_count": 113,
   "id": "91c52f91",
   "metadata": {},
   "outputs": [
    {
     "name": "stdout",
     "output_type": "stream",
     "text": [
      "['etc', 'tt', 'fl', 'doffed', 'felled', 'deel', 'fel', 'ed', 'leeft', 'telled', 'zet', 'colle', 'leetle', 'pede', 'loc', 'olleet', 'olelo', 'edel', 'todo', 'cet', 'zette', 'poete', 'ello', 'letto', 'clept', 'decl', 'folle', 'peopled', 'teepee', 'def', 'delle', 'popolo', 'letzte', 'edle', 'det', 'looted', 'ete', 'ft', 'looped', 'ette', 'doppelt', 'zzzzz', 'ole', 'fo', 'detected', 'doce', 'petto', 'dello', 'cette', 'dood', 'deepe', 'cd', 'effected', 'foote', 'lette', 'olet', 'foll', 'pp', 'cf', 'pl', 'zele', 'effet', 'fece', 'ef', 'toppled', 'deze', 'tolde', 'oedd', 'pel', 'lolled', 'ele', 'del', 'ceded', 'ze', 'lec', 'cooled', 'clotted', 'cel', 'edele', 'ff', 'doode', 'fol', 'fld', 'ol', 'eloped', 'pelo', 'leefde', 'flopped', 'zoete', 'coelo', 'ett', 'ez', 'oozed', 'tel', 'ot', 'elected', 'doled', 'll', 'doot', 'peece', 'pe', 'fooled', 'fede', 'le', 'eet', 'cooed', 'deeze', 'cooped', 'eo', 'peeped', 'dle', 'fleete', 'todt', 'foole', 'feete', 'oot', 'colpo', 'toddled', 'doo', 'tolled', 'op', 'co', 'dolce', 'ple', 'ee', 'ep', 'oo', 'loopt', 'feet', 'et', 'dede', 'fete', 'popped', 'oppe', 'telco', 'lopped', 'dopo', 'doet', 'plodded', 'feted', 'pt', 'colde', 'telle', 'ftp', 'oz', 'efecto', 'depleted', 'peple', 'olde', 'cle', 'tte', 'dette', 'doel', 'oop', 'ofte', 'zelf', 'celle', 'cc', 'feele', 'zelfde', 'cp', 'ecco', 'olette', 'flotte', 'collo', 'foco', 'opp', 'pelle', 'tle', 'detto', 'dezelfde', 'pelted']\n"
     ]
    }
   ],
   "source": [
    "only_in_wiki_caps = list(set(wiki_caps_words) - set(chart_words))\n",
    "print(only_in_wiki_caps)"
   ]
  },
  {
   "cell_type": "markdown",
   "id": "ba5b483a",
   "metadata": {},
   "source": [
    "# Making the Wiki Caps Eye DataFrame<br>Here we can work with just one word list<br>we'll see if this makes things better or worse"
   ]
  },
  {
   "cell_type": "code",
   "execution_count": 114,
   "id": "b68c319d",
   "metadata": {},
   "outputs": [],
   "source": [
    "lists = {'nltk' : chart_words, 'wiki' : only_in_wiki_caps}\n",
    "\n",
    "data_caps = pd.DataFrame([(k, e, len(e)) for k, l in lists.items() for e in l],\n",
    "                   columns = ['source', 'word', 'length'])"
   ]
  },
  {
   "cell_type": "markdown",
   "id": "1e36437b",
   "metadata": {},
   "source": [
    "### Having a look at the top of the DataFrame"
   ]
  },
  {
   "cell_type": "code",
   "execution_count": 115,
   "id": "810327e4",
   "metadata": {},
   "outputs": [
    {
     "data": {
      "text/html": [
       "<div>\n",
       "<style scoped>\n",
       "    .dataframe tbody tr th:only-of-type {\n",
       "        vertical-align: middle;\n",
       "    }\n",
       "\n",
       "    .dataframe tbody tr th {\n",
       "        vertical-align: top;\n",
       "    }\n",
       "\n",
       "    .dataframe thead th {\n",
       "        text-align: right;\n",
       "    }\n",
       "</style>\n",
       "<table border=\"1\" class=\"dataframe\">\n",
       "  <thead>\n",
       "    <tr style=\"text-align: right;\">\n",
       "      <th></th>\n",
       "      <th>source</th>\n",
       "      <th>word</th>\n",
       "      <th>length</th>\n",
       "    </tr>\n",
       "  </thead>\n",
       "  <tbody>\n",
       "    <tr>\n",
       "      <th>0</th>\n",
       "      <td>nltk</td>\n",
       "      <td>ce</td>\n",
       "      <td>2</td>\n",
       "    </tr>\n",
       "    <tr>\n",
       "      <th>1</th>\n",
       "      <td>nltk</td>\n",
       "      <td>cede</td>\n",
       "      <td>4</td>\n",
       "    </tr>\n",
       "    <tr>\n",
       "      <th>2</th>\n",
       "      <td>nltk</td>\n",
       "      <td>cee</td>\n",
       "      <td>3</td>\n",
       "    </tr>\n",
       "    <tr>\n",
       "      <th>3</th>\n",
       "      <td>nltk</td>\n",
       "      <td>cell</td>\n",
       "      <td>4</td>\n",
       "    </tr>\n",
       "    <tr>\n",
       "      <th>4</th>\n",
       "      <td>nltk</td>\n",
       "      <td>celled</td>\n",
       "      <td>6</td>\n",
       "    </tr>\n",
       "  </tbody>\n",
       "</table>\n",
       "</div>"
      ],
      "text/plain": [
       "  source    word  length\n",
       "0   nltk      ce       2\n",
       "1   nltk    cede       4\n",
       "2   nltk     cee       3\n",
       "3   nltk    cell       4\n",
       "4   nltk  celled       6"
      ]
     },
     "execution_count": 115,
     "metadata": {},
     "output_type": "execute_result"
    }
   ],
   "source": [
    "data_caps.head()"
   ]
  },
  {
   "cell_type": "markdown",
   "id": "6a09f34f",
   "metadata": {},
   "source": [
    "### And let's see if the wiki eye chart words were added to the bottom<br> of the DataFrame and labeled under the source column correctly"
   ]
  },
  {
   "cell_type": "code",
   "execution_count": 116,
   "id": "b4869fa3",
   "metadata": {},
   "outputs": [
    {
     "data": {
      "text/html": [
       "<div>\n",
       "<style scoped>\n",
       "    .dataframe tbody tr th:only-of-type {\n",
       "        vertical-align: middle;\n",
       "    }\n",
       "\n",
       "    .dataframe tbody tr th {\n",
       "        vertical-align: top;\n",
       "    }\n",
       "\n",
       "    .dataframe thead th {\n",
       "        text-align: right;\n",
       "    }\n",
       "</style>\n",
       "<table border=\"1\" class=\"dataframe\">\n",
       "  <thead>\n",
       "    <tr style=\"text-align: right;\">\n",
       "      <th></th>\n",
       "      <th>source</th>\n",
       "      <th>word</th>\n",
       "      <th>length</th>\n",
       "    </tr>\n",
       "  </thead>\n",
       "  <tbody>\n",
       "    <tr>\n",
       "      <th>571</th>\n",
       "      <td>wiki</td>\n",
       "      <td>pelle</td>\n",
       "      <td>5</td>\n",
       "    </tr>\n",
       "    <tr>\n",
       "      <th>572</th>\n",
       "      <td>wiki</td>\n",
       "      <td>tle</td>\n",
       "      <td>3</td>\n",
       "    </tr>\n",
       "    <tr>\n",
       "      <th>573</th>\n",
       "      <td>wiki</td>\n",
       "      <td>detto</td>\n",
       "      <td>5</td>\n",
       "    </tr>\n",
       "    <tr>\n",
       "      <th>574</th>\n",
       "      <td>wiki</td>\n",
       "      <td>dezelfde</td>\n",
       "      <td>8</td>\n",
       "    </tr>\n",
       "    <tr>\n",
       "      <th>575</th>\n",
       "      <td>wiki</td>\n",
       "      <td>pelted</td>\n",
       "      <td>6</td>\n",
       "    </tr>\n",
       "  </tbody>\n",
       "</table>\n",
       "</div>"
      ],
      "text/plain": [
       "    source      word  length\n",
       "571   wiki     pelle       5\n",
       "572   wiki       tle       3\n",
       "573   wiki     detto       5\n",
       "574   wiki  dezelfde       8\n",
       "575   wiki    pelted       6"
      ]
     },
     "execution_count": 116,
     "metadata": {},
     "output_type": "execute_result"
    }
   ],
   "source": [
    "data_caps.tail()"
   ]
  },
  {
   "cell_type": "markdown",
   "id": "73e4ace4",
   "metadata": {},
   "source": [
    "## Looks good. The NLTK Eye Chart words are at the top and the Wiki Caps Test Card words are at the bottom.\n",
    "### The source column tells us where the words came from "
   ]
  },
  {
   "cell_type": "code",
   "execution_count": 117,
   "id": "e180b1f7",
   "metadata": {},
   "outputs": [
    {
     "name": "stdout",
     "output_type": "stream",
     "text": [
      "We now have 576 words from two differen sources. \n",
      "All of the words are comprised soley of letters from the Snellen Eye Chart!\n"
     ]
    }
   ],
   "source": [
    "print(f\"\"\"We now have {len(data_caps)} words from two differen sources. \n",
    "All of the words are comprised soley of letters from the Snellen Eye Chart!\"\"\")"
   ]
  },
  {
   "cell_type": "markdown",
   "id": "b2a7ca1e",
   "metadata": {},
   "source": [
    "# I think we can safely remove any rows with words<br>that have no vowels"
   ]
  },
  {
   "cell_type": "markdown",
   "id": "52c14a24",
   "metadata": {},
   "source": [
    "### isolating the rows without vowels"
   ]
  },
  {
   "cell_type": "code",
   "execution_count": 118,
   "id": "eccbb286",
   "metadata": {},
   "outputs": [
    {
     "name": "stdout",
     "output_type": "stream",
     "text": [
      "    source   word  length\n",
      "405   wiki     tt       2\n",
      "406   wiki     fl       2\n",
      "441   wiki     ft       2\n",
      "445   wiki  zzzzz       5\n",
      "455   wiki     cd       2\n",
      "461   wiki     pp       2\n",
      "462   wiki     cf       2\n",
      "463   wiki     pl       2\n",
      "483   wiki     ff       2\n",
      "486   wiki    fld       3\n",
      "501   wiki     ll       2\n",
      "544   wiki     pt       2\n",
      "547   wiki    ftp       3\n",
      "561   wiki     cc       2\n",
      "564   wiki     cp       2\n"
     ]
    }
   ],
   "source": [
    "no_vowels_caps = (data_caps[data_caps['word'].str.count('(?i)[aeiou]') < 1])\n",
    "no_vowels_list = no_vowels_caps.values.tolist()\n",
    "print(no_vowels_caps)\n",
    "\n",
    "#print(wiki_df[wiki_df.words.str.contains(r'[@#&$%+-/*]')])\n",
    "#wiki_df.drop(wiki_df[wiki_df['words'].str.contains(r'[@#&$%+-/*]')].index, inplace=True)"
   ]
  },
  {
   "cell_type": "code",
   "execution_count": 119,
   "id": "084c73c4",
   "metadata": {},
   "outputs": [
    {
     "name": "stdout",
     "output_type": "stream",
     "text": [
      " There are 15 words with no vowels \n"
     ]
    }
   ],
   "source": [
    "print(f\"\"\" There are {len(no_vowels_list)} words with no vowels \"\"\")"
   ]
  },
  {
   "cell_type": "markdown",
   "id": "19e739f6",
   "metadata": {},
   "source": [
    "### Dropping those rows"
   ]
  },
  {
   "cell_type": "code",
   "execution_count": 120,
   "id": "b7674451",
   "metadata": {},
   "outputs": [],
   "source": [
    "data_caps.drop(data_caps[data_caps['word'].str.count('(?i)[aeiou]') < 1].index, inplace=True)"
   ]
  },
  {
   "cell_type": "code",
   "execution_count": 121,
   "id": "ae495c59",
   "metadata": {},
   "outputs": [],
   "source": [
    "data_caps = data_caps.reset_index(drop=True)"
   ]
  },
  {
   "cell_type": "code",
   "execution_count": 122,
   "id": "5ca57be9",
   "metadata": {},
   "outputs": [
    {
     "name": "stdout",
     "output_type": "stream",
     "text": [
      "After dropping the rows with words \n",
      "that have no vowels we're left with 561 rows \n",
      "in our DataFrame\n"
     ]
    }
   ],
   "source": [
    "print(f\"\"\"After dropping the rows with words \n",
    "that have no vowels we're left with {len(data_caps)} rows \n",
    "in our DataFrame\"\"\")"
   ]
  },
  {
   "cell_type": "markdown",
   "id": "3c01000f",
   "metadata": {},
   "source": [
    "some nltk examples"
   ]
  },
  {
   "cell_type": "code",
   "execution_count": 123,
   "id": "0249a536",
   "metadata": {},
   "outputs": [
    {
     "data": {
      "text/html": [
       "<div>\n",
       "<style scoped>\n",
       "    .dataframe tbody tr th:only-of-type {\n",
       "        vertical-align: middle;\n",
       "    }\n",
       "\n",
       "    .dataframe tbody tr th {\n",
       "        vertical-align: top;\n",
       "    }\n",
       "\n",
       "    .dataframe thead th {\n",
       "        text-align: right;\n",
       "    }\n",
       "</style>\n",
       "<table border=\"1\" class=\"dataframe\">\n",
       "  <thead>\n",
       "    <tr style=\"text-align: right;\">\n",
       "      <th></th>\n",
       "      <th>source</th>\n",
       "      <th>word</th>\n",
       "      <th>length</th>\n",
       "    </tr>\n",
       "  </thead>\n",
       "  <tbody>\n",
       "    <tr>\n",
       "      <th>0</th>\n",
       "      <td>nltk</td>\n",
       "      <td>ce</td>\n",
       "      <td>2</td>\n",
       "    </tr>\n",
       "    <tr>\n",
       "      <th>1</th>\n",
       "      <td>nltk</td>\n",
       "      <td>cede</td>\n",
       "      <td>4</td>\n",
       "    </tr>\n",
       "    <tr>\n",
       "      <th>2</th>\n",
       "      <td>nltk</td>\n",
       "      <td>cee</td>\n",
       "      <td>3</td>\n",
       "    </tr>\n",
       "    <tr>\n",
       "      <th>3</th>\n",
       "      <td>nltk</td>\n",
       "      <td>cell</td>\n",
       "      <td>4</td>\n",
       "    </tr>\n",
       "    <tr>\n",
       "      <th>4</th>\n",
       "      <td>nltk</td>\n",
       "      <td>celled</td>\n",
       "      <td>6</td>\n",
       "    </tr>\n",
       "  </tbody>\n",
       "</table>\n",
       "</div>"
      ],
      "text/plain": [
       "  source    word  length\n",
       "0   nltk      ce       2\n",
       "1   nltk    cede       4\n",
       "2   nltk     cee       3\n",
       "3   nltk    cell       4\n",
       "4   nltk  celled       6"
      ]
     },
     "execution_count": 123,
     "metadata": {},
     "output_type": "execute_result"
    }
   ],
   "source": [
    "data_caps.head()"
   ]
  },
  {
   "cell_type": "markdown",
   "id": "69fdfb43",
   "metadata": {},
   "source": [
    "some wiki caps words"
   ]
  },
  {
   "cell_type": "code",
   "execution_count": 124,
   "id": "2a16cecd",
   "metadata": {},
   "outputs": [
    {
     "data": {
      "text/html": [
       "<div>\n",
       "<style scoped>\n",
       "    .dataframe tbody tr th:only-of-type {\n",
       "        vertical-align: middle;\n",
       "    }\n",
       "\n",
       "    .dataframe tbody tr th {\n",
       "        vertical-align: top;\n",
       "    }\n",
       "\n",
       "    .dataframe thead th {\n",
       "        text-align: right;\n",
       "    }\n",
       "</style>\n",
       "<table border=\"1\" class=\"dataframe\">\n",
       "  <thead>\n",
       "    <tr style=\"text-align: right;\">\n",
       "      <th></th>\n",
       "      <th>source</th>\n",
       "      <th>word</th>\n",
       "      <th>length</th>\n",
       "    </tr>\n",
       "  </thead>\n",
       "  <tbody>\n",
       "    <tr>\n",
       "      <th>556</th>\n",
       "      <td>wiki</td>\n",
       "      <td>pelle</td>\n",
       "      <td>5</td>\n",
       "    </tr>\n",
       "    <tr>\n",
       "      <th>557</th>\n",
       "      <td>wiki</td>\n",
       "      <td>tle</td>\n",
       "      <td>3</td>\n",
       "    </tr>\n",
       "    <tr>\n",
       "      <th>558</th>\n",
       "      <td>wiki</td>\n",
       "      <td>detto</td>\n",
       "      <td>5</td>\n",
       "    </tr>\n",
       "    <tr>\n",
       "      <th>559</th>\n",
       "      <td>wiki</td>\n",
       "      <td>dezelfde</td>\n",
       "      <td>8</td>\n",
       "    </tr>\n",
       "    <tr>\n",
       "      <th>560</th>\n",
       "      <td>wiki</td>\n",
       "      <td>pelted</td>\n",
       "      <td>6</td>\n",
       "    </tr>\n",
       "  </tbody>\n",
       "</table>\n",
       "</div>"
      ],
      "text/plain": [
       "    source      word  length\n",
       "556   wiki     pelle       5\n",
       "557   wiki       tle       3\n",
       "558   wiki     detto       5\n",
       "559   wiki  dezelfde       8\n",
       "560   wiki    pelted       6"
      ]
     },
     "execution_count": 124,
     "metadata": {},
     "output_type": "execute_result"
    }
   ],
   "source": [
    "data_caps.tail()"
   ]
  },
  {
   "cell_type": "code",
   "execution_count": 125,
   "id": "737e8f29",
   "metadata": {},
   "outputs": [
    {
     "data": {
      "text/plain": [
       "561"
      ]
     },
     "execution_count": 125,
     "metadata": {},
     "output_type": "execute_result"
    }
   ],
   "source": [
    "len(data_caps)"
   ]
  },
  {
   "cell_type": "markdown",
   "id": "7cfb45e7",
   "metadata": {},
   "source": [
    "#### Getting a look at all the two-letter words"
   ]
  },
  {
   "cell_type": "code",
   "execution_count": 126,
   "id": "c0542276",
   "metadata": {},
   "outputs": [
    {
     "data": {
      "text/html": [
       "<div>\n",
       "<style scoped>\n",
       "    .dataframe tbody tr th:only-of-type {\n",
       "        vertical-align: middle;\n",
       "    }\n",
       "\n",
       "    .dataframe tbody tr th {\n",
       "        vertical-align: top;\n",
       "    }\n",
       "\n",
       "    .dataframe thead th {\n",
       "        text-align: right;\n",
       "    }\n",
       "</style>\n",
       "<table border=\"1\" class=\"dataframe\">\n",
       "  <thead>\n",
       "    <tr style=\"text-align: right;\">\n",
       "      <th></th>\n",
       "      <th>source</th>\n",
       "      <th>word</th>\n",
       "      <th>length</th>\n",
       "    </tr>\n",
       "  </thead>\n",
       "  <tbody>\n",
       "    <tr>\n",
       "      <th>0</th>\n",
       "      <td>nltk</td>\n",
       "      <td>ce</td>\n",
       "      <td>2</td>\n",
       "    </tr>\n",
       "    <tr>\n",
       "      <th>79</th>\n",
       "      <td>nltk</td>\n",
       "      <td>de</td>\n",
       "      <td>2</td>\n",
       "    </tr>\n",
       "    <tr>\n",
       "      <th>101</th>\n",
       "      <td>nltk</td>\n",
       "      <td>do</td>\n",
       "      <td>2</td>\n",
       "    </tr>\n",
       "    <tr>\n",
       "      <th>136</th>\n",
       "      <td>nltk</td>\n",
       "      <td>el</td>\n",
       "      <td>2</td>\n",
       "    </tr>\n",
       "    <tr>\n",
       "      <th>151</th>\n",
       "      <td>nltk</td>\n",
       "      <td>fe</td>\n",
       "      <td>2</td>\n",
       "    </tr>\n",
       "    <tr>\n",
       "      <th>206</th>\n",
       "      <td>nltk</td>\n",
       "      <td>lo</td>\n",
       "      <td>2</td>\n",
       "    </tr>\n",
       "    <tr>\n",
       "      <th>233</th>\n",
       "      <td>nltk</td>\n",
       "      <td>od</td>\n",
       "      <td>2</td>\n",
       "    </tr>\n",
       "    <tr>\n",
       "      <th>238</th>\n",
       "      <td>nltk</td>\n",
       "      <td>oe</td>\n",
       "      <td>2</td>\n",
       "    </tr>\n",
       "    <tr>\n",
       "      <th>239</th>\n",
       "      <td>nltk</td>\n",
       "      <td>of</td>\n",
       "      <td>2</td>\n",
       "    </tr>\n",
       "    <tr>\n",
       "      <th>285</th>\n",
       "      <td>nltk</td>\n",
       "      <td>po</td>\n",
       "      <td>2</td>\n",
       "    </tr>\n",
       "    <tr>\n",
       "      <th>320</th>\n",
       "      <td>nltk</td>\n",
       "      <td>te</td>\n",
       "      <td>2</td>\n",
       "    </tr>\n",
       "    <tr>\n",
       "      <th>338</th>\n",
       "      <td>nltk</td>\n",
       "      <td>to</td>\n",
       "      <td>2</td>\n",
       "    </tr>\n",
       "    <tr>\n",
       "      <th>381</th>\n",
       "      <td>nltk</td>\n",
       "      <td>zo</td>\n",
       "      <td>2</td>\n",
       "    </tr>\n",
       "    <tr>\n",
       "      <th>390</th>\n",
       "      <td>nltk</td>\n",
       "      <td>do</td>\n",
       "      <td>2</td>\n",
       "    </tr>\n",
       "    <tr>\n",
       "      <th>397</th>\n",
       "      <td>nltk</td>\n",
       "      <td>of</td>\n",
       "      <td>2</td>\n",
       "    </tr>\n",
       "    <tr>\n",
       "      <th>401</th>\n",
       "      <td>nltk</td>\n",
       "      <td>to</td>\n",
       "      <td>2</td>\n",
       "    </tr>\n",
       "    <tr>\n",
       "      <th>409</th>\n",
       "      <td>wiki</td>\n",
       "      <td>ed</td>\n",
       "      <td>2</td>\n",
       "    </tr>\n",
       "    <tr>\n",
       "      <th>443</th>\n",
       "      <td>wiki</td>\n",
       "      <td>fo</td>\n",
       "      <td>2</td>\n",
       "    </tr>\n",
       "    <tr>\n",
       "      <th>459</th>\n",
       "      <td>wiki</td>\n",
       "      <td>ef</td>\n",
       "      <td>2</td>\n",
       "    </tr>\n",
       "    <tr>\n",
       "      <th>469</th>\n",
       "      <td>wiki</td>\n",
       "      <td>ze</td>\n",
       "      <td>2</td>\n",
       "    </tr>\n",
       "    <tr>\n",
       "      <th>477</th>\n",
       "      <td>wiki</td>\n",
       "      <td>ol</td>\n",
       "      <td>2</td>\n",
       "    </tr>\n",
       "    <tr>\n",
       "      <th>485</th>\n",
       "      <td>wiki</td>\n",
       "      <td>ez</td>\n",
       "      <td>2</td>\n",
       "    </tr>\n",
       "    <tr>\n",
       "      <th>488</th>\n",
       "      <td>wiki</td>\n",
       "      <td>ot</td>\n",
       "      <td>2</td>\n",
       "    </tr>\n",
       "    <tr>\n",
       "      <th>493</th>\n",
       "      <td>wiki</td>\n",
       "      <td>pe</td>\n",
       "      <td>2</td>\n",
       "    </tr>\n",
       "    <tr>\n",
       "      <th>496</th>\n",
       "      <td>wiki</td>\n",
       "      <td>le</td>\n",
       "      <td>2</td>\n",
       "    </tr>\n",
       "    <tr>\n",
       "      <th>501</th>\n",
       "      <td>wiki</td>\n",
       "      <td>eo</td>\n",
       "      <td>2</td>\n",
       "    </tr>\n",
       "    <tr>\n",
       "      <th>513</th>\n",
       "      <td>wiki</td>\n",
       "      <td>op</td>\n",
       "      <td>2</td>\n",
       "    </tr>\n",
       "    <tr>\n",
       "      <th>514</th>\n",
       "      <td>wiki</td>\n",
       "      <td>co</td>\n",
       "      <td>2</td>\n",
       "    </tr>\n",
       "    <tr>\n",
       "      <th>517</th>\n",
       "      <td>wiki</td>\n",
       "      <td>ee</td>\n",
       "      <td>2</td>\n",
       "    </tr>\n",
       "    <tr>\n",
       "      <th>518</th>\n",
       "      <td>wiki</td>\n",
       "      <td>ep</td>\n",
       "      <td>2</td>\n",
       "    </tr>\n",
       "    <tr>\n",
       "      <th>519</th>\n",
       "      <td>wiki</td>\n",
       "      <td>oo</td>\n",
       "      <td>2</td>\n",
       "    </tr>\n",
       "    <tr>\n",
       "      <th>522</th>\n",
       "      <td>wiki</td>\n",
       "      <td>et</td>\n",
       "      <td>2</td>\n",
       "    </tr>\n",
       "    <tr>\n",
       "      <th>535</th>\n",
       "      <td>wiki</td>\n",
       "      <td>oz</td>\n",
       "      <td>2</td>\n",
       "    </tr>\n",
       "  </tbody>\n",
       "</table>\n",
       "</div>"
      ],
      "text/plain": [
       "    source word  length\n",
       "0     nltk   ce       2\n",
       "79    nltk   de       2\n",
       "101   nltk   do       2\n",
       "136   nltk   el       2\n",
       "151   nltk   fe       2\n",
       "206   nltk   lo       2\n",
       "233   nltk   od       2\n",
       "238   nltk   oe       2\n",
       "239   nltk   of       2\n",
       "285   nltk   po       2\n",
       "320   nltk   te       2\n",
       "338   nltk   to       2\n",
       "381   nltk   zo       2\n",
       "390   nltk   do       2\n",
       "397   nltk   of       2\n",
       "401   nltk   to       2\n",
       "409   wiki   ed       2\n",
       "443   wiki   fo       2\n",
       "459   wiki   ef       2\n",
       "469   wiki   ze       2\n",
       "477   wiki   ol       2\n",
       "485   wiki   ez       2\n",
       "488   wiki   ot       2\n",
       "493   wiki   pe       2\n",
       "496   wiki   le       2\n",
       "501   wiki   eo       2\n",
       "513   wiki   op       2\n",
       "514   wiki   co       2\n",
       "517   wiki   ee       2\n",
       "518   wiki   ep       2\n",
       "519   wiki   oo       2\n",
       "522   wiki   et       2\n",
       "535   wiki   oz       2"
      ]
     },
     "execution_count": 126,
     "metadata": {},
     "output_type": "execute_result"
    }
   ],
   "source": [
    "caps_two = data_caps.loc[data_caps['length'] == 2] #153, 204, 254, 401, 409, 443, 561\n",
    "\n",
    "#uncomment below to see records with 2-lettered words\n",
    "caps_two"
   ]
  },
  {
   "cell_type": "markdown",
   "id": "bf4eeaa2",
   "metadata": {},
   "source": [
    "Getting rid of all the non-english two-letter words"
   ]
  },
  {
   "cell_type": "code",
   "execution_count": 127,
   "id": "42a84cb6",
   "metadata": {},
   "outputs": [],
   "source": [
    "rows = [519, 500, 490, 443, 424, 417, 429] \n",
    "\n",
    "data_caps.drop(data_caps.index[rows], inplace=True,)"
   ]
  },
  {
   "cell_type": "code",
   "execution_count": 128,
   "id": "8cba6a6c",
   "metadata": {},
   "outputs": [
    {
     "name": "stdout",
     "output_type": "stream",
     "text": [
      "\n",
      "So after getting rid of all the nonsense two-letter words, our \n",
      "dataframe has 554 rows of wiki words and nltk words \n",
      "made from the letters of the Eye Chart\n",
      "\n"
     ]
    }
   ],
   "source": [
    "print(f\"\"\"\n",
    "So after getting rid of all the nonsense two-letter words, our \n",
    "dataframe has {len(data_caps)} rows of wiki words and nltk words \n",
    "made from the letters of the Eye Chart\n",
    "\"\"\")"
   ]
  },
  {
   "cell_type": "markdown",
   "id": "fe101f1b",
   "metadata": {},
   "source": [
    "A look at the first nltk words in the df"
   ]
  },
  {
   "cell_type": "code",
   "execution_count": 129,
   "id": "c90ae1ab",
   "metadata": {},
   "outputs": [
    {
     "data": {
      "text/html": [
       "<div>\n",
       "<style scoped>\n",
       "    .dataframe tbody tr th:only-of-type {\n",
       "        vertical-align: middle;\n",
       "    }\n",
       "\n",
       "    .dataframe tbody tr th {\n",
       "        vertical-align: top;\n",
       "    }\n",
       "\n",
       "    .dataframe thead th {\n",
       "        text-align: right;\n",
       "    }\n",
       "</style>\n",
       "<table border=\"1\" class=\"dataframe\">\n",
       "  <thead>\n",
       "    <tr style=\"text-align: right;\">\n",
       "      <th></th>\n",
       "      <th>source</th>\n",
       "      <th>word</th>\n",
       "      <th>length</th>\n",
       "    </tr>\n",
       "  </thead>\n",
       "  <tbody>\n",
       "    <tr>\n",
       "      <th>0</th>\n",
       "      <td>nltk</td>\n",
       "      <td>ce</td>\n",
       "      <td>2</td>\n",
       "    </tr>\n",
       "    <tr>\n",
       "      <th>1</th>\n",
       "      <td>nltk</td>\n",
       "      <td>cede</td>\n",
       "      <td>4</td>\n",
       "    </tr>\n",
       "    <tr>\n",
       "      <th>2</th>\n",
       "      <td>nltk</td>\n",
       "      <td>cee</td>\n",
       "      <td>3</td>\n",
       "    </tr>\n",
       "    <tr>\n",
       "      <th>3</th>\n",
       "      <td>nltk</td>\n",
       "      <td>cell</td>\n",
       "      <td>4</td>\n",
       "    </tr>\n",
       "    <tr>\n",
       "      <th>4</th>\n",
       "      <td>nltk</td>\n",
       "      <td>celled</td>\n",
       "      <td>6</td>\n",
       "    </tr>\n",
       "    <tr>\n",
       "      <th>5</th>\n",
       "      <td>nltk</td>\n",
       "      <td>cello</td>\n",
       "      <td>5</td>\n",
       "    </tr>\n",
       "    <tr>\n",
       "      <th>6</th>\n",
       "      <td>nltk</td>\n",
       "      <td>celt</td>\n",
       "      <td>4</td>\n",
       "    </tr>\n",
       "    <tr>\n",
       "      <th>7</th>\n",
       "      <td>nltk</td>\n",
       "      <td>cep</td>\n",
       "      <td>3</td>\n",
       "    </tr>\n",
       "    <tr>\n",
       "      <th>8</th>\n",
       "      <td>nltk</td>\n",
       "      <td>cepe</td>\n",
       "      <td>4</td>\n",
       "    </tr>\n",
       "    <tr>\n",
       "      <th>9</th>\n",
       "      <td>nltk</td>\n",
       "      <td>cled</td>\n",
       "      <td>4</td>\n",
       "    </tr>\n",
       "  </tbody>\n",
       "</table>\n",
       "</div>"
      ],
      "text/plain": [
       "  source    word  length\n",
       "0   nltk      ce       2\n",
       "1   nltk    cede       4\n",
       "2   nltk     cee       3\n",
       "3   nltk    cell       4\n",
       "4   nltk  celled       6\n",
       "5   nltk   cello       5\n",
       "6   nltk    celt       4\n",
       "7   nltk     cep       3\n",
       "8   nltk    cepe       4\n",
       "9   nltk    cled       4"
      ]
     },
     "execution_count": 129,
     "metadata": {},
     "output_type": "execute_result"
    }
   ],
   "source": [
    "data_caps.head(10)"
   ]
  },
  {
   "cell_type": "markdown",
   "id": "2b2a4412",
   "metadata": {},
   "source": [
    "and a look at the wiki words in the df"
   ]
  },
  {
   "cell_type": "code",
   "execution_count": 130,
   "id": "4f32552b",
   "metadata": {},
   "outputs": [
    {
     "data": {
      "text/html": [
       "<div>\n",
       "<style scoped>\n",
       "    .dataframe tbody tr th:only-of-type {\n",
       "        vertical-align: middle;\n",
       "    }\n",
       "\n",
       "    .dataframe tbody tr th {\n",
       "        vertical-align: top;\n",
       "    }\n",
       "\n",
       "    .dataframe thead th {\n",
       "        text-align: right;\n",
       "    }\n",
       "</style>\n",
       "<table border=\"1\" class=\"dataframe\">\n",
       "  <thead>\n",
       "    <tr style=\"text-align: right;\">\n",
       "      <th></th>\n",
       "      <th>source</th>\n",
       "      <th>word</th>\n",
       "      <th>length</th>\n",
       "    </tr>\n",
       "  </thead>\n",
       "  <tbody>\n",
       "    <tr>\n",
       "      <th>551</th>\n",
       "      <td>wiki</td>\n",
       "      <td>olette</td>\n",
       "      <td>6</td>\n",
       "    </tr>\n",
       "    <tr>\n",
       "      <th>552</th>\n",
       "      <td>wiki</td>\n",
       "      <td>flotte</td>\n",
       "      <td>6</td>\n",
       "    </tr>\n",
       "    <tr>\n",
       "      <th>553</th>\n",
       "      <td>wiki</td>\n",
       "      <td>collo</td>\n",
       "      <td>5</td>\n",
       "    </tr>\n",
       "    <tr>\n",
       "      <th>554</th>\n",
       "      <td>wiki</td>\n",
       "      <td>foco</td>\n",
       "      <td>4</td>\n",
       "    </tr>\n",
       "    <tr>\n",
       "      <th>555</th>\n",
       "      <td>wiki</td>\n",
       "      <td>opp</td>\n",
       "      <td>3</td>\n",
       "    </tr>\n",
       "    <tr>\n",
       "      <th>556</th>\n",
       "      <td>wiki</td>\n",
       "      <td>pelle</td>\n",
       "      <td>5</td>\n",
       "    </tr>\n",
       "    <tr>\n",
       "      <th>557</th>\n",
       "      <td>wiki</td>\n",
       "      <td>tle</td>\n",
       "      <td>3</td>\n",
       "    </tr>\n",
       "    <tr>\n",
       "      <th>558</th>\n",
       "      <td>wiki</td>\n",
       "      <td>detto</td>\n",
       "      <td>5</td>\n",
       "    </tr>\n",
       "    <tr>\n",
       "      <th>559</th>\n",
       "      <td>wiki</td>\n",
       "      <td>dezelfde</td>\n",
       "      <td>8</td>\n",
       "    </tr>\n",
       "    <tr>\n",
       "      <th>560</th>\n",
       "      <td>wiki</td>\n",
       "      <td>pelted</td>\n",
       "      <td>6</td>\n",
       "    </tr>\n",
       "  </tbody>\n",
       "</table>\n",
       "</div>"
      ],
      "text/plain": [
       "    source      word  length\n",
       "551   wiki    olette       6\n",
       "552   wiki    flotte       6\n",
       "553   wiki     collo       5\n",
       "554   wiki      foco       4\n",
       "555   wiki       opp       3\n",
       "556   wiki     pelle       5\n",
       "557   wiki       tle       3\n",
       "558   wiki     detto       5\n",
       "559   wiki  dezelfde       8\n",
       "560   wiki    pelted       6"
      ]
     },
     "execution_count": 130,
     "metadata": {},
     "output_type": "execute_result"
    }
   ],
   "source": [
    "data_caps.tail(10)"
   ]
  },
  {
   "cell_type": "markdown",
   "id": "22004965",
   "metadata": {},
   "source": [
    "# Let's see which words from our new wiki list are in nltk"
   ]
  },
  {
   "cell_type": "code",
   "execution_count": 131,
   "id": "afcb83aa",
   "metadata": {},
   "outputs": [],
   "source": [
    "wiki_nltk_common = data_caps[data_caps['word'].duplicated()].drop('source', axis=1)"
   ]
  },
  {
   "cell_type": "code",
   "execution_count": 132,
   "id": "b321fb16",
   "metadata": {},
   "outputs": [
    {
     "data": {
      "text/html": [
       "<div>\n",
       "<style scoped>\n",
       "    .dataframe tbody tr th:only-of-type {\n",
       "        vertical-align: middle;\n",
       "    }\n",
       "\n",
       "    .dataframe tbody tr th {\n",
       "        vertical-align: top;\n",
       "    }\n",
       "\n",
       "    .dataframe thead th {\n",
       "        text-align: right;\n",
       "    }\n",
       "</style>\n",
       "<table border=\"1\" class=\"dataframe\">\n",
       "  <thead>\n",
       "    <tr style=\"text-align: right;\">\n",
       "      <th></th>\n",
       "      <th>word</th>\n",
       "      <th>length</th>\n",
       "    </tr>\n",
       "  </thead>\n",
       "  <tbody>\n",
       "    <tr>\n",
       "      <th>388</th>\n",
       "      <td>cold</td>\n",
       "      <td>4</td>\n",
       "    </tr>\n",
       "    <tr>\n",
       "      <th>389</th>\n",
       "      <td>deep</td>\n",
       "      <td>4</td>\n",
       "    </tr>\n",
       "    <tr>\n",
       "      <th>390</th>\n",
       "      <td>do</td>\n",
       "      <td>2</td>\n",
       "    </tr>\n",
       "    <tr>\n",
       "      <th>391</th>\n",
       "      <td>effect</td>\n",
       "      <td>6</td>\n",
       "    </tr>\n",
       "    <tr>\n",
       "      <th>392</th>\n",
       "      <td>fold</td>\n",
       "      <td>4</td>\n",
       "    </tr>\n",
       "    <tr>\n",
       "      <th>393</th>\n",
       "      <td>food</td>\n",
       "      <td>4</td>\n",
       "    </tr>\n",
       "    <tr>\n",
       "      <th>394</th>\n",
       "      <td>foot</td>\n",
       "      <td>4</td>\n",
       "    </tr>\n",
       "    <tr>\n",
       "      <th>395</th>\n",
       "      <td>left</td>\n",
       "      <td>4</td>\n",
       "    </tr>\n",
       "    <tr>\n",
       "      <th>396</th>\n",
       "      <td>let</td>\n",
       "      <td>3</td>\n",
       "    </tr>\n",
       "    <tr>\n",
       "      <th>397</th>\n",
       "      <td>of</td>\n",
       "      <td>2</td>\n",
       "    </tr>\n",
       "    <tr>\n",
       "      <th>398</th>\n",
       "      <td>off</td>\n",
       "      <td>3</td>\n",
       "    </tr>\n",
       "    <tr>\n",
       "      <th>399</th>\n",
       "      <td>old</td>\n",
       "      <td>3</td>\n",
       "    </tr>\n",
       "    <tr>\n",
       "      <th>400</th>\n",
       "      <td>pot</td>\n",
       "      <td>3</td>\n",
       "    </tr>\n",
       "    <tr>\n",
       "      <th>401</th>\n",
       "      <td>to</td>\n",
       "      <td>2</td>\n",
       "    </tr>\n",
       "    <tr>\n",
       "      <th>402</th>\n",
       "      <td>toe</td>\n",
       "      <td>3</td>\n",
       "    </tr>\n",
       "    <tr>\n",
       "      <th>403</th>\n",
       "      <td>top</td>\n",
       "      <td>3</td>\n",
       "    </tr>\n",
       "  </tbody>\n",
       "</table>\n",
       "</div>"
      ],
      "text/plain": [
       "       word  length\n",
       "388    cold       4\n",
       "389    deep       4\n",
       "390      do       2\n",
       "391  effect       6\n",
       "392    fold       4\n",
       "393    food       4\n",
       "394    foot       4\n",
       "395    left       4\n",
       "396     let       3\n",
       "397      of       2\n",
       "398     off       3\n",
       "399     old       3\n",
       "400     pot       3\n",
       "401      to       2\n",
       "402     toe       3\n",
       "403     top       3"
      ]
     },
     "execution_count": 132,
     "metadata": {},
     "output_type": "execute_result"
    }
   ],
   "source": [
    "wiki_nltk_common"
   ]
  },
  {
   "cell_type": "markdown",
   "id": "da4606c9",
   "metadata": {},
   "source": [
    "## From 100,000 words to 16 "
   ]
  },
  {
   "cell_type": "code",
   "execution_count": 133,
   "id": "1ee6807e",
   "metadata": {},
   "outputs": [
    {
     "name": "stdout",
     "output_type": "stream",
     "text": [
      "\n",
      "There are 16 words in our refined wiki list of 100,000\n",
      "words that are in nltk. All sixteen are real-life words, \n",
      "made soley from the letters of the Snellen Test Card.\n",
      "\n"
     ]
    }
   ],
   "source": [
    "print(f\"\"\"\n",
    "There are {len(wiki_nltk_common)} words in our refined wiki list of 100,000\n",
    "words that are in nltk. All sixteen are real-life words, \n",
    "made soley from the letters of the Snellen Test Card.\n",
    "\"\"\")"
   ]
  },
  {
   "cell_type": "code",
   "execution_count": 134,
   "id": "674759d3",
   "metadata": {},
   "outputs": [],
   "source": [
    "wiki_caps_list = wiki_nltk_common['word'].to_list()"
   ]
  },
  {
   "cell_type": "markdown",
   "id": "342350c7",
   "metadata": {},
   "source": [
    " Print out of the wiki_caps words from nltk.<br>Let's have them be capitalized since that's<br>how they appear on the Test Card"
   ]
  },
  {
   "cell_type": "code",
   "execution_count": 135,
   "id": "31e0e3ab",
   "metadata": {},
   "outputs": [
    {
     "name": "stdout",
     "output_type": "stream",
     "text": [
      "1 COLD\n",
      "2 DEEP\n",
      "3 DO\n",
      "4 EFFECT\n",
      "5 FOLD\n",
      "6 FOOD\n",
      "7 FOOT\n",
      "8 LEFT\n",
      "9 LET\n",
      "10 OF\n",
      "11 OFF\n",
      "12 OLD\n",
      "13 POT\n",
      "14 TO\n",
      "15 TOE\n",
      "16 TOP\n"
     ]
    }
   ],
   "source": [
    "for number, letter in enumerate(wiki_caps_list, start = 1):\n",
    "    print(number, letter.upper())\n"
   ]
  }
 ],
 "metadata": {
  "kernelspec": {
   "display_name": "firstEnv",
   "language": "python",
   "name": "firstenv"
  },
  "language_info": {
   "codemirror_mode": {
    "name": "ipython",
    "version": 3
   },
   "file_extension": ".py",
   "mimetype": "text/x-python",
   "name": "python",
   "nbconvert_exporter": "python",
   "pygments_lexer": "ipython3",
   "version": "3.9.6"
  },
  "toc": {
   "base_numbering": 1,
   "nav_menu": {},
   "number_sections": true,
   "sideBar": true,
   "skip_h1_title": false,
   "title_cell": "Table of Contents",
   "title_sidebar": "Contents",
   "toc_cell": false,
   "toc_position": {},
   "toc_section_display": true,
   "toc_window_display": false
  }
 },
 "nbformat": 4,
 "nbformat_minor": 5
}
